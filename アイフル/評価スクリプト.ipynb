{
 "cells": [
  {
   "cell_type": "markdown",
   "metadata": {},
   "source": [
    "+ ②貸出成功件数＝貸出件数ー事故件数\n",
    "+ ③営業利益＝貸出金額×0.18ー事故金額"
   ]
  },
  {
   "cell_type": "code",
   "execution_count": null,
   "metadata": {},
   "outputs": [],
   "source": [
    "import pandas as pd\n",
    "\n",
    "df_true = pd.read_csv(\"検証用-正解ラベル付き.csv\", encoding=\"sjis\")\n",
    "df_pred = pd.read_csv(\"提出サンプル1.csv\", encoding=\"sjis\")"
   ]
  },
  {
   "cell_type": "code",
   "execution_count": null,
   "metadata": {},
   "outputs": [],
   "source": [
    "# 貸付件数\n",
    "all_count = len(df_pred[df_pred[\"貸付金額\"]>0])\n",
    "# 事故件数\n",
    "jiko_count = df_true[df_pred[\"貸付金額\"]>0][\"１２ヶ月事故\"].sum()\n",
    "# 貸付成功件数\n",
    "success_count = all_count - jiko_count\n",
    "print(\"貸付成功件数 : \", success_count)"
   ]
  },
  {
   "cell_type": "code",
   "execution_count": null,
   "metadata": {},
   "outputs": [],
   "source": [
    "# 貸出成功金額\n",
    "success_amount = df_pred[df_true[\"１２ヶ月事故\"]==0][\"貸付金額\"].sum()\n",
    "# 事故金額\n",
    "jiko_amount = df_pred[df_true[\"１２ヶ月事故\"]==1][\"貸付金額\"].sum()\n",
    "# 営業利益\n",
    "profit = success_amount * 0.18 - jiko_amount\n",
    "print(\"営業利益 : \", profit)"
   ]
  }
 ],
 "metadata": {
  "kernelspec": {
   "display_name": "Python 3",
   "language": "python",
   "name": "python3"
  },
  "language_info": {
   "codemirror_mode": {
    "name": "ipython",
    "version": 3
   },
   "file_extension": ".py",
   "mimetype": "text/x-python",
   "name": "python",
   "nbconvert_exporter": "python",
   "pygments_lexer": "ipython3",
   "version": "3.7.2"
  }
 },
 "nbformat": 4,
 "nbformat_minor": 2
}
