{
 "cells": [
  {
   "cell_type": "code",
   "execution_count": 16,
   "metadata": {
    "collapsed": false
   },
   "outputs": [],
   "source": [
    "import numpy as np\n",
    "import pandas as pd\n",
    "import datetime\n",
    "import math\n",
    "import matplotlib.pyplot as plt\n",
    "import seaborn as sns\n",
    "import statsmodels.api as sm\n",
    "from sklearn.ensemble import RandomForestRegressor\n",
    "from sklearn.externals import joblib\n",
    "from sklearn.metrics import mean_squared_error, r2_score\n",
    "from sklearn.model_selection import train_test_split"
   ]
  },
  {
   "cell_type": "markdown",
   "metadata": {
    "colab_type": "text",
    "id": "pARpho0kNojt"
   },
   "source": [
    "## 課題1 データの読み込み\n",
    "必要技能 - NumPy / Pandas"
   ]
  },
  {
   "cell_type": "markdown",
   "metadata": {
    "colab_type": "text",
    "id": "putkWSpYNtOz"
   },
   "source": [
    "使用するデータ - **時系列/多変量ベクトルの要素を含むデータを選定**\n",
    "+ [Freeny’s Revenue Data - 小売マーケット全体の属性情報と、ある店舗の売上データ](https://raw.githubusercontent.com/vincentarelbundock/Rdatasets/master/csv/datasets/freeny.csv)\n",
    "\n",
    "参考\n",
    "+ https://aidemy.net/routemaps/3\n",
    "+ https://www.kaggle.com/levaniz/machine-learning-analysis-of-flights-data\n",
    "+ https://www.trifields.jp/r-sample-data-491"
   ]
  },
  {
   "cell_type": "code",
   "execution_count": 2,
   "metadata": {
    "colab": {},
    "colab_type": "code",
    "collapsed": false,
    "id": "tywBtaGSN3Xc",
    "scrolled": true
   },
   "outputs": [
    {
     "name": "stderr",
     "output_type": "stream",
     "text": [
      "/Users/keiichirosato/.pyenv/versions/anaconda3-4.2.0/lib/python3.5/site-packages/ipykernel/__main__.py:7: SettingWithCopyWarning: \n",
      "A value is trying to be set on a copy of a slice from a DataFrame\n",
      "\n",
      "See the caveats in the documentation: http://pandas.pydata.org/pandas-docs/stable/indexing.html#indexing-view-versus-copy\n"
     ]
    }
   ],
   "source": [
    "df = pd.read_csv('data.csv')\n",
    "df = df.rename(columns={'Unnamed: 0':'date'})\n",
    "for i in range(len(df)):\n",
    "    date = math.modf(df['date'][i])\n",
    "    year = int(date[1])\n",
    "    month = int(date[0]*100/25*3+1)\n",
    "    df['date'][i] = datetime.datetime(year,month,1)"
   ]
  },
  {
   "cell_type": "code",
   "execution_count": 3,
   "metadata": {
    "collapsed": false,
    "scrolled": true
   },
   "outputs": [
    {
     "data": {
      "text/html": [
       "<div>\n",
       "<style scoped>\n",
       "    .dataframe tbody tr th:only-of-type {\n",
       "        vertical-align: middle;\n",
       "    }\n",
       "\n",
       "    .dataframe tbody tr th {\n",
       "        vertical-align: top;\n",
       "    }\n",
       "\n",
       "    .dataframe thead th {\n",
       "        text-align: right;\n",
       "    }\n",
       "</style>\n",
       "<table border=\"1\" class=\"dataframe\">\n",
       "  <thead>\n",
       "    <tr style=\"text-align: right;\">\n",
       "      <th></th>\n",
       "      <th>date</th>\n",
       "      <th>y</th>\n",
       "      <th>lag.quarterly.revenue</th>\n",
       "      <th>price.index</th>\n",
       "      <th>income.level</th>\n",
       "      <th>market.potential</th>\n",
       "    </tr>\n",
       "  </thead>\n",
       "  <tbody>\n",
       "    <tr>\n",
       "      <th>0</th>\n",
       "      <td>1962-04-01 00:00:00</td>\n",
       "      <td>8.79236</td>\n",
       "      <td>8.79636</td>\n",
       "      <td>4.70997</td>\n",
       "      <td>5.82110</td>\n",
       "      <td>12.9699</td>\n",
       "    </tr>\n",
       "    <tr>\n",
       "      <th>1</th>\n",
       "      <td>1962-07-01 00:00:00</td>\n",
       "      <td>8.79137</td>\n",
       "      <td>8.79236</td>\n",
       "      <td>4.70217</td>\n",
       "      <td>5.82558</td>\n",
       "      <td>12.9733</td>\n",
       "    </tr>\n",
       "    <tr>\n",
       "      <th>2</th>\n",
       "      <td>1962-10-01 00:00:00</td>\n",
       "      <td>8.81486</td>\n",
       "      <td>8.79137</td>\n",
       "      <td>4.68944</td>\n",
       "      <td>5.83112</td>\n",
       "      <td>12.9774</td>\n",
       "    </tr>\n",
       "    <tr>\n",
       "      <th>3</th>\n",
       "      <td>1963-01-01 00:00:00</td>\n",
       "      <td>8.81301</td>\n",
       "      <td>8.81486</td>\n",
       "      <td>4.68558</td>\n",
       "      <td>5.84046</td>\n",
       "      <td>12.9806</td>\n",
       "    </tr>\n",
       "    <tr>\n",
       "      <th>4</th>\n",
       "      <td>1963-04-01 00:00:00</td>\n",
       "      <td>8.90751</td>\n",
       "      <td>8.81301</td>\n",
       "      <td>4.64019</td>\n",
       "      <td>5.85036</td>\n",
       "      <td>12.9831</td>\n",
       "    </tr>\n",
       "    <tr>\n",
       "      <th>5</th>\n",
       "      <td>1963-07-01 00:00:00</td>\n",
       "      <td>8.93673</td>\n",
       "      <td>8.90751</td>\n",
       "      <td>4.62553</td>\n",
       "      <td>5.86464</td>\n",
       "      <td>12.9854</td>\n",
       "    </tr>\n",
       "    <tr>\n",
       "      <th>6</th>\n",
       "      <td>1963-10-01 00:00:00</td>\n",
       "      <td>8.96161</td>\n",
       "      <td>8.93673</td>\n",
       "      <td>4.61991</td>\n",
       "      <td>5.87769</td>\n",
       "      <td>12.9900</td>\n",
       "    </tr>\n",
       "    <tr>\n",
       "      <th>7</th>\n",
       "      <td>1964-01-01 00:00:00</td>\n",
       "      <td>8.96044</td>\n",
       "      <td>8.96161</td>\n",
       "      <td>4.61654</td>\n",
       "      <td>5.89763</td>\n",
       "      <td>12.9943</td>\n",
       "    </tr>\n",
       "    <tr>\n",
       "      <th>8</th>\n",
       "      <td>1964-04-01 00:00:00</td>\n",
       "      <td>9.00868</td>\n",
       "      <td>8.96044</td>\n",
       "      <td>4.61407</td>\n",
       "      <td>5.92574</td>\n",
       "      <td>12.9992</td>\n",
       "    </tr>\n",
       "    <tr>\n",
       "      <th>9</th>\n",
       "      <td>1964-07-01 00:00:00</td>\n",
       "      <td>9.03049</td>\n",
       "      <td>9.00868</td>\n",
       "      <td>4.60766</td>\n",
       "      <td>5.94232</td>\n",
       "      <td>13.0033</td>\n",
       "    </tr>\n",
       "    <tr>\n",
       "      <th>10</th>\n",
       "      <td>1964-10-01 00:00:00</td>\n",
       "      <td>9.06906</td>\n",
       "      <td>9.03049</td>\n",
       "      <td>4.60227</td>\n",
       "      <td>5.95365</td>\n",
       "      <td>13.0099</td>\n",
       "    </tr>\n",
       "    <tr>\n",
       "      <th>11</th>\n",
       "      <td>1965-01-01 00:00:00</td>\n",
       "      <td>9.05871</td>\n",
       "      <td>9.06906</td>\n",
       "      <td>4.58960</td>\n",
       "      <td>5.96120</td>\n",
       "      <td>13.0159</td>\n",
       "    </tr>\n",
       "    <tr>\n",
       "      <th>12</th>\n",
       "      <td>1965-04-01 00:00:00</td>\n",
       "      <td>9.10698</td>\n",
       "      <td>9.05871</td>\n",
       "      <td>4.57592</td>\n",
       "      <td>5.97805</td>\n",
       "      <td>13.0212</td>\n",
       "    </tr>\n",
       "    <tr>\n",
       "      <th>13</th>\n",
       "      <td>1965-07-01 00:00:00</td>\n",
       "      <td>9.12685</td>\n",
       "      <td>9.10698</td>\n",
       "      <td>4.58661</td>\n",
       "      <td>6.00377</td>\n",
       "      <td>13.0265</td>\n",
       "    </tr>\n",
       "    <tr>\n",
       "      <th>14</th>\n",
       "      <td>1965-10-01 00:00:00</td>\n",
       "      <td>9.17096</td>\n",
       "      <td>9.12685</td>\n",
       "      <td>4.57997</td>\n",
       "      <td>6.02829</td>\n",
       "      <td>13.0351</td>\n",
       "    </tr>\n",
       "    <tr>\n",
       "      <th>15</th>\n",
       "      <td>1966-01-01 00:00:00</td>\n",
       "      <td>9.18665</td>\n",
       "      <td>9.17096</td>\n",
       "      <td>4.57176</td>\n",
       "      <td>6.03475</td>\n",
       "      <td>13.0429</td>\n",
       "    </tr>\n",
       "    <tr>\n",
       "      <th>16</th>\n",
       "      <td>1966-04-01 00:00:00</td>\n",
       "      <td>9.23823</td>\n",
       "      <td>9.18665</td>\n",
       "      <td>4.56104</td>\n",
       "      <td>6.03906</td>\n",
       "      <td>13.0497</td>\n",
       "    </tr>\n",
       "    <tr>\n",
       "      <th>17</th>\n",
       "      <td>1966-07-01 00:00:00</td>\n",
       "      <td>9.26487</td>\n",
       "      <td>9.23823</td>\n",
       "      <td>4.54906</td>\n",
       "      <td>6.05046</td>\n",
       "      <td>13.0551</td>\n",
       "    </tr>\n",
       "    <tr>\n",
       "      <th>18</th>\n",
       "      <td>1966-10-01 00:00:00</td>\n",
       "      <td>9.28436</td>\n",
       "      <td>9.26487</td>\n",
       "      <td>4.53957</td>\n",
       "      <td>6.05563</td>\n",
       "      <td>13.0634</td>\n",
       "    </tr>\n",
       "    <tr>\n",
       "      <th>19</th>\n",
       "      <td>1967-01-01 00:00:00</td>\n",
       "      <td>9.31378</td>\n",
       "      <td>9.28436</td>\n",
       "      <td>4.51018</td>\n",
       "      <td>6.06093</td>\n",
       "      <td>13.0693</td>\n",
       "    </tr>\n",
       "    <tr>\n",
       "      <th>20</th>\n",
       "      <td>1967-04-01 00:00:00</td>\n",
       "      <td>9.35025</td>\n",
       "      <td>9.31378</td>\n",
       "      <td>4.50352</td>\n",
       "      <td>6.07103</td>\n",
       "      <td>13.0737</td>\n",
       "    </tr>\n",
       "    <tr>\n",
       "      <th>21</th>\n",
       "      <td>1967-07-01 00:00:00</td>\n",
       "      <td>9.35835</td>\n",
       "      <td>9.35025</td>\n",
       "      <td>4.49360</td>\n",
       "      <td>6.08018</td>\n",
       "      <td>13.0770</td>\n",
       "    </tr>\n",
       "    <tr>\n",
       "      <th>22</th>\n",
       "      <td>1967-10-01 00:00:00</td>\n",
       "      <td>9.39767</td>\n",
       "      <td>9.35835</td>\n",
       "      <td>4.46505</td>\n",
       "      <td>6.08858</td>\n",
       "      <td>13.0849</td>\n",
       "    </tr>\n",
       "    <tr>\n",
       "      <th>23</th>\n",
       "      <td>1968-01-01 00:00:00</td>\n",
       "      <td>9.42150</td>\n",
       "      <td>9.39767</td>\n",
       "      <td>4.44924</td>\n",
       "      <td>6.10199</td>\n",
       "      <td>13.0918</td>\n",
       "    </tr>\n",
       "    <tr>\n",
       "      <th>24</th>\n",
       "      <td>1968-04-01 00:00:00</td>\n",
       "      <td>9.44223</td>\n",
       "      <td>9.42150</td>\n",
       "      <td>4.43966</td>\n",
       "      <td>6.11207</td>\n",
       "      <td>13.0950</td>\n",
       "    </tr>\n",
       "    <tr>\n",
       "      <th>25</th>\n",
       "      <td>1968-07-01 00:00:00</td>\n",
       "      <td>9.48721</td>\n",
       "      <td>9.44223</td>\n",
       "      <td>4.42025</td>\n",
       "      <td>6.11596</td>\n",
       "      <td>13.0984</td>\n",
       "    </tr>\n",
       "    <tr>\n",
       "      <th>26</th>\n",
       "      <td>1968-10-01 00:00:00</td>\n",
       "      <td>9.52374</td>\n",
       "      <td>9.48721</td>\n",
       "      <td>4.41060</td>\n",
       "      <td>6.12129</td>\n",
       "      <td>13.1089</td>\n",
       "    </tr>\n",
       "    <tr>\n",
       "      <th>27</th>\n",
       "      <td>1969-01-01 00:00:00</td>\n",
       "      <td>9.53980</td>\n",
       "      <td>9.52374</td>\n",
       "      <td>4.41151</td>\n",
       "      <td>6.12200</td>\n",
       "      <td>13.1169</td>\n",
       "    </tr>\n",
       "    <tr>\n",
       "      <th>28</th>\n",
       "      <td>1969-04-01 00:00:00</td>\n",
       "      <td>9.58123</td>\n",
       "      <td>9.53980</td>\n",
       "      <td>4.39810</td>\n",
       "      <td>6.13119</td>\n",
       "      <td>13.1222</td>\n",
       "    </tr>\n",
       "    <tr>\n",
       "      <th>29</th>\n",
       "      <td>1969-07-01 00:00:00</td>\n",
       "      <td>9.60048</td>\n",
       "      <td>9.58123</td>\n",
       "      <td>4.38513</td>\n",
       "      <td>6.14705</td>\n",
       "      <td>13.1266</td>\n",
       "    </tr>\n",
       "    <tr>\n",
       "      <th>30</th>\n",
       "      <td>1969-10-01 00:00:00</td>\n",
       "      <td>9.64496</td>\n",
       "      <td>9.60048</td>\n",
       "      <td>4.37320</td>\n",
       "      <td>6.15336</td>\n",
       "      <td>13.1356</td>\n",
       "    </tr>\n",
       "    <tr>\n",
       "      <th>31</th>\n",
       "      <td>1970-01-01 00:00:00</td>\n",
       "      <td>9.64390</td>\n",
       "      <td>9.64496</td>\n",
       "      <td>4.32770</td>\n",
       "      <td>6.15627</td>\n",
       "      <td>13.1415</td>\n",
       "    </tr>\n",
       "    <tr>\n",
       "      <th>32</th>\n",
       "      <td>1970-04-01 00:00:00</td>\n",
       "      <td>9.69405</td>\n",
       "      <td>9.64390</td>\n",
       "      <td>4.32023</td>\n",
       "      <td>6.16274</td>\n",
       "      <td>13.1444</td>\n",
       "    </tr>\n",
       "    <tr>\n",
       "      <th>33</th>\n",
       "      <td>1970-07-01 00:00:00</td>\n",
       "      <td>9.69958</td>\n",
       "      <td>9.69405</td>\n",
       "      <td>4.30909</td>\n",
       "      <td>6.17369</td>\n",
       "      <td>13.1459</td>\n",
       "    </tr>\n",
       "    <tr>\n",
       "      <th>34</th>\n",
       "      <td>1970-10-01 00:00:00</td>\n",
       "      <td>9.68683</td>\n",
       "      <td>9.69958</td>\n",
       "      <td>4.30909</td>\n",
       "      <td>6.16135</td>\n",
       "      <td>13.1520</td>\n",
       "    </tr>\n",
       "    <tr>\n",
       "      <th>35</th>\n",
       "      <td>1971-01-01 00:00:00</td>\n",
       "      <td>9.71774</td>\n",
       "      <td>9.68683</td>\n",
       "      <td>4.30552</td>\n",
       "      <td>6.18231</td>\n",
       "      <td>13.1593</td>\n",
       "    </tr>\n",
       "    <tr>\n",
       "      <th>36</th>\n",
       "      <td>1971-04-01 00:00:00</td>\n",
       "      <td>9.74924</td>\n",
       "      <td>9.71774</td>\n",
       "      <td>4.29627</td>\n",
       "      <td>6.18768</td>\n",
       "      <td>13.1579</td>\n",
       "    </tr>\n",
       "    <tr>\n",
       "      <th>37</th>\n",
       "      <td>1971-07-01 00:00:00</td>\n",
       "      <td>9.77536</td>\n",
       "      <td>9.74924</td>\n",
       "      <td>4.27839</td>\n",
       "      <td>6.19377</td>\n",
       "      <td>13.1625</td>\n",
       "    </tr>\n",
       "    <tr>\n",
       "      <th>38</th>\n",
       "      <td>1971-10-01 00:00:00</td>\n",
       "      <td>9.79424</td>\n",
       "      <td>9.77536</td>\n",
       "      <td>4.27789</td>\n",
       "      <td>6.20030</td>\n",
       "      <td>13.1664</td>\n",
       "    </tr>\n",
       "  </tbody>\n",
       "</table>\n",
       "</div>"
      ],
      "text/plain": [
       "                   date        y  lag.quarterly.revenue  price.index  \\\n",
       "0   1962-04-01 00:00:00  8.79236                8.79636      4.70997   \n",
       "1   1962-07-01 00:00:00  8.79137                8.79236      4.70217   \n",
       "2   1962-10-01 00:00:00  8.81486                8.79137      4.68944   \n",
       "3   1963-01-01 00:00:00  8.81301                8.81486      4.68558   \n",
       "4   1963-04-01 00:00:00  8.90751                8.81301      4.64019   \n",
       "5   1963-07-01 00:00:00  8.93673                8.90751      4.62553   \n",
       "6   1963-10-01 00:00:00  8.96161                8.93673      4.61991   \n",
       "7   1964-01-01 00:00:00  8.96044                8.96161      4.61654   \n",
       "8   1964-04-01 00:00:00  9.00868                8.96044      4.61407   \n",
       "9   1964-07-01 00:00:00  9.03049                9.00868      4.60766   \n",
       "10  1964-10-01 00:00:00  9.06906                9.03049      4.60227   \n",
       "11  1965-01-01 00:00:00  9.05871                9.06906      4.58960   \n",
       "12  1965-04-01 00:00:00  9.10698                9.05871      4.57592   \n",
       "13  1965-07-01 00:00:00  9.12685                9.10698      4.58661   \n",
       "14  1965-10-01 00:00:00  9.17096                9.12685      4.57997   \n",
       "15  1966-01-01 00:00:00  9.18665                9.17096      4.57176   \n",
       "16  1966-04-01 00:00:00  9.23823                9.18665      4.56104   \n",
       "17  1966-07-01 00:00:00  9.26487                9.23823      4.54906   \n",
       "18  1966-10-01 00:00:00  9.28436                9.26487      4.53957   \n",
       "19  1967-01-01 00:00:00  9.31378                9.28436      4.51018   \n",
       "20  1967-04-01 00:00:00  9.35025                9.31378      4.50352   \n",
       "21  1967-07-01 00:00:00  9.35835                9.35025      4.49360   \n",
       "22  1967-10-01 00:00:00  9.39767                9.35835      4.46505   \n",
       "23  1968-01-01 00:00:00  9.42150                9.39767      4.44924   \n",
       "24  1968-04-01 00:00:00  9.44223                9.42150      4.43966   \n",
       "25  1968-07-01 00:00:00  9.48721                9.44223      4.42025   \n",
       "26  1968-10-01 00:00:00  9.52374                9.48721      4.41060   \n",
       "27  1969-01-01 00:00:00  9.53980                9.52374      4.41151   \n",
       "28  1969-04-01 00:00:00  9.58123                9.53980      4.39810   \n",
       "29  1969-07-01 00:00:00  9.60048                9.58123      4.38513   \n",
       "30  1969-10-01 00:00:00  9.64496                9.60048      4.37320   \n",
       "31  1970-01-01 00:00:00  9.64390                9.64496      4.32770   \n",
       "32  1970-04-01 00:00:00  9.69405                9.64390      4.32023   \n",
       "33  1970-07-01 00:00:00  9.69958                9.69405      4.30909   \n",
       "34  1970-10-01 00:00:00  9.68683                9.69958      4.30909   \n",
       "35  1971-01-01 00:00:00  9.71774                9.68683      4.30552   \n",
       "36  1971-04-01 00:00:00  9.74924                9.71774      4.29627   \n",
       "37  1971-07-01 00:00:00  9.77536                9.74924      4.27839   \n",
       "38  1971-10-01 00:00:00  9.79424                9.77536      4.27789   \n",
       "\n",
       "    income.level  market.potential  \n",
       "0        5.82110           12.9699  \n",
       "1        5.82558           12.9733  \n",
       "2        5.83112           12.9774  \n",
       "3        5.84046           12.9806  \n",
       "4        5.85036           12.9831  \n",
       "5        5.86464           12.9854  \n",
       "6        5.87769           12.9900  \n",
       "7        5.89763           12.9943  \n",
       "8        5.92574           12.9992  \n",
       "9        5.94232           13.0033  \n",
       "10       5.95365           13.0099  \n",
       "11       5.96120           13.0159  \n",
       "12       5.97805           13.0212  \n",
       "13       6.00377           13.0265  \n",
       "14       6.02829           13.0351  \n",
       "15       6.03475           13.0429  \n",
       "16       6.03906           13.0497  \n",
       "17       6.05046           13.0551  \n",
       "18       6.05563           13.0634  \n",
       "19       6.06093           13.0693  \n",
       "20       6.07103           13.0737  \n",
       "21       6.08018           13.0770  \n",
       "22       6.08858           13.0849  \n",
       "23       6.10199           13.0918  \n",
       "24       6.11207           13.0950  \n",
       "25       6.11596           13.0984  \n",
       "26       6.12129           13.1089  \n",
       "27       6.12200           13.1169  \n",
       "28       6.13119           13.1222  \n",
       "29       6.14705           13.1266  \n",
       "30       6.15336           13.1356  \n",
       "31       6.15627           13.1415  \n",
       "32       6.16274           13.1444  \n",
       "33       6.17369           13.1459  \n",
       "34       6.16135           13.1520  \n",
       "35       6.18231           13.1593  \n",
       "36       6.18768           13.1579  \n",
       "37       6.19377           13.1625  \n",
       "38       6.20030           13.1664  "
      ]
     },
     "execution_count": 3,
     "metadata": {},
     "output_type": "execute_result"
    }
   ],
   "source": [
    "df"
   ]
  },
  {
   "cell_type": "markdown",
   "metadata": {
    "colab_type": "text",
    "id": "zP8Cd8ipUKET"
   },
   "source": [
    "## 課題2 ビジュアライズ\n",
    "必要技能 - Matplotlib / Seaborn\n",
    "\n",
    "### 問題\n",
    "matplotlibやseabornを用いて、1の売上データを下記の通りグラフで視覚化せよ\n",
    "1. 日付x-売上データyの線グラフ\n",
    "2. 売上データを除く各項目の相関ヒートマップ"
   ]
  },
  {
   "cell_type": "code",
   "execution_count": 4,
   "metadata": {
    "collapsed": false
   },
   "outputs": [],
   "source": [
    "x = list(df.iloc[:,0])\n",
    "y = list(df.iloc[:,1])"
   ]
  },
  {
   "cell_type": "code",
   "execution_count": 5,
   "metadata": {
    "collapsed": false
   },
   "outputs": [
    {
     "data": {
      "text/plain": [
       "[<matplotlib.lines.Line2D at 0x1c21dac780>]"
      ]
     },
     "execution_count": 5,
     "metadata": {},
     "output_type": "execute_result"
    },
    {
     "data": {
      "image/png": "[encoded data removed]",
      "text/plain": [
       "<matplotlib.figure.Figure at 0x1c21d3c198>"
      ]
     },
     "metadata": {},
     "output_type": "display_data"
    }
   ],
   "source": [
    "%matplotlib inline\n",
    "plt.plot(x,y)"
   ]
  },
  {
   "cell_type": "code",
   "execution_count": 6,
   "metadata": {
    "collapsed": false
   },
   "outputs": [],
   "source": [
    "df_corr = df.drop('y', axis=1).corr()"
   ]
  },
  {
   "cell_type": "code",
   "execution_count": 7,
   "metadata": {
    "collapsed": false,
    "scrolled": true
   },
   "outputs": [
    {
     "data": {
      "text/html": [
       "<div>\n",
       "<style scoped>\n",
       "    .dataframe tbody tr th:only-of-type {\n",
       "        vertical-align: middle;\n",
       "    }\n",
       "\n",
       "    .dataframe tbody tr th {\n",
       "        vertical-align: top;\n",
       "    }\n",
       "\n",
       "    .dataframe thead th {\n",
       "        text-align: right;\n",
       "    }\n",
       "</style>\n",
       "<table border=\"1\" class=\"dataframe\">\n",
       "  <thead>\n",
       "    <tr style=\"text-align: right;\">\n",
       "      <th></th>\n",
       "      <th>lag.quarterly.revenue</th>\n",
       "      <th>price.index</th>\n",
       "      <th>income.level</th>\n",
       "      <th>market.potential</th>\n",
       "    </tr>\n",
       "  </thead>\n",
       "  <tbody>\n",
       "    <tr>\n",
       "      <th>lag.quarterly.revenue</th>\n",
       "      <td>1.000000</td>\n",
       "      <td>-0.989417</td>\n",
       "      <td>0.981660</td>\n",
       "      <td>0.997207</td>\n",
       "    </tr>\n",
       "    <tr>\n",
       "      <th>price.index</th>\n",
       "      <td>-0.989417</td>\n",
       "      <td>1.000000</td>\n",
       "      <td>-0.953876</td>\n",
       "      <td>-0.989088</td>\n",
       "    </tr>\n",
       "    <tr>\n",
       "      <th>income.level</th>\n",
       "      <td>0.981660</td>\n",
       "      <td>-0.953876</td>\n",
       "      <td>1.000000</td>\n",
       "      <td>0.976503</td>\n",
       "    </tr>\n",
       "    <tr>\n",
       "      <th>market.potential</th>\n",
       "      <td>0.997207</td>\n",
       "      <td>-0.989088</td>\n",
       "      <td>0.976503</td>\n",
       "      <td>1.000000</td>\n",
       "    </tr>\n",
       "  </tbody>\n",
       "</table>\n",
       "</div>"
      ],
      "text/plain": [
       "                       lag.quarterly.revenue  price.index  income.level  \\\n",
       "lag.quarterly.revenue               1.000000    -0.989417      0.981660   \n",
       "price.index                        -0.989417     1.000000     -0.953876   \n",
       "income.level                        0.981660    -0.953876      1.000000   \n",
       "market.potential                    0.997207    -0.989088      0.976503   \n",
       "\n",
       "                       market.potential  \n",
       "lag.quarterly.revenue          0.997207  \n",
       "price.index                   -0.989088  \n",
       "income.level                   0.976503  \n",
       "market.potential               1.000000  "
      ]
     },
     "execution_count": 7,
     "metadata": {},
     "output_type": "execute_result"
    }
   ],
   "source": [
    "df_corr"
   ]
  },
  {
   "cell_type": "code",
   "execution_count": 8,
   "metadata": {
    "collapsed": false
   },
   "outputs": [
    {
     "data": {
      "text/plain": [
       "<matplotlib.axes._subplots.AxesSubplot at 0x1c22b0b978>"
      ]
     },
     "execution_count": 8,
     "metadata": {},
     "output_type": "execute_result"
    },
    {
     "data": {
      "image/png": "[encoded data removed]",
      "text/plain": [
       "<matplotlib.figure.Figure at 0x1c21e95278>"
      ]
     },
     "metadata": {},
     "output_type": "display_data"
    }
   ],
   "source": [
    "sns.heatmap(df_corr, vmax=1, vmin=-1)"
   ]
  },
  {
   "cell_type": "markdown",
   "metadata": {
    "colab_type": "text",
    "id": "br7_AaYRURmX"
   },
   "source": [
    "## 課題3 因子分析\n",
    "必要技能 - 回帰分析 / statsmodels\n",
    "\n",
    "### 問題\n",
    "statsmodelsを用いて、売上に最も影響を与える要因を「○○、○○」の中から選択せよ。また、それを選択した理由も述べよ。"
   ]
  },
  {
   "cell_type": "code",
   "execution_count": 11,
   "metadata": {
    "collapsed": false
   },
   "outputs": [
    {
     "data": {
      "text/html": [
       "<table class=\"simpletable\">\n",
       "<caption>OLS Regression Results</caption>\n",
       "<tr>\n",
       "  <th>Dep. Variable:</th>            <td>y</td>        <th>  R-squared:         </th> <td>   0.998</td>\n",
       "</tr>\n",
       "<tr>\n",
       "  <th>Model:</th>                   <td>OLS</td>       <th>  Adj. R-squared:    </th> <td>   0.998</td>\n",
       "</tr>\n",
       "<tr>\n",
       "  <th>Method:</th>             <td>Least Squares</td>  <th>  F-statistic:       </th> <td>   4354.</td>\n",
       "</tr>\n",
       "<tr>\n",
       "  <th>Date:</th>             <td>Sat, 16 Mar 2019</td> <th>  Prob (F-statistic):</th> <td>1.51e-45</td>\n",
       "</tr>\n",
       "<tr>\n",
       "  <th>Time:</th>                 <td>09:21:08</td>     <th>  Log-Likelihood:    </th> <td>  111.84</td>\n",
       "</tr>\n",
       "<tr>\n",
       "  <th>No. Observations:</th>      <td>    39</td>      <th>  AIC:               </th> <td>  -213.7</td>\n",
       "</tr>\n",
       "<tr>\n",
       "  <th>Df Residuals:</th>          <td>    34</td>      <th>  BIC:               </th> <td>  -205.4</td>\n",
       "</tr>\n",
       "<tr>\n",
       "  <th>Df Model:</th>              <td>     4</td>      <th>                     </th>     <td> </td>   \n",
       "</tr>\n",
       "<tr>\n",
       "  <th>Covariance Type:</th>      <td>nonrobust</td>    <th>                     </th>     <td> </td>   \n",
       "</tr>\n",
       "</table>\n",
       "<table class=\"simpletable\">\n",
       "<tr>\n",
       "            <td></td>               <th>coef</th>     <th>std err</th>      <th>t</th>      <th>P>|t|</th>  <th>[0.025</th>    <th>0.975]</th>  \n",
       "</tr>\n",
       "<tr>\n",
       "  <th>const</th>                 <td>  -10.4726</td> <td>    6.022</td> <td>   -1.739</td> <td> 0.091</td> <td>  -22.710</td> <td>    1.765</td>\n",
       "</tr>\n",
       "<tr>\n",
       "  <th>lag.quarterly.revenue</th> <td>    0.1239</td> <td>    0.142</td> <td>    0.870</td> <td> 0.390</td> <td>   -0.165</td> <td>    0.413</td>\n",
       "</tr>\n",
       "<tr>\n",
       "  <th>price.index</th>           <td>   -0.7542</td> <td>    0.161</td> <td>   -4.693</td> <td> 0.000</td> <td>   -1.081</td> <td>   -0.428</td>\n",
       "</tr>\n",
       "<tr>\n",
       "  <th>income.level</th>          <td>    0.7675</td> <td>    0.134</td> <td>    5.730</td> <td> 0.000</td> <td>    0.495</td> <td>    1.040</td>\n",
       "</tr>\n",
       "<tr>\n",
       "  <th>market.potential</th>      <td>    1.3306</td> <td>    0.509</td> <td>    2.613</td> <td> 0.013</td> <td>    0.296</td> <td>    2.366</td>\n",
       "</tr>\n",
       "</table>\n",
       "<table class=\"simpletable\">\n",
       "<tr>\n",
       "  <th>Omnibus:</th>       <td> 1.439</td> <th>  Durbin-Watson:     </th> <td>   1.897</td>\n",
       "</tr>\n",
       "<tr>\n",
       "  <th>Prob(Omnibus):</th> <td> 0.487</td> <th>  Jarque-Bera (JB):  </th> <td>   1.030</td>\n",
       "</tr>\n",
       "<tr>\n",
       "  <th>Skew:</th>          <td>-0.061</td> <th>  Prob(JB):          </th> <td>   0.598</td>\n",
       "</tr>\n",
       "<tr>\n",
       "  <th>Kurtosis:</th>      <td> 2.213</td> <th>  Cond. No.          </th> <td>4.55e+04</td>\n",
       "</tr>\n",
       "</table><br/><br/>Warnings:<br/>[1] Standard Errors assume that the covariance matrix of the errors is correctly specified.<br/>[2] The condition number is large, 4.55e+04. This might indicate that there are<br/>strong multicollinearity or other numerical problems."
      ],
      "text/plain": [
       "<class 'statsmodels.iolib.summary.Summary'>\n",
       "\"\"\"\n",
       "                            OLS Regression Results                            \n",
       "==============================================================================\n",
       "Dep. Variable:                      y   R-squared:                       0.998\n",
       "Model:                            OLS   Adj. R-squared:                  0.998\n",
       "Method:                 Least Squares   F-statistic:                     4354.\n",
       "Date:                Sat, 16 Mar 2019   Prob (F-statistic):           1.51e-45\n",
       "Time:                        09:21:08   Log-Likelihood:                 111.84\n",
       "No. Observations:                  39   AIC:                            -213.7\n",
       "Df Residuals:                      34   BIC:                            -205.4\n",
       "Df Model:                           4                                         \n",
       "Covariance Type:            nonrobust                                         \n",
       "=========================================================================================\n",
       "                            coef    std err          t      P>|t|      [0.025      0.975]\n",
       "-----------------------------------------------------------------------------------------\n",
       "const                   -10.4726      6.022     -1.739      0.091     -22.710       1.765\n",
       "lag.quarterly.revenue     0.1239      0.142      0.870      0.390      -0.165       0.413\n",
       "price.index              -0.7542      0.161     -4.693      0.000      -1.081      -0.428\n",
       "income.level              0.7675      0.134      5.730      0.000       0.495       1.040\n",
       "market.potential          1.3306      0.509      2.613      0.013       0.296       2.366\n",
       "==============================================================================\n",
       "Omnibus:                        1.439   Durbin-Watson:                   1.897\n",
       "Prob(Omnibus):                  0.487   Jarque-Bera (JB):                1.030\n",
       "Skew:                          -0.061   Prob(JB):                        0.598\n",
       "Kurtosis:                       2.213   Cond. No.                     4.55e+04\n",
       "==============================================================================\n",
       "\n",
       "Warnings:\n",
       "[1] Standard Errors assume that the covariance matrix of the errors is correctly specified.\n",
       "[2] The condition number is large, 4.55e+04. This might indicate that there are\n",
       "strong multicollinearity or other numerical problems.\n",
       "\"\"\""
      ]
     },
     "execution_count": 11,
     "metadata": {},
     "output_type": "execute_result"
    }
   ],
   "source": [
    "y = df['y']\n",
    "X = df.drop(['date', 'y'], axis=1)\n",
    "model = sm.OLS(y, sm.add_constant(X))\n",
    "result = model.fit()\n",
    "result.summary()"
   ]
  },
  {
   "cell_type": "markdown",
   "metadata": {
    "colab_type": "text",
    "id": "3NOTFJacUbCE"
   },
   "source": [
    "## 課題4 時系列予測\n",
    "必要技能 - ARモデル / 季節トレンド調整 / statsmodels"
   ]
  },
  {
   "cell_type": "code",
   "execution_count": 13,
   "metadata": {
    "colab": {},
    "colab_type": "code",
    "collapsed": false,
    "id": "sDqGOpUtUtzU"
   },
   "outputs": [],
   "source": [
    "season_df = df[['date', 'y']]\n",
    "season_df = season_df.set_index('date')\n",
    "result = sm.tsa.seasonal_decompose(season_df.values,freq = 4)"
   ]
  },
  {
   "cell_type": "code",
   "execution_count": 15,
   "metadata": {
    "collapsed": false,
    "scrolled": true
   },
   "outputs": [
    {
     "data": {
      "image/png": "[encoded data removed]",
      "text/plain": [
       "<matplotlib.figure.Figure at 0x1c2355fc50>"
      ]
     },
     "execution_count": 15,
     "metadata": {},
     "output_type": "execute_result"
    },
    {
     "data": {
      "text/plain": [
       "<matplotlib.figure.Figure at 0x1c2355fc88>"
      ]
     },
     "metadata": {},
     "output_type": "display_data"
    },
    {
     "data": {
      "image/png": "[encoded data removed]",
      "text/plain": [
       "<matplotlib.figure.Figure at 0x1c2355fc50>"
      ]
     },
     "metadata": {},
     "output_type": "display_data"
    }
   ],
   "source": [
    "plt.figure()\n",
    "result.plot()"
   ]
  },
  {
   "cell_type": "markdown",
   "metadata": {
    "colab_type": "text",
    "id": "lL_oKRu1VzX8"
   },
   "source": [
    "## 課題5 ランダムフォレスト(マルコフモデルにする？)による予測\n",
    "必要技能 - ランダムフォレスト / scikit-learn\n",
    "\n",
    "*発展課題のため、正答率は低めに設定する予定"
   ]
  },
  {
   "cell_type": "code",
   "execution_count": 23,
   "metadata": {
    "collapsed": true
   },
   "outputs": [],
   "source": [
    "df_drop_date = df.drop('date',axis=1)\n",
    "train_df, test_df = train_test_split(df_drop_date, test_size = 0.7, shuffle = False)\n",
    "train_X = train_df.drop('y',axis=1)\n",
    "test_X = test_df.drop('y',axis=1)\n",
    "train_y = train_df['y']\n",
    "test_y = test_df['y']"
   ]
  },
  {
   "cell_type": "code",
   "execution_count": 24,
   "metadata": {
    "collapsed": false
   },
   "outputs": [
    {
     "name": "stderr",
     "output_type": "stream",
     "text": [
      "[Parallel(n_jobs=1)]: Using backend SequentialBackend with 1 concurrent workers.\n",
      "[Parallel(n_jobs=1)]: Done 100 out of 100 | elapsed:    0.0s finished\n"
     ]
    },
    {
     "data": {
      "text/plain": [
       "RandomForestRegressor(bootstrap=True, criterion='mse', max_depth=20,\n",
       "           max_features='auto', max_leaf_nodes=None,\n",
       "           min_impurity_decrease=0.0, min_impurity_split=None,\n",
       "           min_samples_leaf=1, min_samples_split=2,\n",
       "           min_weight_fraction_leaf=0.0, n_estimators=100, n_jobs=None,\n",
       "           oob_score=False, random_state=None, verbose=1, warm_start=False)"
      ]
     },
     "execution_count": 24,
     "metadata": {},
     "output_type": "execute_result"
    }
   ],
   "source": [
    "rf = RandomForestRegressor(verbose = 1, n_estimators=100, max_depth=20)\n",
    "rf.fit(train_X,train_y)"
   ]
  },
  {
   "cell_type": "code",
   "execution_count": 26,
   "metadata": {
    "collapsed": false
   },
   "outputs": [
    {
     "name": "stderr",
     "output_type": "stream",
     "text": [
      "[Parallel(n_jobs=1)]: Using backend SequentialBackend with 1 concurrent workers.\n",
      "[Parallel(n_jobs=1)]: Done 100 out of 100 | elapsed:    0.0s finished\n"
     ]
    }
   ],
   "source": [
    "pred_y = rf.predict(test_X)"
   ]
  },
  {
   "cell_type": "code",
   "execution_count": 27,
   "metadata": {
    "collapsed": false
   },
   "outputs": [
    {
     "data": {
      "text/plain": [
       "0.4648482950896277"
      ]
     },
     "execution_count": 27,
     "metadata": {},
     "output_type": "execute_result"
    }
   ],
   "source": [
    "np.sqrt(mean_squared_error(test_y, pred_y))"
   ]
  },
  {
   "cell_type": "code",
   "execution_count": 28,
   "metadata": {
    "collapsed": false
   },
   "outputs": [
    {
     "data": {
      "text/plain": [
       "-3.44563780992224"
      ]
     },
     "execution_count": 28,
     "metadata": {},
     "output_type": "execute_result"
    }
   ],
   "source": [
    "r2_score(test_y, pred_y, multioutput='variance_weighted')"
   ]
  },
  {
   "cell_type": "code",
   "execution_count": null,
   "metadata": {
    "collapsed": true
   },
   "outputs": [],
   "source": []
  }
 ],
 "metadata": {
  "anaconda-cloud": {},
  "colab": {
   "name": "事前課題.ipynb",
   "provenance": [],
   "version": "0.3.2"
  },
  "kernelspec": {
   "display_name": "Python [default]",
   "language": "python",
   "name": "python3"
  },
  "language_info": {
   "codemirror_mode": {
    "name": "ipython",
    "version": 3
   },
   "file_extension": ".py",
   "mimetype": "text/x-python",
   "name": "python",
   "nbconvert_exporter": "python",
   "pygments_lexer": "ipython3",
   "version": "3.5.2"
  }
 },
 "nbformat": 4,
 "nbformat_minor": 1
}
