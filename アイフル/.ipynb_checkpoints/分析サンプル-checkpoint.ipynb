{
 "cells": [
  {
   "cell_type": "markdown",
   "metadata": {},
   "source": [
    "### データの読み込みと可視化\n",
    "\n",
    "##### 日本語 - 英字変換\n",
    "+ NO - NO\n",
    "+ 申込日 - offer_date\n",
    "+ 申込時間 - offer_time\n",
    "+ 【媒体コード】大項目 - baitai_dai\n",
    "+ 【媒体コード】詳細項目 - baitai_shousai\n",
    "+ 受付時間帯区分 - uketsuke_jikantai\n",
    "+ 受付形態区分 - uketsuke_keitai\n",
    "+ 新規時自動契約機店番 - shinki_jidokeiyaku\n",
    "+ 取扱店番 - toriatsukai_tenban\n",
    "+ 管理店番 - kanri_tenban\n",
    "+ 性別 - sex\n",
    "+ 年齢 - age\n",
    "+ 生年月日 - birth\n",
    "+ ＪＩＳ住所コード - jis\n",
    "+ 独既区分 - doku\n",
    "+ 新職種区分_大区分 - sinshoku_dai\n",
    "+ 【新職種区分】詳細区分 - sinshoku_shousai\n",
    "+ 雇用形態区分 - koyo\n",
    "+ 就業形態区分 - shugyo\n",
    "+ 会社規模区分 - kaisha_kibo\n",
    "+ 合計年収 - nenshu\n",
    "+ 在社月数 - zaisha\n",
    "+ 住居区分 - jukyo\n",
    "+ 居住月数 - kyoju\n",
    "+ 家賃負担額 - yachin\n",
    "+ 家族構成区分 - kazoku_kousei\n",
    "+ 保険職種区分 - hoken_shokushu\n",
    "+ 収入証明有無 - shunyu_shoumei\n",
    "+ 独身内訳 - dokushin\n",
    "+ 同居区分 - doukyo\n",
    "+ 扶養家族数 - fuyo\n",
    "+ 扶養家族子供数 - fuyo_child\n",
    "+ 所得証明区分 - shotoku_shoumei\n",
    "+ 名義区分 - meigi\n",
    "+ 事業形態区分 - jigyo_keitai\n",
    "+ 事業所有無 - jigyosho\n",
    "+ 貸付年月日 - kashituke_date\n",
    "+ 貸付形態区分 - kashituke_keitai\n",
    "+ 契約年率 - keiyaku_nenritsu\n",
    "+ 解約時口座内訳 - kaiyakuji\n",
    "+ 解約年月日 - kaiyaku_date\n",
    "+ 解約時貸付残高 - kaiyaku_zandaka\n",
    "+ １２ヶ月事故 - month12_jiko"
   ]
  },
  {
   "cell_type": "code",
   "execution_count": null,
   "metadata": {
    "collapsed": true
   },
   "outputs": [],
   "source": [
    "import pandas as pd\n",
    "\n",
    "df = pd.read_csv(\"モデル構築用.csv\", encoding=\"sjis\")\n",
    "origin_columns = df.columns\n",
    "df.columns = [\"offer_date\",\"NO\",\"offer_time\",\"baitai_dai\",\"baitai_shousai\",\"uketsuke_jikantai\",\"uketsuke_keitai\",\"shinki_jidokeiyaku\",\"toriatsukai_tenban\",\"kanri_tenban\",\"sex\",\"age\",\"birth\",\"jis\",\"doku\",\"sinshoku_dai\",\"sinshoku_shousai\",\"koyo\",\"shugyo\",\"kaisha_kibo\",\"nenshu\",\"zaisha\",\"jukyo\",\"kyoju\",\"yachin\",\"kazoku_kousei\",\"hoken_shokushu\",\"shunyu_shoumei\",\"dokushin\",\"doukyo\",\"fuyo\",\"fuyo_child\",\"shotoku_shoumei\",\"meigi\",\"jigyo_keitai\",\"jigyosho\",\"kashituke_date\",\"kashituke_keitai\",\"keiyaku_nenritsu\",\"kaiyakuji\",\"kaiyaku_date\",\"kaiyaku_zandaka\",\"month12_jiko\"]\n",
    "\n",
    "df.head()"
   ]
  },
  {
   "cell_type": "code",
   "execution_count": null,
   "metadata": {
    "collapsed": true
   },
   "outputs": [],
   "source": [
    "import seaborn as sns\n",
    "import matplotlib.pyplot as plt\n",
    "\n",
    "cols = [\"sex\",\"age\",\"nenshu\",\"month12_jiko\"]\n",
    "sns.pairplot(df[cols])\n",
    "plt.show();"
   ]
  },
  {
   "cell_type": "code",
   "execution_count": null,
   "metadata": {
    "collapsed": true
   },
   "outputs": [],
   "source": [
    "import numpy as np\n",
    "\n",
    "cm = np.corrcoef(df[cols].values.T)\n",
    "sns.set(font_scale=1.5)\n",
    "hm = sns.heatmap(cm,\n",
    "                 cbar=True,\n",
    "                 annot=True,\n",
    "                 square=True,\n",
    "                 fmt='.2f',\n",
    "                 annot_kws={'size': 15},\n",
    "                 yticklabels=cols,\n",
    "                 xticklabels=cols)\n",
    "plt.show();"
   ]
  },
  {
   "cell_type": "markdown",
   "metadata": {},
   "source": [
    "### 重回帰による各項目の関連度分析\n",
    "\n",
    "#### 手法: 重回帰分析\n",
    "事故発生フラグと各変数間の相関を調べ、どの変数が事故発生の起因となっているかについて調査する"
   ]
  },
  {
   "cell_type": "code",
   "execution_count": null,
   "metadata": {
    "collapsed": true
   },
   "outputs": [],
   "source": [
    "import statsmodels.api as sm\n",
    "\n",
    "X = df[cols].drop('month12_jiko', 1)\n",
    "Y = df['month12_jiko']\n",
    "\n",
    "# 正規化する\n",
    "X = (X - X.mean()) / X.std()\n",
    "X.head()"
   ]
  },
  {
   "cell_type": "code",
   "execution_count": null,
   "metadata": {
    "collapsed": true
   },
   "outputs": [],
   "source": [
    "X = sm.add_constant(X)\n",
    "\n",
    "model = sm.OLS(Y, X)\n",
    "result = model.fit()\n",
    "result.summary()"
   ]
  },
  {
   "cell_type": "code",
   "execution_count": null,
   "metadata": {
    "collapsed": true
   },
   "outputs": [],
   "source": [
    "# 影響度を表すt値よりヒートマップを作成\n",
    "import matplotlib.pyplot as plt\n",
    "import seaborn as sns\n",
    "\n",
    "df_t = pd.DataFrame(data=result.tvalues, columns=[\"t\"])\n",
    "plt.figure(figsize=(9, 6))\n",
    "sns.heatmap(df_t);"
   ]
  },
  {
   "cell_type": "markdown",
   "metadata": {},
   "source": [
    "### 時系列として季節性やトレンドの分析をする\n",
    "\n",
    "#### 手法: 季節性分析/トレンド分析\n",
    "年間で特定の時期に事故が発生しやすいか、過去に比べて現在は徐々に事故件数が増えてきているのかなど、年間を通した事故発生の分析を時間の流れに沿って行う。\n",
    "\n",
    "※ 後ほど追加"
   ]
  },
  {
   "cell_type": "code",
   "execution_count": null,
   "metadata": {
    "collapsed": true,
    "scrolled": true
   },
   "outputs": [],
   "source": [
    "import datetime\n",
    "\n",
    "# 月ごとに事故発生件数を集計する\n",
    "df_date = df\n",
    "df_date[\"offer_date\"] = pd.to_datetime(df_date[\"offer_date\"])\n",
    "df_date = df_date.set_index(\"offer_date\")\n",
    "df_ymw = df_date.set_index([df_date.index.year, df_date.index.month, df_date.index.week, df_date.index])\n",
    "df_ymw.index.names = ['year', 'month', 'week', 'date']\n",
    "df_ymw_sum = df_ymw.sum(level=[\"year\", \"month\", \"week\"])\n",
    "df_ymw_sum = df_ymw_sum.reset_index()\n",
    "to_int = lambda x: int(np.asscalar(x))\n",
    "df_ymw_sum[\"offer_date\"] = df_ymw_sum.apply(lambda row: \"{}{:02}{:02}\".format(to_int(row[\"year\"]),to_int(row[\"month\"]),to_int(row[\"week\"])), axis=1)\n",
    "df_ymw_sum = df_ymw_sum.drop([\"year\", \"month\", \"week\"], axis=1)\n",
    "df_ymw_sum = df_ymw_sum.set_index(\"offer_date\")\n",
    "df_ymw_sum"
   ]
  },
  {
   "cell_type": "code",
   "execution_count": null,
   "metadata": {
    "collapsed": true
   },
   "outputs": [],
   "source": [
    "# 事故件数を可視化する\n",
    "df_jiko = df_ymw_sum[\"month12_jiko\"]\n",
    "# 2016年以前はほとんどデータがないので削除\n",
    "df_jiko = df_jiko[\"20160101\":]\n",
    "df_jiko.plot(figsize=(16, 7), alpha=0.5);"
   ]
  },
  {
   "cell_type": "code",
   "execution_count": null,
   "metadata": {
    "collapsed": true
   },
   "outputs": [],
   "source": [
    "import matplotlib.pyplot as plt\n",
    "\n",
    "# 自己相関\n",
    "acf = sm.tsa.stattools.acf(df_jiko, nlags=40)\n",
    "# 偏自己相関\n",
    "pacf = sm.tsa.stattools.pacf(df_jiko, nlags=40, method='ols')\n",
    "\n",
    "# コレログラムで可視化する\n",
    "fig = plt.figure(figsize=(12,10))\n",
    "ax1 = fig.add_subplot(211)\n",
    "fig = sm.graphics.tsa.plot_acf(df_jiko, lags=40, ax=ax1)\n",
    "ax2 = fig.add_subplot(212)\n",
    "fig = sm.graphics.tsa.plot_pacf(df_jiko, lags=40, ax=ax2)"
   ]
  },
  {
   "cell_type": "code",
   "execution_count": null,
   "metadata": {
    "collapsed": true
   },
   "outputs": [],
   "source": [
    "# 6週ごとに周期がありそうなので、季節成分の抽出\n",
    "import matplotlib\n",
    "matplotlib.rc('font', size=1)\n",
    "sd = sm.tsa.seasonal_decompose(df_jiko, freq=6)\n",
    "plt = sd.plot()\n",
    "plt.set_figwidth(10)\n",
    "plt.set_figheight(5)"
   ]
  },
  {
   "cell_type": "code",
   "execution_count": null,
   "metadata": {
    "collapsed": true
   },
   "outputs": [],
   "source": [
    "# 定常性を持つか検定\n",
    "# 拡張Dickey-Fuller検定(ADF検定)\n",
    "res = sm.tsa.stattools.adfuller(df_jiko)\n",
    "print('p-value = {:.4}'.format(res[1]))"
   ]
  },
  {
   "cell_type": "code",
   "execution_count": null,
   "metadata": {
    "collapsed": true
   },
   "outputs": [],
   "source": [
    "# p > 0.5より定常性を持たないことが分かったため、トレンドと季節成分を抽出する\n",
    "# トレンド(差分)\n",
    "df_jiko.diff().plot(title='trend', figsize=(12, 3));"
   ]
  },
  {
   "cell_type": "code",
   "execution_count": null,
   "metadata": {
    "collapsed": true
   },
   "outputs": [],
   "source": [
    "# 季節調整\n",
    "(df_jiko - sd.seasonal).plot(title='seasonal ajustment', figsize=(12, 3));"
   ]
  },
  {
   "cell_type": "code",
   "execution_count": null,
   "metadata": {
    "collapsed": true
   },
   "outputs": [],
   "source": [
    "# トレンド(差分) + 季節調整\n",
    "ajusted = (df_jiko - sd.seasonal)\n",
    "ajusted = ajusted.dropna()\n",
    "ajusted.plot(title='ajusted - trend & seasonal', figsize=(12, 3));"
   ]
  },
  {
   "cell_type": "code",
   "execution_count": null,
   "metadata": {
    "collapsed": true
   },
   "outputs": [],
   "source": [
    "# 再度定常性の確認\n",
    "res = sm.tsa.stattools.adfuller(ajusted)\n",
    "print('p-value = {:.4}'.format(res[1]))"
   ]
  },
  {
   "cell_type": "markdown",
   "metadata": {},
   "source": [
    "#### 定常性が確認できなかったため、トレンド+季節調整では効果がないことが分かった"
   ]
  },
  {
   "cell_type": "markdown",
   "metadata": {},
   "source": [
    "### 貸倒れ事故の発生を予測する\n",
    "\n",
    "#### 手法: ロジスティック回帰\n",
    "単純パーセプトロンと同様のモデルであり、線形回帰モデルを2値分類に展開した予想モデル。\n",
    "\n",
    "#### 手法2: ランダムフォレスト\n",
    "説明変数が多数の場合において、各変数の寄与率を出しながら高速に分類学習する手法"
   ]
  },
  {
   "cell_type": "code",
   "execution_count": null,
   "metadata": {
    "collapsed": true
   },
   "outputs": [],
   "source": [
    "# 訓練データと検証データを作成\n",
    "import numpy as np\n",
    "\n",
    "# 日時データは削除\n",
    "ignore_cols = ['offer_date', 'kashituke_date', 'kaiyaku_date', 'birth']\n",
    "data = df.drop(ignore_cols, 1)\n",
    "\n",
    "# 60%を訓練データとして使用する\n",
    "train_ratio = 0.6\n",
    "# ランダムに並び替えて、訓練/検証データに分割\n",
    "df_rand = data.reindex(np.random.permutation(data.index)).reset_index(drop=True)\n",
    "train = df_rand[0:round(len(data)*train_ratio)]\n",
    "validation = df_rand[round(len(data)*train_ratio):]\n",
    "\n",
    "train.shape, validation.shape"
   ]
  },
  {
   "cell_type": "code",
   "execution_count": null,
   "metadata": {
    "collapsed": true
   },
   "outputs": [],
   "source": [
    "from sklearn.linear_model import LogisticRegression\n",
    "from sklearn.metrics import accuracy_score\n",
    "\n",
    "X_train = train.drop('month12_jiko', 1)\n",
    "y_train = train['month12_jiko']\n",
    "\n",
    "# 正規化する\n",
    "X_train = (X_train - X_train.mean()) / X_train.std()\n",
    "X_train = X_train.fillna(0)\n",
    "\n",
    "# ロジスティック回帰で2値分類する\n",
    "clf = LogisticRegression()\n",
    "clf.fit(X_train, y_train)"
   ]
  },
  {
   "cell_type": "code",
   "execution_count": null,
   "metadata": {
    "collapsed": true
   },
   "outputs": [],
   "source": [
    "# 精度 - Accuracyで検証データで評価\n",
    "\n",
    "X_val = validation.drop('month12_jiko', 1)\n",
    "y_val = validation['month12_jiko']\n",
    "\n",
    "# 正規化する\n",
    "X_val = (X_val - X_val.mean()) / X_val.std()\n",
    "X_val = X_val.fillna(0)\n",
    "\n",
    "clf.score(X_val, y_val)"
   ]
  },
  {
   "cell_type": "markdown",
   "metadata": {},
   "source": [
    "### 貸付判定モデル\n",
    "\n",
    "1. 予測結果から貸し出す顧客を決定\n",
    "2. 貸し出す人には全員一律で25万円貸すことにする"
   ]
  },
  {
   "cell_type": "code",
   "execution_count": null,
   "metadata": {
    "collapsed": true
   },
   "outputs": [],
   "source": [
    "# 提出用検証データを読み込む\n",
    "submission = pd.read_csv(\"検証用.csv\", encoding=\"sjis\")\n",
    "submission.columns = [\"offer_date\",\"NO\",\"offer_time\",\"baitai_dai\",\"baitai_shousai\",\"uketsuke_jikantai\",\"uketsuke_keitai\",\"shinki_jidokeiyaku\",\"toriatsukai_tenban\",\"kanri_tenban\",\"sex\",\"age\",\"birth\",\"jis\",\"doku\",\"sinshoku_dai\",\"sinshoku_shousai\",\"koyo\",\"shugyo\",\"kaisha_kibo\",\"nenshu\",\"zaisha\",\"jukyo\",\"kyoju\",\"yachin\",\"kazoku_kousei\",\"hoken_shokushu\",\"shunyu_shoumei\",\"dokushin\",\"doukyo\",\"fuyo\",\"fuyo_child\",\"shotoku_shoumei\",\"meigi\",\"jigyo_keitai\",\"jigyosho\",\"kashituke_date\",\"kashituke_keitai\",\"keiyaku_nenritsu\",\"kaiyakuji\",\"kaiyaku_date\",\"kaiyaku_zandaka\",\"kashitsuke\"]\n",
    "\n",
    "submission.head()"
   ]
  },
  {
   "cell_type": "code",
   "execution_count": null,
   "metadata": {
    "collapsed": true
   },
   "outputs": [],
   "source": [
    "from scipy.special import expit\n",
    "\n",
    "# 各顧客の事故発生予測\n",
    "X_submission = submission.drop(ignore_cols, 1)\n",
    "X_submission = X_submission.drop(\"kashitsuke\", axis=1)\n",
    "# 正規化\n",
    "X_submission = (X_submission - X_submission.mean()) / X_submission.std()\n",
    "X_submission = X_submission.fillna(0)\n",
    "# 予測\n",
    "pred = clf.predict(X_submission)"
   ]
  },
  {
   "cell_type": "code",
   "execution_count": null,
   "metadata": {
    "collapsed": true,
    "scrolled": true
   },
   "outputs": [],
   "source": [
    "# 一律で25万円貸し出す\n",
    "submission[\"kashitsuke\"] = 250_000\n",
    "# 事故が発生すると予測された人には貸さない\n",
    "submission[\"kashitsuke\"] *= 1-pred\n",
    "submission.head()"
   ]
  },
  {
   "cell_type": "code",
   "execution_count": null,
   "metadata": {
    "collapsed": true
   },
   "outputs": [],
   "source": [
    "# ヘッダー名を設定\n",
    "submission.columns = origin_columns[:-1].tolist() + [\"貸付金額\"]\n",
    "\n",
    "# 結果を提出用にCSVへ書き出す\n",
    "submission.to_csv(\"提出サンプル1.csv\", encoding=\"sjis\")"
   ]
  },
  {
   "cell_type": "code",
   "execution_count": null,
   "metadata": {
    "collapsed": true
   },
   "outputs": [],
   "source": []
  }
 ],
 "metadata": {
  "anaconda-cloud": {},
  "kernelspec": {
   "display_name": "Python [default]",
   "language": "python",
   "name": "python3"
  },
  "language_info": {
   "codemirror_mode": {
    "name": "ipython",
    "version": 3
   },
   "file_extension": ".py",
   "mimetype": "text/x-python",
   "name": "python",
   "nbconvert_exporter": "python",
   "pygments_lexer": "ipython3",
   "version": "3.5.2"
  }
 },
 "nbformat": 4,
 "nbformat_minor": 2
}
