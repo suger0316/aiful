{
 "cells": [
  {
   "cell_type": "markdown",
   "metadata": {
    "colab_type": "text",
    "id": "pARpho0kNojt"
   },
   "source": [
    "## 課題1 データの読み込み\n",
    "必要技能 - NumPy / Pandas"
   ]
  },
  {
   "cell_type": "markdown",
   "metadata": {
    "colab_type": "text",
    "id": "putkWSpYNtOz"
   },
   "source": [
    "使用するデータ - **時系列/多変量ベクトルの要素を含むデータを選定**\n",
    "+ [Freeny’s Revenue Data - 小売マーケット全体の属性情報と、ある店舗の売上データ](https://raw.githubusercontent.com/vincentarelbundock/Rdatasets/master/csv/datasets/freeny.csv)\n",
    "\n",
    "参考\n",
    "+ https://aidemy.net/routemaps/3\n",
    "+ https://www.kaggle.com/levaniz/machine-learning-analysis-of-flights-data\n",
    "+ https://www.trifields.jp/r-sample-data-491"
   ]
  },
  {
   "cell_type": "code",
   "execution_count": 0,
   "metadata": {
    "colab": {},
    "colab_type": "code",
    "collapsed": true,
    "id": "tywBtaGSN3Xc"
   },
   "outputs": [],
   "source": []
  },
  {
   "cell_type": "markdown",
   "metadata": {
    "colab_type": "text",
    "id": "zP8Cd8ipUKET"
   },
   "source": [
    "## 課題2 ビジュアライズ\n",
    "必要技能 - Matplotlib / Seaborn\n",
    "\n",
    "### 問題\n",
    "matplotlibやseabornを用いて、1の売上データを下記の通りグラフで視覚化せよ\n",
    "1. 日付x-売上データyの線グラフ\n",
    "2. 売上データを除く各項目の相関ヒートマップ"
   ]
  },
  {
   "cell_type": "code",
   "execution_count": 0,
   "metadata": {
    "colab": {},
    "colab_type": "code",
    "collapsed": true,
    "id": "6OArG6QXUQ52"
   },
   "outputs": [],
   "source": []
  },
  {
   "cell_type": "markdown",
   "metadata": {
    "colab_type": "text",
    "id": "br7_AaYRURmX"
   },
   "source": [
    "## 課題3 因子分析\n",
    "必要技能 - 回帰分析 / statsmodels\n",
    "\n",
    "### 問題\n",
    "statsmodelsを用いて、売上に最も影響を与える要因を「○○、○○」の中から選択せよ。また、それを選択した理由も述べよ。"
   ]
  },
  {
   "cell_type": "code",
   "execution_count": 0,
   "metadata": {
    "colab": {},
    "colab_type": "code",
    "collapsed": true,
    "id": "C0EYieA3UZX8"
   },
   "outputs": [],
   "source": []
  },
  {
   "cell_type": "markdown",
   "metadata": {
    "colab_type": "text",
    "id": "3NOTFJacUbCE"
   },
   "source": [
    "## 課題4 時系列予測\n",
    "必要技能 - ARモデル / 季節トレンド調整 / statsmodels"
   ]
  },
  {
   "cell_type": "code",
   "execution_count": 0,
   "metadata": {
    "colab": {},
    "colab_type": "code",
    "collapsed": true,
    "id": "sDqGOpUtUtzU"
   },
   "outputs": [],
   "source": []
  },
  {
   "cell_type": "markdown",
   "metadata": {
    "colab_type": "text",
    "id": "lL_oKRu1VzX8"
   },
   "source": [
    "## 課題5 ランダムフォレスト(マルコフモデルにする？)による予測\n",
    "必要技能 - ランダムフォレスト / scikit-learn\n",
    "\n",
    "*発展課題のため、正答率は低めに設定する予定"
   ]
  },
  {
   "cell_type": "code",
   "execution_count": 0,
   "metadata": {
    "colab": {},
    "colab_type": "code",
    "collapsed": true,
    "id": "k-UcAizsWFe-"
   },
   "outputs": [],
   "source": []
  }
 ],
 "metadata": {
  "anaconda-cloud": {},
  "colab": {
   "name": "事前課題.ipynb",
   "provenance": [],
   "version": "0.3.2"
  },
  "kernelspec": {
   "display_name": "Python [default]",
   "language": "python",
   "name": "python3"
  },
  "language_info": {
   "codemirror_mode": {
    "name": "ipython",
    "version": 3
   },
   "file_extension": ".py",
   "mimetype": "text/x-python",
   "name": "python",
   "nbconvert_exporter": "python",
   "pygments_lexer": "ipython3",
   "version": "3.5.2"
  }
 },
 "nbformat": 4,
 "nbformat_minor": 1
}
