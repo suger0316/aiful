{
 "cells": [
  {
   "cell_type": "code",
   "execution_count": 1,
   "metadata": {
    "collapsed": true
   },
   "outputs": [],
   "source": [
    "import numpy as np\n",
    "import pandas as pd\n",
    "import datetime\n",
    "import math\n",
    "import matplotlib.pyplot as plt\n",
    "import seaborn as sns\n",
    "import statsmodels.api as sm\n",
    "from sklearn.ensemble import RandomForestRegressor\n",
    "from sklearn.ensemble import RandomForestClassifier\n",
    "from sklearn.externals import joblib\n",
    "from sklearn.metrics import mean_squared_error, r2_score, accuracy_score, precision_score, recall_score, confusion_matrix\n",
    "from sklearn.model_selection import train_test_split"
   ]
  },
  {
   "cell_type": "code",
   "execution_count": 80,
   "metadata": {
    "collapsed": true
   },
   "outputs": [],
   "source": [
    "def plot_feature_importance(X, model):\n",
    "    n_features = X.shape[1]\n",
    "    feature_list = list(model.feature_importances_)\n",
    "    feature_sort_list = np.sort(feature_list)\n",
    "    columns_list = list(X.columns)\n",
    "    columns_sort_list = []\n",
    "    for i in feature_sort_list:\n",
    "        columns_sort_list.append(columns_list[feature_list.index(i)])\n",
    "    plt.barh(range(n_features), feature_sort_list, align='center')\n",
    "    plt.yticks(np.arange(n_features), columns_sort_list)\n",
    "    plt.xlabel('Feature importance')\n",
    "    plt.ylabel('Feature')"
   ]
  },
  {
   "cell_type": "code",
   "execution_count": 51,
   "metadata": {
    "collapsed": false
   },
   "outputs": [
    {
     "data": {
      "text/html": [
       "<div>\n",
       "<style scoped>\n",
       "    .dataframe tbody tr th:only-of-type {\n",
       "        vertical-align: middle;\n",
       "    }\n",
       "\n",
       "    .dataframe tbody tr th {\n",
       "        vertical-align: top;\n",
       "    }\n",
       "\n",
       "    .dataframe thead th {\n",
       "        text-align: right;\n",
       "    }\n",
       "</style>\n",
       "<table border=\"1\" class=\"dataframe\">\n",
       "  <thead>\n",
       "    <tr style=\"text-align: right;\">\n",
       "      <th></th>\n",
       "      <th>offer_date</th>\n",
       "      <th>NO</th>\n",
       "      <th>offer_time</th>\n",
       "      <th>baitai_dai</th>\n",
       "      <th>baitai_shousai</th>\n",
       "      <th>uketsuke_jikantai</th>\n",
       "      <th>uketsuke_keitai</th>\n",
       "      <th>shinki_jidokeiyaku</th>\n",
       "      <th>toriatsukai_tenban</th>\n",
       "      <th>kanri_tenban</th>\n",
       "      <th>...</th>\n",
       "      <th>shunyu_shoumei</th>\n",
       "      <th>dokushin</th>\n",
       "      <th>doukyo</th>\n",
       "      <th>fuyo</th>\n",
       "      <th>fuyo_child</th>\n",
       "      <th>shotoku_shoumei</th>\n",
       "      <th>meigi</th>\n",
       "      <th>jigyo_keitai</th>\n",
       "      <th>jigyosho</th>\n",
       "      <th>month12_jiko</th>\n",
       "    </tr>\n",
       "  </thead>\n",
       "  <tbody>\n",
       "    <tr>\n",
       "      <th>0</th>\n",
       "      <td>2013/2/3</td>\n",
       "      <td>1.820570e+12</td>\n",
       "      <td>133504</td>\n",
       "      <td>3</td>\n",
       "      <td>2</td>\n",
       "      <td>3</td>\n",
       "      <td>502</td>\n",
       "      <td>0</td>\n",
       "      <td>182</td>\n",
       "      <td>182</td>\n",
       "      <td>...</td>\n",
       "      <td>0</td>\n",
       "      <td>1</td>\n",
       "      <td>2</td>\n",
       "      <td>0</td>\n",
       "      <td>0</td>\n",
       "      <td>0</td>\n",
       "      <td>0</td>\n",
       "      <td>6</td>\n",
       "      <td>0</td>\n",
       "      <td>0</td>\n",
       "    </tr>\n",
       "    <tr>\n",
       "      <th>1</th>\n",
       "      <td>2013/6/18</td>\n",
       "      <td>5.050290e+12</td>\n",
       "      <td>145329</td>\n",
       "      <td>5</td>\n",
       "      <td>99</td>\n",
       "      <td>0</td>\n",
       "      <td>1</td>\n",
       "      <td>2814</td>\n",
       "      <td>2814</td>\n",
       "      <td>505</td>\n",
       "      <td>...</td>\n",
       "      <td>0</td>\n",
       "      <td>0</td>\n",
       "      <td>1</td>\n",
       "      <td>2</td>\n",
       "      <td>1</td>\n",
       "      <td>0</td>\n",
       "      <td>0</td>\n",
       "      <td>0</td>\n",
       "      <td>0</td>\n",
       "      <td>0</td>\n",
       "    </tr>\n",
       "    <tr>\n",
       "      <th>2</th>\n",
       "      <td>2013/6/28</td>\n",
       "      <td>1.820590e+12</td>\n",
       "      <td>115136</td>\n",
       "      <td>5</td>\n",
       "      <td>99</td>\n",
       "      <td>0</td>\n",
       "      <td>1</td>\n",
       "      <td>2779</td>\n",
       "      <td>2779</td>\n",
       "      <td>182</td>\n",
       "      <td>...</td>\n",
       "      <td>1</td>\n",
       "      <td>0</td>\n",
       "      <td>1</td>\n",
       "      <td>1</td>\n",
       "      <td>0</td>\n",
       "      <td>8</td>\n",
       "      <td>1</td>\n",
       "      <td>0</td>\n",
       "      <td>0</td>\n",
       "      <td>0</td>\n",
       "    </tr>\n",
       "    <tr>\n",
       "      <th>3</th>\n",
       "      <td>2013/8/9</td>\n",
       "      <td>1.270660e+12</td>\n",
       "      <td>95034</td>\n",
       "      <td>5</td>\n",
       "      <td>99</td>\n",
       "      <td>0</td>\n",
       "      <td>1</td>\n",
       "      <td>223</td>\n",
       "      <td>223</td>\n",
       "      <td>127</td>\n",
       "      <td>...</td>\n",
       "      <td>0</td>\n",
       "      <td>1</td>\n",
       "      <td>2</td>\n",
       "      <td>0</td>\n",
       "      <td>0</td>\n",
       "      <td>0</td>\n",
       "      <td>0</td>\n",
       "      <td>0</td>\n",
       "      <td>0</td>\n",
       "      <td>0</td>\n",
       "    </tr>\n",
       "    <tr>\n",
       "      <th>4</th>\n",
       "      <td>2014/1/27</td>\n",
       "      <td>2.090350e+12</td>\n",
       "      <td>165240</td>\n",
       "      <td>5</td>\n",
       "      <td>99</td>\n",
       "      <td>0</td>\n",
       "      <td>1</td>\n",
       "      <td>1836</td>\n",
       "      <td>1836</td>\n",
       "      <td>209</td>\n",
       "      <td>...</td>\n",
       "      <td>0</td>\n",
       "      <td>0</td>\n",
       "      <td>2</td>\n",
       "      <td>0</td>\n",
       "      <td>0</td>\n",
       "      <td>0</td>\n",
       "      <td>0</td>\n",
       "      <td>0</td>\n",
       "      <td>0</td>\n",
       "      <td>0</td>\n",
       "    </tr>\n",
       "  </tbody>\n",
       "</table>\n",
       "<p>5 rows × 37 columns</p>\n",
       "</div>"
      ],
      "text/plain": [
       "  offer_date            NO  offer_time  baitai_dai  baitai_shousai  \\\n",
       "0   2013/2/3  1.820570e+12      133504           3               2   \n",
       "1  2013/6/18  5.050290e+12      145329           5              99   \n",
       "2  2013/6/28  1.820590e+12      115136           5              99   \n",
       "3   2013/8/9  1.270660e+12       95034           5              99   \n",
       "4  2014/1/27  2.090350e+12      165240           5              99   \n",
       "\n",
       "   uketsuke_jikantai  uketsuke_keitai  shinki_jidokeiyaku  toriatsukai_tenban  \\\n",
       "0                  3              502                   0                 182   \n",
       "1                  0                1                2814                2814   \n",
       "2                  0                1                2779                2779   \n",
       "3                  0                1                 223                 223   \n",
       "4                  0                1                1836                1836   \n",
       "\n",
       "   kanri_tenban      ...       shunyu_shoumei  dokushin doukyo  fuyo  \\\n",
       "0           182      ...                    0         1      2     0   \n",
       "1           505      ...                    0         0      1     2   \n",
       "2           182      ...                    1         0      1     1   \n",
       "3           127      ...                    0         1      2     0   \n",
       "4           209      ...                    0         0      2     0   \n",
       "\n",
       "   fuyo_child  shotoku_shoumei  meigi  jigyo_keitai  jigyosho  month12_jiko  \n",
       "0           0                0      0             6         0             0  \n",
       "1           1                0      0             0         0             0  \n",
       "2           0                8      1             0         0             0  \n",
       "3           0                0      0             0         0             0  \n",
       "4           0                0      0             0         0             0  \n",
       "\n",
       "[5 rows x 37 columns]"
      ]
     },
     "execution_count": 51,
     "metadata": {},
     "output_type": "execute_result"
    }
   ],
   "source": [
    "df = pd.read_csv(\"モデル構築用.csv\", encoding=\"sjis\")\n",
    "origin_columns = df.columns\n",
    "df.columns = [\"offer_date\",\"NO\",\"offer_time\",\"baitai_dai\",\"baitai_shousai\",\"uketsuke_jikantai\",\"uketsuke_keitai\",\"shinki_jidokeiyaku\",\"toriatsukai_tenban\",\"kanri_tenban\",\"sex\",\"age\",\"birth\",\"jis\",\"doku\",\"sinshoku_dai\",\"sinshoku_shousai\",\"koyo\",\"shugyo\",\"kaisha_kibo\",\"nenshu\",\"zaisha\",\"jukyo\",\"kyoju\",\"yachin\",\"kazoku_kousei\",\"hoken_shokushu\",\"shunyu_shoumei\",\"dokushin\",\"doukyo\",\"fuyo\",\"fuyo_child\",\"shotoku_shoumei\",\"meigi\",\"jigyo_keitai\",\"jigyosho\",\"month12_jiko\"]\n",
    "\n",
    "df.head()"
   ]
  },
  {
   "cell_type": "code",
   "execution_count": 52,
   "metadata": {
    "collapsed": false
   },
   "outputs": [
    {
     "data": {
      "text/html": [
       "<div>\n",
       "<style scoped>\n",
       "    .dataframe tbody tr th:only-of-type {\n",
       "        vertical-align: middle;\n",
       "    }\n",
       "\n",
       "    .dataframe tbody tr th {\n",
       "        vertical-align: top;\n",
       "    }\n",
       "\n",
       "    .dataframe thead th {\n",
       "        text-align: right;\n",
       "    }\n",
       "</style>\n",
       "<table border=\"1\" class=\"dataframe\">\n",
       "  <thead>\n",
       "    <tr style=\"text-align: right;\">\n",
       "      <th></th>\n",
       "      <th>NO</th>\n",
       "      <th>offer_time</th>\n",
       "      <th>baitai_dai</th>\n",
       "      <th>baitai_shousai</th>\n",
       "      <th>uketsuke_jikantai</th>\n",
       "      <th>uketsuke_keitai</th>\n",
       "      <th>shinki_jidokeiyaku</th>\n",
       "      <th>toriatsukai_tenban</th>\n",
       "      <th>kanri_tenban</th>\n",
       "      <th>sex</th>\n",
       "      <th>...</th>\n",
       "      <th>shunyu_shoumei</th>\n",
       "      <th>dokushin</th>\n",
       "      <th>doukyo</th>\n",
       "      <th>fuyo</th>\n",
       "      <th>fuyo_child</th>\n",
       "      <th>shotoku_shoumei</th>\n",
       "      <th>meigi</th>\n",
       "      <th>jigyo_keitai</th>\n",
       "      <th>jigyosho</th>\n",
       "      <th>month12_jiko</th>\n",
       "    </tr>\n",
       "  </thead>\n",
       "  <tbody>\n",
       "    <tr>\n",
       "      <th>0</th>\n",
       "      <td>1.820570e+12</td>\n",
       "      <td>133504</td>\n",
       "      <td>3</td>\n",
       "      <td>2</td>\n",
       "      <td>3</td>\n",
       "      <td>502</td>\n",
       "      <td>0</td>\n",
       "      <td>182</td>\n",
       "      <td>182</td>\n",
       "      <td>1</td>\n",
       "      <td>...</td>\n",
       "      <td>0</td>\n",
       "      <td>1</td>\n",
       "      <td>2</td>\n",
       "      <td>0</td>\n",
       "      <td>0</td>\n",
       "      <td>0</td>\n",
       "      <td>0</td>\n",
       "      <td>6</td>\n",
       "      <td>0</td>\n",
       "      <td>0</td>\n",
       "    </tr>\n",
       "    <tr>\n",
       "      <th>1</th>\n",
       "      <td>5.050290e+12</td>\n",
       "      <td>145329</td>\n",
       "      <td>5</td>\n",
       "      <td>99</td>\n",
       "      <td>0</td>\n",
       "      <td>1</td>\n",
       "      <td>2814</td>\n",
       "      <td>2814</td>\n",
       "      <td>505</td>\n",
       "      <td>1</td>\n",
       "      <td>...</td>\n",
       "      <td>0</td>\n",
       "      <td>0</td>\n",
       "      <td>1</td>\n",
       "      <td>2</td>\n",
       "      <td>1</td>\n",
       "      <td>0</td>\n",
       "      <td>0</td>\n",
       "      <td>0</td>\n",
       "      <td>0</td>\n",
       "      <td>0</td>\n",
       "    </tr>\n",
       "    <tr>\n",
       "      <th>2</th>\n",
       "      <td>1.820590e+12</td>\n",
       "      <td>115136</td>\n",
       "      <td>5</td>\n",
       "      <td>99</td>\n",
       "      <td>0</td>\n",
       "      <td>1</td>\n",
       "      <td>2779</td>\n",
       "      <td>2779</td>\n",
       "      <td>182</td>\n",
       "      <td>1</td>\n",
       "      <td>...</td>\n",
       "      <td>1</td>\n",
       "      <td>0</td>\n",
       "      <td>1</td>\n",
       "      <td>1</td>\n",
       "      <td>0</td>\n",
       "      <td>8</td>\n",
       "      <td>1</td>\n",
       "      <td>0</td>\n",
       "      <td>0</td>\n",
       "      <td>0</td>\n",
       "    </tr>\n",
       "    <tr>\n",
       "      <th>3</th>\n",
       "      <td>1.270660e+12</td>\n",
       "      <td>95034</td>\n",
       "      <td>5</td>\n",
       "      <td>99</td>\n",
       "      <td>0</td>\n",
       "      <td>1</td>\n",
       "      <td>223</td>\n",
       "      <td>223</td>\n",
       "      <td>127</td>\n",
       "      <td>1</td>\n",
       "      <td>...</td>\n",
       "      <td>0</td>\n",
       "      <td>1</td>\n",
       "      <td>2</td>\n",
       "      <td>0</td>\n",
       "      <td>0</td>\n",
       "      <td>0</td>\n",
       "      <td>0</td>\n",
       "      <td>0</td>\n",
       "      <td>0</td>\n",
       "      <td>0</td>\n",
       "    </tr>\n",
       "    <tr>\n",
       "      <th>4</th>\n",
       "      <td>2.090350e+12</td>\n",
       "      <td>165240</td>\n",
       "      <td>5</td>\n",
       "      <td>99</td>\n",
       "      <td>0</td>\n",
       "      <td>1</td>\n",
       "      <td>1836</td>\n",
       "      <td>1836</td>\n",
       "      <td>209</td>\n",
       "      <td>1</td>\n",
       "      <td>...</td>\n",
       "      <td>0</td>\n",
       "      <td>0</td>\n",
       "      <td>2</td>\n",
       "      <td>0</td>\n",
       "      <td>0</td>\n",
       "      <td>0</td>\n",
       "      <td>0</td>\n",
       "      <td>0</td>\n",
       "      <td>0</td>\n",
       "      <td>0</td>\n",
       "    </tr>\n",
       "  </tbody>\n",
       "</table>\n",
       "<p>5 rows × 35 columns</p>\n",
       "</div>"
      ],
      "text/plain": [
       "             NO  offer_time  baitai_dai  baitai_shousai  uketsuke_jikantai  \\\n",
       "0  1.820570e+12      133504           3               2                  3   \n",
       "1  5.050290e+12      145329           5              99                  0   \n",
       "2  1.820590e+12      115136           5              99                  0   \n",
       "3  1.270660e+12       95034           5              99                  0   \n",
       "4  2.090350e+12      165240           5              99                  0   \n",
       "\n",
       "   uketsuke_keitai  shinki_jidokeiyaku  toriatsukai_tenban  kanri_tenban  sex  \\\n",
       "0              502                   0                 182           182    1   \n",
       "1                1                2814                2814           505    1   \n",
       "2                1                2779                2779           182    1   \n",
       "3                1                 223                 223           127    1   \n",
       "4                1                1836                1836           209    1   \n",
       "\n",
       "       ...       shunyu_shoumei  dokushin  doukyo  fuyo  fuyo_child  \\\n",
       "0      ...                    0         1       2     0           0   \n",
       "1      ...                    0         0       1     2           1   \n",
       "2      ...                    1         0       1     1           0   \n",
       "3      ...                    0         1       2     0           0   \n",
       "4      ...                    0         0       2     0           0   \n",
       "\n",
       "   shotoku_shoumei  meigi  jigyo_keitai  jigyosho  month12_jiko  \n",
       "0                0      0             6         0             0  \n",
       "1                0      0             0         0             0  \n",
       "2                8      1             0         0             0  \n",
       "3                0      0             0         0             0  \n",
       "4                0      0             0         0             0  \n",
       "\n",
       "[5 rows x 35 columns]"
      ]
     },
     "execution_count": 52,
     "metadata": {},
     "output_type": "execute_result"
    }
   ],
   "source": [
    "df = df.drop(['offer_date', 'birth'], axis=1)\n",
    "df.head()"
   ]
  },
  {
   "cell_type": "code",
   "execution_count": 53,
   "metadata": {
    "collapsed": true
   },
   "outputs": [],
   "source": [
    "train_df, test_df = train_test_split(df, test_size = 0.2, random_state=0)\n",
    "train_X = train_df.drop('month12_jiko',axis=1)\n",
    "test_X = test_df.drop('month12_jiko',axis=1)\n",
    "train_y = train_df['month12_jiko']\n",
    "test_y = test_df['month12_jiko']"
   ]
  },
  {
   "cell_type": "code",
   "execution_count": 54,
   "metadata": {
    "collapsed": false
   },
   "outputs": [
    {
     "name": "stderr",
     "output_type": "stream",
     "text": [
      "[Parallel(n_jobs=1)]: Using backend SequentialBackend with 1 concurrent workers.\n",
      "[Parallel(n_jobs=1)]: Done 100 out of 100 | elapsed:    1.3s finished\n"
     ]
    },
    {
     "data": {
      "text/plain": [
       "RandomForestClassifier(bootstrap=True, class_weight=None, criterion='gini',\n",
       "            max_depth=20, max_features='auto', max_leaf_nodes=None,\n",
       "            min_impurity_decrease=0.0, min_impurity_split=None,\n",
       "            min_samples_leaf=1, min_samples_split=2,\n",
       "            min_weight_fraction_leaf=0.0, n_estimators=100, n_jobs=None,\n",
       "            oob_score=False, random_state=None, verbose=1,\n",
       "            warm_start=False)"
      ]
     },
     "execution_count": 54,
     "metadata": {},
     "output_type": "execute_result"
    }
   ],
   "source": [
    "rf_cla = RandomForestClassifier(verbose = 1, n_estimators=100, max_depth=20)\n",
    "rf_cla.fit(train_X,train_y)"
   ]
  },
  {
   "cell_type": "code",
   "execution_count": 55,
   "metadata": {
    "collapsed": false
   },
   "outputs": [
    {
     "name": "stderr",
     "output_type": "stream",
     "text": [
      "[Parallel(n_jobs=1)]: Using backend SequentialBackend with 1 concurrent workers.\n",
      "[Parallel(n_jobs=1)]: Done 100 out of 100 | elapsed:    0.1s finished\n"
     ]
    }
   ],
   "source": [
    "pred_y_cla = rf_cla.predict(test_X)"
   ]
  },
  {
   "cell_type": "code",
   "execution_count": 56,
   "metadata": {
    "collapsed": false
   },
   "outputs": [
    {
     "data": {
      "text/plain": [
       "array([[1805,    4],\n",
       "       [ 307,   10]])"
      ]
     },
     "execution_count": 56,
     "metadata": {},
     "output_type": "execute_result"
    }
   ],
   "source": [
    "#RF分類の結果\n",
    "confusion_matrix(test_y, pred_y_cla, labels=[0,1])"
   ]
  },
  {
   "cell_type": "code",
   "execution_count": 57,
   "metadata": {
    "collapsed": false,
    "scrolled": true
   },
   "outputs": [
    {
     "data": {
      "text/plain": [
       "array([0.06330017, 0.06911113, 0.0210106 , 0.02172176, 0.01386291,\n",
       "       0.02314533, 0.04149857, 0.05718731, 0.03833188, 0.00923688,\n",
       "       0.05951969, 0.06665399, 0.00657168, 0.02699803, 0.04054832,\n",
       "       0.01772722, 0.00659196, 0.0368063 , 0.07594148, 0.06571768,\n",
       "       0.01527002, 0.08079678, 0.04240711, 0.01629537, 0.01753161,\n",
       "       0.00430758, 0.00137928, 0.00864785, 0.01817899, 0.01085083,\n",
       "       0.00813383, 0.01156905, 0.00314879, 0.        ])"
      ]
     },
     "execution_count": 57,
     "metadata": {},
     "output_type": "execute_result"
    }
   ],
   "source": [
    "rf_cla.feature_importances_"
   ]
  },
  {
   "cell_type": "code",
   "execution_count": 75,
   "metadata": {
    "collapsed": false
   },
   "outputs": [
    {
     "data": {
      "text/plain": [
       "array([0.08079678, 0.07594148, 0.06911113, 0.06665399, 0.06571768,\n",
       "       0.06330017, 0.05951969, 0.05718731, 0.04240711, 0.04149857,\n",
       "       0.04054832, 0.03833188, 0.0368063 , 0.02699803, 0.02314533,\n",
       "       0.02172176, 0.0210106 , 0.01817899, 0.01772722, 0.01753161,\n",
       "       0.01629537, 0.01527002, 0.01386291, 0.01156905, 0.01085083,\n",
       "       0.00923688, 0.00864785, 0.00813383, 0.00659196, 0.00657168,\n",
       "       0.00430758, 0.00314879, 0.00137928, 0.        ])"
      ]
     },
     "execution_count": 75,
     "metadata": {},
     "output_type": "execute_result"
    }
   ],
   "source": [
    "np.sort(rf_cla.feature_importances_)[::-1]"
   ]
  },
  {
   "cell_type": "code",
   "execution_count": 81,
   "metadata": {
    "collapsed": false
   },
   "outputs": [
    {
     "data": {
      "image/png": "[encoded data removed]",
      "text/plain": [
       "<matplotlib.figure.Figure at 0x1c38bc87f0>"
      ]
     },
     "metadata": {},
     "output_type": "display_data"
    }
   ],
   "source": [
    "plt.figure(figsize=(10,10))\n",
    "plot_feature_importance(train_X, rf_cla)\n",
    "plt.show()"
   ]
  },
  {
   "cell_type": "code",
   "execution_count": null,
   "metadata": {
    "collapsed": true
   },
   "outputs": [],
   "source": []
  }
 ],
 "metadata": {
  "anaconda-cloud": {},
  "kernelspec": {
   "display_name": "Python [conda env:anaconda3-4.2.0]",
   "language": "python",
   "name": "conda-env-anaconda3-4.2.0-py"
  },
  "language_info": {
   "codemirror_mode": {
    "name": "ipython",
    "version": 3
   },
   "file_extension": ".py",
   "mimetype": "text/x-python",
   "name": "python",
   "nbconvert_exporter": "python",
   "pygments_lexer": "ipython3",
   "version": "3.5.2"
  }
 },
 "nbformat": 4,
 "nbformat_minor": 1
}
