{
 "cells": [
  {
   "cell_type": "code",
   "execution_count": 46,
   "metadata": {
    "collapsed": true
   },
   "outputs": [],
   "source": [
    "import numpy as np\n",
    "import pandas as pd\n",
    "import datetime\n",
    "import math\n",
    "import matplotlib.pyplot as plt\n",
    "import seaborn as sns\n",
    "import statsmodels.api as sm\n",
    "from sklearn.ensemble import RandomForestRegressor\n",
    "from sklearn.ensemble import RandomForestClassifier\n",
    "from sklearn.externals import joblib\n",
    "from sklearn.metrics import mean_squared_error, r2_score, accuracy_score, precision_score, recall_score, confusion_matrix, auc, roc_curve\n",
    "from sklearn.model_selection import train_test_split\n",
    "import random"
   ]
  },
  {
   "cell_type": "code",
   "execution_count": 47,
   "metadata": {
    "collapsed": false
   },
   "outputs": [
    {
     "data": {
      "text/html": [
       "<div>\n",
       "<style scoped>\n",
       "    .dataframe tbody tr th:only-of-type {\n",
       "        vertical-align: middle;\n",
       "    }\n",
       "\n",
       "    .dataframe tbody tr th {\n",
       "        vertical-align: top;\n",
       "    }\n",
       "\n",
       "    .dataframe thead th {\n",
       "        text-align: right;\n",
       "    }\n",
       "</style>\n",
       "<table border=\"1\" class=\"dataframe\">\n",
       "  <thead>\n",
       "    <tr style=\"text-align: right;\">\n",
       "      <th></th>\n",
       "      <th>offer_date</th>\n",
       "      <th>NO</th>\n",
       "      <th>offer_time</th>\n",
       "      <th>baitai_dai</th>\n",
       "      <th>baitai_shousai</th>\n",
       "      <th>uketsuke_jikantai</th>\n",
       "      <th>uketsuke_keitai</th>\n",
       "      <th>shinki_jidokeiyaku</th>\n",
       "      <th>toriatsukai_tenban</th>\n",
       "      <th>kanri_tenban</th>\n",
       "      <th>...</th>\n",
       "      <th>shunyu_shoumei</th>\n",
       "      <th>dokushin</th>\n",
       "      <th>doukyo</th>\n",
       "      <th>fuyo</th>\n",
       "      <th>fuyo_child</th>\n",
       "      <th>shotoku_shoumei</th>\n",
       "      <th>meigi</th>\n",
       "      <th>jigyo_keitai</th>\n",
       "      <th>jigyosho</th>\n",
       "      <th>month12_jiko</th>\n",
       "    </tr>\n",
       "  </thead>\n",
       "  <tbody>\n",
       "    <tr>\n",
       "      <th>0</th>\n",
       "      <td>2013/2/3</td>\n",
       "      <td>1.820570e+12</td>\n",
       "      <td>133504</td>\n",
       "      <td>3</td>\n",
       "      <td>2</td>\n",
       "      <td>3</td>\n",
       "      <td>502</td>\n",
       "      <td>0</td>\n",
       "      <td>182</td>\n",
       "      <td>182</td>\n",
       "      <td>...</td>\n",
       "      <td>0</td>\n",
       "      <td>1</td>\n",
       "      <td>2</td>\n",
       "      <td>0</td>\n",
       "      <td>0</td>\n",
       "      <td>0</td>\n",
       "      <td>0</td>\n",
       "      <td>6</td>\n",
       "      <td>0</td>\n",
       "      <td>0</td>\n",
       "    </tr>\n",
       "    <tr>\n",
       "      <th>1</th>\n",
       "      <td>2013/6/18</td>\n",
       "      <td>5.050290e+12</td>\n",
       "      <td>145329</td>\n",
       "      <td>5</td>\n",
       "      <td>99</td>\n",
       "      <td>0</td>\n",
       "      <td>1</td>\n",
       "      <td>2814</td>\n",
       "      <td>2814</td>\n",
       "      <td>505</td>\n",
       "      <td>...</td>\n",
       "      <td>0</td>\n",
       "      <td>0</td>\n",
       "      <td>1</td>\n",
       "      <td>2</td>\n",
       "      <td>1</td>\n",
       "      <td>0</td>\n",
       "      <td>0</td>\n",
       "      <td>0</td>\n",
       "      <td>0</td>\n",
       "      <td>0</td>\n",
       "    </tr>\n",
       "    <tr>\n",
       "      <th>2</th>\n",
       "      <td>2013/6/28</td>\n",
       "      <td>1.820590e+12</td>\n",
       "      <td>115136</td>\n",
       "      <td>5</td>\n",
       "      <td>99</td>\n",
       "      <td>0</td>\n",
       "      <td>1</td>\n",
       "      <td>2779</td>\n",
       "      <td>2779</td>\n",
       "      <td>182</td>\n",
       "      <td>...</td>\n",
       "      <td>1</td>\n",
       "      <td>0</td>\n",
       "      <td>1</td>\n",
       "      <td>1</td>\n",
       "      <td>0</td>\n",
       "      <td>8</td>\n",
       "      <td>1</td>\n",
       "      <td>0</td>\n",
       "      <td>0</td>\n",
       "      <td>0</td>\n",
       "    </tr>\n",
       "    <tr>\n",
       "      <th>3</th>\n",
       "      <td>2013/8/9</td>\n",
       "      <td>1.270660e+12</td>\n",
       "      <td>95034</td>\n",
       "      <td>5</td>\n",
       "      <td>99</td>\n",
       "      <td>0</td>\n",
       "      <td>1</td>\n",
       "      <td>223</td>\n",
       "      <td>223</td>\n",
       "      <td>127</td>\n",
       "      <td>...</td>\n",
       "      <td>0</td>\n",
       "      <td>1</td>\n",
       "      <td>2</td>\n",
       "      <td>0</td>\n",
       "      <td>0</td>\n",
       "      <td>0</td>\n",
       "      <td>0</td>\n",
       "      <td>0</td>\n",
       "      <td>0</td>\n",
       "      <td>0</td>\n",
       "    </tr>\n",
       "    <tr>\n",
       "      <th>4</th>\n",
       "      <td>2014/1/27</td>\n",
       "      <td>2.090350e+12</td>\n",
       "      <td>165240</td>\n",
       "      <td>5</td>\n",
       "      <td>99</td>\n",
       "      <td>0</td>\n",
       "      <td>1</td>\n",
       "      <td>1836</td>\n",
       "      <td>1836</td>\n",
       "      <td>209</td>\n",
       "      <td>...</td>\n",
       "      <td>0</td>\n",
       "      <td>0</td>\n",
       "      <td>2</td>\n",
       "      <td>0</td>\n",
       "      <td>0</td>\n",
       "      <td>0</td>\n",
       "      <td>0</td>\n",
       "      <td>0</td>\n",
       "      <td>0</td>\n",
       "      <td>0</td>\n",
       "    </tr>\n",
       "  </tbody>\n",
       "</table>\n",
       "<p>5 rows × 37 columns</p>\n",
       "</div>"
      ],
      "text/plain": [
       "  offer_date            NO  offer_time  baitai_dai  baitai_shousai  \\\n",
       "0   2013/2/3  1.820570e+12      133504           3               2   \n",
       "1  2013/6/18  5.050290e+12      145329           5              99   \n",
       "2  2013/6/28  1.820590e+12      115136           5              99   \n",
       "3   2013/8/9  1.270660e+12       95034           5              99   \n",
       "4  2014/1/27  2.090350e+12      165240           5              99   \n",
       "\n",
       "   uketsuke_jikantai  uketsuke_keitai  shinki_jidokeiyaku  toriatsukai_tenban  \\\n",
       "0                  3              502                   0                 182   \n",
       "1                  0                1                2814                2814   \n",
       "2                  0                1                2779                2779   \n",
       "3                  0                1                 223                 223   \n",
       "4                  0                1                1836                1836   \n",
       "\n",
       "   kanri_tenban      ...       shunyu_shoumei  dokushin doukyo  fuyo  \\\n",
       "0           182      ...                    0         1      2     0   \n",
       "1           505      ...                    0         0      1     2   \n",
       "2           182      ...                    1         0      1     1   \n",
       "3           127      ...                    0         1      2     0   \n",
       "4           209      ...                    0         0      2     0   \n",
       "\n",
       "   fuyo_child  shotoku_shoumei  meigi  jigyo_keitai  jigyosho  month12_jiko  \n",
       "0           0                0      0             6         0             0  \n",
       "1           1                0      0             0         0             0  \n",
       "2           0                8      1             0         0             0  \n",
       "3           0                0      0             0         0             0  \n",
       "4           0                0      0             0         0             0  \n",
       "\n",
       "[5 rows x 37 columns]"
      ]
     },
     "execution_count": 47,
     "metadata": {},
     "output_type": "execute_result"
    }
   ],
   "source": [
    "df = pd.read_csv(\"モデル構築用.csv\", encoding=\"sjis\")\n",
    "origin_columns = df.columns\n",
    "df.columns = [\"offer_date\",\"NO\",\"offer_time\",\"baitai_dai\",\"baitai_shousai\",\"uketsuke_jikantai\",\"uketsuke_keitai\",\"shinki_jidokeiyaku\",\"toriatsukai_tenban\",\"kanri_tenban\",\"sex\",\"age\",\"birth\",\"jis\",\"doku\",\"sinshoku_dai\",\"sinshoku_shousai\",\"koyo\",\"shugyo\",\"kaisha_kibo\",\"nenshu\",\"zaisha\",\"jukyo\",\"kyoju\",\"yachin\",\"kazoku_kousei\",\"hoken_shokushu\",\"shunyu_shoumei\",\"dokushin\",\"doukyo\",\"fuyo\",\"fuyo_child\",\"shotoku_shoumei\",\"meigi\",\"jigyo_keitai\",\"jigyosho\",\"month12_jiko\"]\n",
    "\n",
    "df.head()"
   ]
  },
  {
   "cell_type": "code",
   "execution_count": 48,
   "metadata": {
    "collapsed": false,
    "scrolled": false
   },
   "outputs": [
    {
     "data": {
      "text/html": [
       "<div>\n",
       "<style scoped>\n",
       "    .dataframe tbody tr th:only-of-type {\n",
       "        vertical-align: middle;\n",
       "    }\n",
       "\n",
       "    .dataframe tbody tr th {\n",
       "        vertical-align: top;\n",
       "    }\n",
       "\n",
       "    .dataframe thead th {\n",
       "        text-align: right;\n",
       "    }\n",
       "</style>\n",
       "<table border=\"1\" class=\"dataframe\">\n",
       "  <thead>\n",
       "    <tr style=\"text-align: right;\">\n",
       "      <th></th>\n",
       "      <th>NO</th>\n",
       "      <th>offer_time</th>\n",
       "      <th>baitai_dai</th>\n",
       "      <th>baitai_shousai</th>\n",
       "      <th>uketsuke_jikantai</th>\n",
       "      <th>uketsuke_keitai</th>\n",
       "      <th>shinki_jidokeiyaku</th>\n",
       "      <th>toriatsukai_tenban</th>\n",
       "      <th>kanri_tenban</th>\n",
       "      <th>sex</th>\n",
       "      <th>...</th>\n",
       "      <th>shunyu_shoumei</th>\n",
       "      <th>dokushin</th>\n",
       "      <th>doukyo</th>\n",
       "      <th>fuyo</th>\n",
       "      <th>fuyo_child</th>\n",
       "      <th>shotoku_shoumei</th>\n",
       "      <th>meigi</th>\n",
       "      <th>jigyo_keitai</th>\n",
       "      <th>jigyosho</th>\n",
       "      <th>month12_jiko</th>\n",
       "    </tr>\n",
       "  </thead>\n",
       "  <tbody>\n",
       "    <tr>\n",
       "      <th>0</th>\n",
       "      <td>1.820570e+12</td>\n",
       "      <td>133504</td>\n",
       "      <td>3</td>\n",
       "      <td>2</td>\n",
       "      <td>3</td>\n",
       "      <td>502</td>\n",
       "      <td>0</td>\n",
       "      <td>182</td>\n",
       "      <td>182</td>\n",
       "      <td>1</td>\n",
       "      <td>...</td>\n",
       "      <td>0</td>\n",
       "      <td>1</td>\n",
       "      <td>2</td>\n",
       "      <td>0</td>\n",
       "      <td>0</td>\n",
       "      <td>0</td>\n",
       "      <td>0</td>\n",
       "      <td>6</td>\n",
       "      <td>0</td>\n",
       "      <td>0</td>\n",
       "    </tr>\n",
       "    <tr>\n",
       "      <th>1</th>\n",
       "      <td>5.050290e+12</td>\n",
       "      <td>145329</td>\n",
       "      <td>5</td>\n",
       "      <td>99</td>\n",
       "      <td>0</td>\n",
       "      <td>1</td>\n",
       "      <td>2814</td>\n",
       "      <td>2814</td>\n",
       "      <td>505</td>\n",
       "      <td>1</td>\n",
       "      <td>...</td>\n",
       "      <td>0</td>\n",
       "      <td>0</td>\n",
       "      <td>1</td>\n",
       "      <td>2</td>\n",
       "      <td>1</td>\n",
       "      <td>0</td>\n",
       "      <td>0</td>\n",
       "      <td>0</td>\n",
       "      <td>0</td>\n",
       "      <td>0</td>\n",
       "    </tr>\n",
       "    <tr>\n",
       "      <th>2</th>\n",
       "      <td>1.820590e+12</td>\n",
       "      <td>115136</td>\n",
       "      <td>5</td>\n",
       "      <td>99</td>\n",
       "      <td>0</td>\n",
       "      <td>1</td>\n",
       "      <td>2779</td>\n",
       "      <td>2779</td>\n",
       "      <td>182</td>\n",
       "      <td>1</td>\n",
       "      <td>...</td>\n",
       "      <td>1</td>\n",
       "      <td>0</td>\n",
       "      <td>1</td>\n",
       "      <td>1</td>\n",
       "      <td>0</td>\n",
       "      <td>8</td>\n",
       "      <td>1</td>\n",
       "      <td>0</td>\n",
       "      <td>0</td>\n",
       "      <td>0</td>\n",
       "    </tr>\n",
       "    <tr>\n",
       "      <th>3</th>\n",
       "      <td>1.270660e+12</td>\n",
       "      <td>95034</td>\n",
       "      <td>5</td>\n",
       "      <td>99</td>\n",
       "      <td>0</td>\n",
       "      <td>1</td>\n",
       "      <td>223</td>\n",
       "      <td>223</td>\n",
       "      <td>127</td>\n",
       "      <td>1</td>\n",
       "      <td>...</td>\n",
       "      <td>0</td>\n",
       "      <td>1</td>\n",
       "      <td>2</td>\n",
       "      <td>0</td>\n",
       "      <td>0</td>\n",
       "      <td>0</td>\n",
       "      <td>0</td>\n",
       "      <td>0</td>\n",
       "      <td>0</td>\n",
       "      <td>0</td>\n",
       "    </tr>\n",
       "    <tr>\n",
       "      <th>4</th>\n",
       "      <td>2.090350e+12</td>\n",
       "      <td>165240</td>\n",
       "      <td>5</td>\n",
       "      <td>99</td>\n",
       "      <td>0</td>\n",
       "      <td>1</td>\n",
       "      <td>1836</td>\n",
       "      <td>1836</td>\n",
       "      <td>209</td>\n",
       "      <td>1</td>\n",
       "      <td>...</td>\n",
       "      <td>0</td>\n",
       "      <td>0</td>\n",
       "      <td>2</td>\n",
       "      <td>0</td>\n",
       "      <td>0</td>\n",
       "      <td>0</td>\n",
       "      <td>0</td>\n",
       "      <td>0</td>\n",
       "      <td>0</td>\n",
       "      <td>0</td>\n",
       "    </tr>\n",
       "  </tbody>\n",
       "</table>\n",
       "<p>5 rows × 35 columns</p>\n",
       "</div>"
      ],
      "text/plain": [
       "             NO  offer_time  baitai_dai  baitai_shousai  uketsuke_jikantai  \\\n",
       "0  1.820570e+12      133504           3               2                  3   \n",
       "1  5.050290e+12      145329           5              99                  0   \n",
       "2  1.820590e+12      115136           5              99                  0   \n",
       "3  1.270660e+12       95034           5              99                  0   \n",
       "4  2.090350e+12      165240           5              99                  0   \n",
       "\n",
       "   uketsuke_keitai  shinki_jidokeiyaku  toriatsukai_tenban  kanri_tenban  sex  \\\n",
       "0              502                   0                 182           182    1   \n",
       "1                1                2814                2814           505    1   \n",
       "2                1                2779                2779           182    1   \n",
       "3                1                 223                 223           127    1   \n",
       "4                1                1836                1836           209    1   \n",
       "\n",
       "       ...       shunyu_shoumei  dokushin  doukyo  fuyo  fuyo_child  \\\n",
       "0      ...                    0         1       2     0           0   \n",
       "1      ...                    0         0       1     2           1   \n",
       "2      ...                    1         0       1     1           0   \n",
       "3      ...                    0         1       2     0           0   \n",
       "4      ...                    0         0       2     0           0   \n",
       "\n",
       "   shotoku_shoumei  meigi  jigyo_keitai  jigyosho  month12_jiko  \n",
       "0                0      0             6         0             0  \n",
       "1                0      0             0         0             0  \n",
       "2                8      1             0         0             0  \n",
       "3                0      0             0         0             0  \n",
       "4                0      0             0         0             0  \n",
       "\n",
       "[5 rows x 35 columns]"
      ]
     },
     "execution_count": 48,
     "metadata": {},
     "output_type": "execute_result"
    }
   ],
   "source": [
    "df = df.drop(['offer_date', 'birth'], axis=1)\n",
    "df.head()"
   ]
  },
  {
   "cell_type": "code",
   "execution_count": 49,
   "metadata": {
    "collapsed": false
   },
   "outputs": [],
   "source": [
    "#trainとtestに分割\n",
    "train_df, test_df = train_test_split(df, test_size = 0.1, random_state=0)\n",
    "train_X = train_df.drop('month12_jiko',axis=1)\n",
    "test_X = test_df.drop('month12_jiko',axis=1)\n",
    "train_y = train_df['month12_jiko']\n",
    "test_y = test_df['month12_jiko']"
   ]
  },
  {
   "cell_type": "code",
   "execution_count": 50,
   "metadata": {
    "collapsed": false
   },
   "outputs": [
    {
     "name": "stdout",
     "output_type": "stream",
     "text": [
      "事故 1604\n",
      "安全 9024\n"
     ]
    }
   ],
   "source": [
    "#検証用データ全体の分類\n",
    "print('事故', np.sum(df['month12_jiko'] == 1))\n",
    "print('安全', np.sum(df['month12_jiko'] == 0))"
   ]
  },
  {
   "cell_type": "code",
   "execution_count": 51,
   "metadata": {
    "collapsed": false
   },
   "outputs": [
    {
     "name": "stdout",
     "output_type": "stream",
     "text": [
      "事故 150\n",
      "安全 913\n"
     ]
    }
   ],
   "source": [
    "#テストデータの分類\n",
    "print('事故', np.sum(test_df['month12_jiko'] == 1))\n",
    "print('安全', np.sum(test_df['month12_jiko'] == 0))"
   ]
  },
  {
   "cell_type": "code",
   "execution_count": 52,
   "metadata": {
    "collapsed": false
   },
   "outputs": [
    {
     "name": "stderr",
     "output_type": "stream",
     "text": [
      "[Parallel(n_jobs=1)]: Using backend SequentialBackend with 1 concurrent workers.\n",
      "[Parallel(n_jobs=1)]: Done 100 out of 100 | elapsed:    7.9s finished\n",
      "[Parallel(n_jobs=1)]: Using backend SequentialBackend with 1 concurrent workers.\n",
      "[Parallel(n_jobs=1)]: Done 100 out of 100 | elapsed:    0.0s finished\n"
     ]
    }
   ],
   "source": [
    "#RF回帰モデル作成\n",
    "rf_reg = RandomForestRegressor(verbose = 1, n_estimators=100, max_depth=20)\n",
    "rf_reg.fit(train_X,train_y)\n",
    "pred_y_reg = rf_reg.predict(test_X)"
   ]
  },
  {
   "cell_type": "code",
   "execution_count": 53,
   "metadata": {
    "collapsed": false
   },
   "outputs": [
    {
     "data": {
      "image/png": "[encoded data removed]",
      "text/plain": [
       "<matplotlib.figure.Figure at 0x1c267a34a8>"
      ]
     },
     "metadata": {},
     "output_type": "display_data"
    }
   ],
   "source": [
    "number = len(list(test_y))\n",
    "plt.figure()\n",
    "plt.plot(list(test_y)[0:number], 'o')\n",
    "plt.plot(list(pred_y_reg)[0:number], '^')\n",
    "plt.show()"
   ]
  },
  {
   "cell_type": "code",
   "execution_count": 54,
   "metadata": {
    "collapsed": false,
    "scrolled": true
   },
   "outputs": [
    {
     "name": "stderr",
     "output_type": "stream",
     "text": [
      "[Parallel(n_jobs=1)]: Using backend SequentialBackend with 1 concurrent workers.\n",
      "[Parallel(n_jobs=1)]: Done 100 out of 100 | elapsed:    1.5s finished\n",
      "[Parallel(n_jobs=1)]: Using backend SequentialBackend with 1 concurrent workers.\n",
      "[Parallel(n_jobs=1)]: Done 100 out of 100 | elapsed:    0.0s finished\n"
     ]
    }
   ],
   "source": [
    "#RF分類モデル作成\n",
    "rf_cla = RandomForestClassifier(verbose = 1, n_estimators=100, max_depth=20)\n",
    "rf_cla.fit(train_X,train_y)\n",
    "pred_y_cla = rf_cla.predict(test_X)"
   ]
  },
  {
   "cell_type": "code",
   "execution_count": 55,
   "metadata": {
    "collapsed": false
   },
   "outputs": [
    {
     "data": {
      "text/plain": [
       "0.863593603010348"
      ]
     },
     "execution_count": 55,
     "metadata": {},
     "output_type": "execute_result"
    }
   ],
   "source": [
    "#分類正解率\n",
    "accuracy_score(test_y, pred_y_cla)"
   ]
  },
  {
   "cell_type": "code",
   "execution_count": 56,
   "metadata": {
    "collapsed": true
   },
   "outputs": [],
   "source": [
    "precision, recall, thresholds = roc_curve(test_y, pred_y_cla)\n",
    "score = auc(precision, recall)"
   ]
  },
  {
   "cell_type": "code",
   "execution_count": 57,
   "metadata": {
    "collapsed": false
   },
   "outputs": [
    {
     "data": {
      "text/plain": [
       "0.5166666666666667"
      ]
     },
     "execution_count": 57,
     "metadata": {},
     "output_type": "execute_result"
    }
   ],
   "source": [
    "score"
   ]
  },
  {
   "cell_type": "code",
   "execution_count": 58,
   "metadata": {
    "collapsed": true
   },
   "outputs": [],
   "source": [
    "#RF回帰の結果をバイナリ化\n",
    "threshold = 0.2\n",
    "binary_pred_y_reg = []\n",
    "for i in pred_y_reg:\n",
    "    if i > threshold:\n",
    "        binary_pred_y_reg.append(1)\n",
    "    elif i <= threshold:\n",
    "        binary_pred_y_reg.append(0)"
   ]
  },
  {
   "cell_type": "code",
   "execution_count": 59,
   "metadata": {
    "collapsed": false
   },
   "outputs": [
    {
     "data": {
      "text/plain": [
       "array([[627, 286],\n",
       "       [ 65,  85]])"
      ]
     },
     "execution_count": 59,
     "metadata": {},
     "output_type": "execute_result"
    }
   ],
   "source": [
    "#RF回帰を0,1に変換した結果\n",
    "confusion_matrix(test_y, binary_pred_y_reg, labels=[0,1])"
   ]
  },
  {
   "cell_type": "code",
   "execution_count": 60,
   "metadata": {
    "collapsed": false,
    "scrolled": true
   },
   "outputs": [
    {
     "data": {
      "text/plain": [
       "array([[913,   0],\n",
       "       [145,   5]])"
      ]
     },
     "execution_count": 60,
     "metadata": {},
     "output_type": "execute_result"
    }
   ],
   "source": [
    "#RF分類の結果\n",
    "confusion_matrix(test_y, pred_y_cla, labels=[0,1])"
   ]
  },
  {
   "cell_type": "markdown",
   "metadata": {},
   "source": [
    "# =============================================================="
   ]
  },
  {
   "cell_type": "code",
   "execution_count": 16,
   "metadata": {
    "collapsed": true
   },
   "outputs": [],
   "source": [
    "#営業利益の算出(一次関数)\n",
    "def operating_profit_linear(y_pred_reg, y_pred_cla, y_test, offset):\n",
    "    gain_list = []\n",
    "    loss_list = []\n",
    "    for i in y_pred_reg:\n",
    "        if i > offset:\n",
    "            gain_list.append(0)\n",
    "        elif i <= offset:\n",
    "            gain_list.append(int(-(45*i)/offset+50))\n",
    "    gain = np.sum(gain_list)\n",
    "    for i in range(len(y_pred_cla)):\n",
    "        if (y_pred_cla[i] == 0 and y_test[i] == 1):\n",
    "            loss_list.append(gain_list[i])\n",
    "        else:\n",
    "            loss_list.append(0)\n",
    "    loss = np.sum(loss_list)\n",
    "    return gain, loss, int(gain*0.18-loss)"
   ]
  },
  {
   "cell_type": "code",
   "execution_count": 17,
   "metadata": {
    "collapsed": false
   },
   "outputs": [],
   "source": [
    "para_list = [i*0.01 for i in range(1,101)]\n",
    "profit_list = []\n",
    "for para in para_list:\n",
    "    binary_pred_y_reg = []\n",
    "    for j in pred_y_reg:\n",
    "        if j > para:\n",
    "            binary_pred_y_reg.append(1)\n",
    "        elif j <= para:\n",
    "            binary_pred_y_reg.append(0)\n",
    "    profit_list.append(operating_profit_linear(pred_y_reg, binary_pred_y_reg, list(test_y), para)[2])\n",
    "para_list.insert(0, 0)\n",
    "profit_list.insert(0, 0)"
   ]
  },
  {
   "cell_type": "code",
   "execution_count": 18,
   "metadata": {
    "collapsed": false
   },
   "outputs": [
    {
     "data": {
      "image/png": "[encoded data removed]",
      "text/plain": [
       "<matplotlib.figure.Figure at 0x1c239840b8>"
      ]
     },
     "metadata": {},
     "output_type": "display_data"
    }
   ],
   "source": [
    "plt.figure()\n",
    "plt.plot(para_list, profit_list, 'o')\n",
    "plt.xlabel('rate')\n",
    "plt.ylabel(\"profit\")\n",
    "plt.show()"
   ]
  },
  {
   "cell_type": "code",
   "execution_count": 19,
   "metadata": {
    "collapsed": false,
    "scrolled": false
   },
   "outputs": [
    {
     "name": "stdout",
     "output_type": "stream",
     "text": [
      "2421\n",
      "38\n"
     ]
    }
   ],
   "source": [
    "print(np.max(profit_list))\n",
    "print(np.argmax(profit_list))"
   ]
  },
  {
   "cell_type": "code",
   "execution_count": 20,
   "metadata": {
    "collapsed": true
   },
   "outputs": [],
   "source": [
    "#最大利益の場合をバイナリ化\n",
    "threshold = np.argmax(profit_list)/100\n",
    "binary_pred_y_reg = []\n",
    "for i in pred_y_reg:\n",
    "    if i > threshold:\n",
    "        binary_pred_y_reg.append(1)\n",
    "    elif i <= threshold:\n",
    "        binary_pred_y_reg.append(0)"
   ]
  },
  {
   "cell_type": "code",
   "execution_count": 21,
   "metadata": {
    "collapsed": false
   },
   "outputs": [
    {
     "data": {
      "text/plain": [
       "array([[870,  43],\n",
       "       [126,  24]])"
      ]
     },
     "execution_count": 21,
     "metadata": {},
     "output_type": "execute_result"
    }
   ],
   "source": [
    "#最大利益の場合でRF回帰の結果を0,1に変換した結果\n",
    "confusion_matrix(test_y, binary_pred_y_reg, labels=[0,1])"
   ]
  },
  {
   "cell_type": "markdown",
   "metadata": {},
   "source": [
    "# =============================================================="
   ]
  },
  {
   "cell_type": "code",
   "execution_count": 22,
   "metadata": {
    "collapsed": true
   },
   "outputs": [],
   "source": [
    "#営業利益の算出(一次関数_ver2)\n",
    "def operating_profit_linear_ver2(y_pred_reg, y_pred_cla, y_test, offset_n, offset_m):\n",
    "    gain_list = []\n",
    "    loss_list = []\n",
    "    for i in y_pred_reg:\n",
    "        if i > offset_n:\n",
    "            gain_list.append(0)\n",
    "        elif i <= offset_n and i >= offset_m:\n",
    "            gain_list.append(int((-45/(offset_n-offset_m))*i+(45*offset_n/(offset_n-offset_m))+5))\n",
    "        elif i < offset_m:\n",
    "            gain_list.append(50)\n",
    "    gain = np.sum(gain_list)\n",
    "    for i in range(len(y_pred_cla)):\n",
    "        if (y_pred_cla[i] == 0 and y_test[i] == 1):\n",
    "            loss_list.append(gain_list[i])\n",
    "        else:\n",
    "            loss_list.append(0)\n",
    "    loss = np.sum(loss_list)\n",
    "    return gain, loss, int(gain*0.18-loss)"
   ]
  },
  {
   "cell_type": "code",
   "execution_count": 23,
   "metadata": {
    "collapsed": true
   },
   "outputs": [],
   "source": [
    "para_list = [i*0.01 for i in range(1,101)]\n",
    "profit_list = []\n",
    "for para_n in para_list:\n",
    "    profit_list_m = []\n",
    "    binary_pred_y_reg = []\n",
    "    for j in pred_y_reg:\n",
    "        if j > para_n:\n",
    "            binary_pred_y_reg.append(1)\n",
    "        elif j <= para_n:\n",
    "            binary_pred_y_reg.append(0)\n",
    "    for para_m in para_list:\n",
    "        if para_m < para_n:\n",
    "            profit_list_m.append(operating_profit_linear_ver2(pred_y_reg, binary_pred_y_reg, list(test_y), para_n, para_m)[2])\n",
    "        else:\n",
    "            profit_list_m.append(0)\n",
    "            #profit_list_m.insert(0, 0)\n",
    "    profit_list.append(profit_list_m)\n",
    "#para_list.insert(0, 0)"
   ]
  },
  {
   "cell_type": "code",
   "execution_count": 24,
   "metadata": {
    "collapsed": false,
    "scrolled": true
   },
   "outputs": [
    {
     "data": {
      "text/plain": [
       "3255"
      ]
     },
     "execution_count": 24,
     "metadata": {},
     "output_type": "execute_result"
    }
   ],
   "source": [
    "np.max(profit_list)"
   ]
  },
  {
   "cell_type": "code",
   "execution_count": 25,
   "metadata": {
    "collapsed": false
   },
   "outputs": [
    {
     "data": {
      "text/plain": [
       "(100, 100)"
      ]
     },
     "execution_count": 25,
     "metadata": {},
     "output_type": "execute_result"
    }
   ],
   "source": [
    "np.array(profit_list).shape"
   ]
  },
  {
   "cell_type": "code",
   "execution_count": null,
   "metadata": {
    "collapsed": true
   },
   "outputs": [],
   "source": []
  },
  {
   "cell_type": "code",
   "execution_count": null,
   "metadata": {
    "collapsed": true
   },
   "outputs": [],
   "source": []
  },
  {
   "cell_type": "code",
   "execution_count": 26,
   "metadata": {
    "collapsed": false
   },
   "outputs": [],
   "source": [
    "profit_list_max_n = []\n",
    "for i in range(len(profit_list)):\n",
    "    profit_list_max_n.append(np.max(profit_list[i]))"
   ]
  },
  {
   "cell_type": "code",
   "execution_count": 27,
   "metadata": {
    "collapsed": false
   },
   "outputs": [
    {
     "data": {
      "image/png": "[encoded data removed]",
      "text/plain": [
       "<matplotlib.figure.Figure at 0x1c262527b8>"
      ]
     },
     "metadata": {},
     "output_type": "display_data"
    }
   ],
   "source": [
    "plt.figure()\n",
    "plt.plot(para_list, profit_list_max_n, 'o')\n",
    "plt.xlabel('rate')\n",
    "plt.ylabel(\"profit_per_n\")\n",
    "plt.show()"
   ]
  },
  {
   "cell_type": "markdown",
   "metadata": {},
   "source": [
    "# =============================================================="
   ]
  },
  {
   "cell_type": "code",
   "execution_count": 28,
   "metadata": {
    "collapsed": true
   },
   "outputs": [],
   "source": [
    "#営業利益の算出(二次関数)\n",
    "def operating_profit_quadratic(y_pred_reg, y_pred_cla, y_test, offset):\n",
    "    gain_list = []\n",
    "    loss_list = []\n",
    "    for i in y_pred_reg:\n",
    "        if i > offset:\n",
    "            gain_list.append(0)\n",
    "        elif i <= offset:\n",
    "            gain_list.append(int((45/np.square(offset))*np.square(i)-(90/offset)*i+50))\n",
    "    gain = np.sum(gain_list)\n",
    "    for i in range(len(y_pred_cla)):\n",
    "        if (y_pred_cla[i] == 0 and y_test[i] == 1):\n",
    "            loss_list.append(gain_list[i])\n",
    "        else:\n",
    "            loss_list.append(0)\n",
    "    loss = np.sum(loss_list)\n",
    "    return gain, loss, int(gain*0.18-loss)"
   ]
  },
  {
   "cell_type": "code",
   "execution_count": 29,
   "metadata": {
    "collapsed": false
   },
   "outputs": [],
   "source": [
    "para_list = [i*0.01 for i in range(1,101)]\n",
    "profit_list = []\n",
    "for para in para_list:\n",
    "    binary_pred_y_reg = []\n",
    "    for j in pred_y_reg:\n",
    "        if j > para:\n",
    "            binary_pred_y_reg.append(1)\n",
    "        elif j <= para:\n",
    "            binary_pred_y_reg.append(0)\n",
    "    profit_list.append(operating_profit_quadratic(pred_y_reg, binary_pred_y_reg, list(test_y), para)[2])\n",
    "para_list.insert(0, 0)\n",
    "profit_list.insert(0, 0)"
   ]
  },
  {
   "cell_type": "code",
   "execution_count": 30,
   "metadata": {
    "collapsed": false
   },
   "outputs": [
    {
     "data": {
      "image/png": "[encoded data removed]",
      "text/plain": [
       "<matplotlib.figure.Figure at 0x1c265397b8>"
      ]
     },
     "metadata": {},
     "output_type": "display_data"
    }
   ],
   "source": [
    "plt.figure()\n",
    "plt.plot(para_list, profit_list, 'o')\n",
    "plt.xlabel('rate')\n",
    "plt.ylabel(\"profit\")\n",
    "plt.show()"
   ]
  },
  {
   "cell_type": "code",
   "execution_count": 31,
   "metadata": {
    "collapsed": false,
    "scrolled": true
   },
   "outputs": [
    {
     "data": {
      "image/png": "[encoded data removed]",
      "text/plain": [
       "<matplotlib.figure.Figure at 0x1c26252e48>"
      ]
     },
     "metadata": {},
     "output_type": "display_data"
    }
   ],
   "source": [
    "plt.figure()\n",
    "plt.hist(pred_y_reg,bins=100)\n",
    "plt.xlim(0, 1)\n",
    "plt.ylim(0)\n",
    "plt.xlabel('%')\n",
    "plt.ylabel(\"number\")\n",
    "plt.show()"
   ]
  },
  {
   "cell_type": "code",
   "execution_count": null,
   "metadata": {
    "collapsed": true
   },
   "outputs": [],
   "source": []
  }
 ],
 "metadata": {
  "anaconda-cloud": {},
  "kernelspec": {
   "display_name": "Python [conda env:anaconda3-4.2.0]",
   "language": "python",
   "name": "conda-env-anaconda3-4.2.0-py"
  },
  "language_info": {
   "codemirror_mode": {
    "name": "ipython",
    "version": 3
   },
   "file_extension": ".py",
   "mimetype": "text/x-python",
   "name": "python",
   "nbconvert_exporter": "python",
   "pygments_lexer": "ipython3",
   "version": "3.5.2"
  }
 },
 "nbformat": 4,
 "nbformat_minor": 1
}
