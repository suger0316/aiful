{
 "cells": [
  {
   "cell_type": "code",
   "execution_count": 1,
   "metadata": {
    "collapsed": false
   },
   "outputs": [
    {
     "name": "stderr",
     "output_type": "stream",
     "text": [
      "/Users/keiichirosato/.pyenv/versions/anaconda3-4.2.0/lib/python3.5/site-packages/lightgbm/__init__.py:45: FutureWarning: Starting from version 2.2.1, the library file in distribution wheels for macOS will be built by the Apple Clang compiler.\n",
      "This means that in case of installing LightGBM from PyPI via the ``pip install lightgbm`` command, you won't need to install the gcc compiler anymore.\n",
      "Instead of that, you'll need to install the OpenMP library, which is required for running LightGBM on the system with the Apple Clang compiler.\n",
      "You can install the OpenMP library by the following command: ``brew install libomp``.\n",
      "  \"You can install the OpenMP library by the following command: ``brew install libomp``.\", FutureWarning)\n"
     ]
    }
   ],
   "source": [
    "import numpy as np\n",
    "import pandas as pd\n",
    "import datetime\n",
    "import math\n",
    "import matplotlib.pyplot as plt\n",
    "import seaborn as sns\n",
    "import statsmodels.api as sm\n",
    "from sklearn.ensemble import RandomForestRegressor\n",
    "from sklearn.ensemble import RandomForestClassifier\n",
    "from sklearn.externals import joblib\n",
    "from sklearn.metrics import mean_squared_error, r2_score, accuracy_score, precision_score, recall_score, confusion_matrix, auc, roc_curve\n",
    "from sklearn.model_selection import train_test_split\n",
    "import lightgbm as lgb\n",
    "import xgboost as xgb"
   ]
  },
  {
   "cell_type": "code",
   "execution_count": 2,
   "metadata": {
    "collapsed": false
   },
   "outputs": [
    {
     "data": {
      "text/html": [
       "<div>\n",
       "<style scoped>\n",
       "    .dataframe tbody tr th:only-of-type {\n",
       "        vertical-align: middle;\n",
       "    }\n",
       "\n",
       "    .dataframe tbody tr th {\n",
       "        vertical-align: top;\n",
       "    }\n",
       "\n",
       "    .dataframe thead th {\n",
       "        text-align: right;\n",
       "    }\n",
       "</style>\n",
       "<table border=\"1\" class=\"dataframe\">\n",
       "  <thead>\n",
       "    <tr style=\"text-align: right;\">\n",
       "      <th></th>\n",
       "      <th>offer_date</th>\n",
       "      <th>NO</th>\n",
       "      <th>offer_time</th>\n",
       "      <th>baitai_dai</th>\n",
       "      <th>baitai_shousai</th>\n",
       "      <th>uketsuke_jikantai</th>\n",
       "      <th>uketsuke_keitai</th>\n",
       "      <th>shinki_jidokeiyaku</th>\n",
       "      <th>toriatsukai_tenban</th>\n",
       "      <th>kanri_tenban</th>\n",
       "      <th>...</th>\n",
       "      <th>shunyu_shoumei</th>\n",
       "      <th>dokushin</th>\n",
       "      <th>doukyo</th>\n",
       "      <th>fuyo</th>\n",
       "      <th>fuyo_child</th>\n",
       "      <th>shotoku_shoumei</th>\n",
       "      <th>meigi</th>\n",
       "      <th>jigyo_keitai</th>\n",
       "      <th>jigyosho</th>\n",
       "      <th>month12_jiko</th>\n",
       "    </tr>\n",
       "  </thead>\n",
       "  <tbody>\n",
       "    <tr>\n",
       "      <th>0</th>\n",
       "      <td>2013/2/3</td>\n",
       "      <td>1.820570e+12</td>\n",
       "      <td>133504</td>\n",
       "      <td>3</td>\n",
       "      <td>2</td>\n",
       "      <td>3</td>\n",
       "      <td>502</td>\n",
       "      <td>0</td>\n",
       "      <td>182</td>\n",
       "      <td>182</td>\n",
       "      <td>...</td>\n",
       "      <td>0</td>\n",
       "      <td>1</td>\n",
       "      <td>2</td>\n",
       "      <td>0</td>\n",
       "      <td>0</td>\n",
       "      <td>0</td>\n",
       "      <td>0</td>\n",
       "      <td>6</td>\n",
       "      <td>0</td>\n",
       "      <td>0</td>\n",
       "    </tr>\n",
       "    <tr>\n",
       "      <th>1</th>\n",
       "      <td>2013/6/18</td>\n",
       "      <td>5.050290e+12</td>\n",
       "      <td>145329</td>\n",
       "      <td>5</td>\n",
       "      <td>99</td>\n",
       "      <td>0</td>\n",
       "      <td>1</td>\n",
       "      <td>2814</td>\n",
       "      <td>2814</td>\n",
       "      <td>505</td>\n",
       "      <td>...</td>\n",
       "      <td>0</td>\n",
       "      <td>0</td>\n",
       "      <td>1</td>\n",
       "      <td>2</td>\n",
       "      <td>1</td>\n",
       "      <td>0</td>\n",
       "      <td>0</td>\n",
       "      <td>0</td>\n",
       "      <td>0</td>\n",
       "      <td>0</td>\n",
       "    </tr>\n",
       "    <tr>\n",
       "      <th>2</th>\n",
       "      <td>2013/6/28</td>\n",
       "      <td>1.820590e+12</td>\n",
       "      <td>115136</td>\n",
       "      <td>5</td>\n",
       "      <td>99</td>\n",
       "      <td>0</td>\n",
       "      <td>1</td>\n",
       "      <td>2779</td>\n",
       "      <td>2779</td>\n",
       "      <td>182</td>\n",
       "      <td>...</td>\n",
       "      <td>1</td>\n",
       "      <td>0</td>\n",
       "      <td>1</td>\n",
       "      <td>1</td>\n",
       "      <td>0</td>\n",
       "      <td>8</td>\n",
       "      <td>1</td>\n",
       "      <td>0</td>\n",
       "      <td>0</td>\n",
       "      <td>0</td>\n",
       "    </tr>\n",
       "    <tr>\n",
       "      <th>3</th>\n",
       "      <td>2013/8/9</td>\n",
       "      <td>1.270660e+12</td>\n",
       "      <td>95034</td>\n",
       "      <td>5</td>\n",
       "      <td>99</td>\n",
       "      <td>0</td>\n",
       "      <td>1</td>\n",
       "      <td>223</td>\n",
       "      <td>223</td>\n",
       "      <td>127</td>\n",
       "      <td>...</td>\n",
       "      <td>0</td>\n",
       "      <td>1</td>\n",
       "      <td>2</td>\n",
       "      <td>0</td>\n",
       "      <td>0</td>\n",
       "      <td>0</td>\n",
       "      <td>0</td>\n",
       "      <td>0</td>\n",
       "      <td>0</td>\n",
       "      <td>0</td>\n",
       "    </tr>\n",
       "    <tr>\n",
       "      <th>4</th>\n",
       "      <td>2014/1/27</td>\n",
       "      <td>2.090350e+12</td>\n",
       "      <td>165240</td>\n",
       "      <td>5</td>\n",
       "      <td>99</td>\n",
       "      <td>0</td>\n",
       "      <td>1</td>\n",
       "      <td>1836</td>\n",
       "      <td>1836</td>\n",
       "      <td>209</td>\n",
       "      <td>...</td>\n",
       "      <td>0</td>\n",
       "      <td>0</td>\n",
       "      <td>2</td>\n",
       "      <td>0</td>\n",
       "      <td>0</td>\n",
       "      <td>0</td>\n",
       "      <td>0</td>\n",
       "      <td>0</td>\n",
       "      <td>0</td>\n",
       "      <td>0</td>\n",
       "    </tr>\n",
       "  </tbody>\n",
       "</table>\n",
       "<p>5 rows × 37 columns</p>\n",
       "</div>"
      ],
      "text/plain": [
       "  offer_date            NO  offer_time  baitai_dai  baitai_shousai  \\\n",
       "0   2013/2/3  1.820570e+12      133504           3               2   \n",
       "1  2013/6/18  5.050290e+12      145329           5              99   \n",
       "2  2013/6/28  1.820590e+12      115136           5              99   \n",
       "3   2013/8/9  1.270660e+12       95034           5              99   \n",
       "4  2014/1/27  2.090350e+12      165240           5              99   \n",
       "\n",
       "   uketsuke_jikantai  uketsuke_keitai  shinki_jidokeiyaku  toriatsukai_tenban  \\\n",
       "0                  3              502                   0                 182   \n",
       "1                  0                1                2814                2814   \n",
       "2                  0                1                2779                2779   \n",
       "3                  0                1                 223                 223   \n",
       "4                  0                1                1836                1836   \n",
       "\n",
       "   kanri_tenban      ...       shunyu_shoumei  dokushin doukyo  fuyo  \\\n",
       "0           182      ...                    0         1      2     0   \n",
       "1           505      ...                    0         0      1     2   \n",
       "2           182      ...                    1         0      1     1   \n",
       "3           127      ...                    0         1      2     0   \n",
       "4           209      ...                    0         0      2     0   \n",
       "\n",
       "   fuyo_child  shotoku_shoumei  meigi  jigyo_keitai  jigyosho  month12_jiko  \n",
       "0           0                0      0             6         0             0  \n",
       "1           1                0      0             0         0             0  \n",
       "2           0                8      1             0         0             0  \n",
       "3           0                0      0             0         0             0  \n",
       "4           0                0      0             0         0             0  \n",
       "\n",
       "[5 rows x 37 columns]"
      ]
     },
     "execution_count": 2,
     "metadata": {},
     "output_type": "execute_result"
    }
   ],
   "source": [
    "df = pd.read_csv(\"モデル構築用.csv\", encoding=\"sjis\")\n",
    "origin_columns = df.columns\n",
    "df.columns = [\"offer_date\",\"NO\",\"offer_time\",\"baitai_dai\",\"baitai_shousai\",\"uketsuke_jikantai\",\"uketsuke_keitai\",\"shinki_jidokeiyaku\",\"toriatsukai_tenban\",\"kanri_tenban\",\"sex\",\"age\",\"birth\",\"jis\",\"doku\",\"sinshoku_dai\",\"sinshoku_shousai\",\"koyo\",\"shugyo\",\"kaisha_kibo\",\"nenshu\",\"zaisha\",\"jukyo\",\"kyoju\",\"yachin\",\"kazoku_kousei\",\"hoken_shokushu\",\"shunyu_shoumei\",\"dokushin\",\"doukyo\",\"fuyo\",\"fuyo_child\",\"shotoku_shoumei\",\"meigi\",\"jigyo_keitai\",\"jigyosho\",\"month12_jiko\"]\n",
    "df.head()"
   ]
  },
  {
   "cell_type": "code",
   "execution_count": 3,
   "metadata": {
    "collapsed": false
   },
   "outputs": [
    {
     "data": {
      "text/html": [
       "<div>\n",
       "<style scoped>\n",
       "    .dataframe tbody tr th:only-of-type {\n",
       "        vertical-align: middle;\n",
       "    }\n",
       "\n",
       "    .dataframe tbody tr th {\n",
       "        vertical-align: top;\n",
       "    }\n",
       "\n",
       "    .dataframe thead th {\n",
       "        text-align: right;\n",
       "    }\n",
       "</style>\n",
       "<table border=\"1\" class=\"dataframe\">\n",
       "  <thead>\n",
       "    <tr style=\"text-align: right;\">\n",
       "      <th></th>\n",
       "      <th>NO</th>\n",
       "      <th>offer_time</th>\n",
       "      <th>baitai_dai</th>\n",
       "      <th>baitai_shousai</th>\n",
       "      <th>uketsuke_jikantai</th>\n",
       "      <th>uketsuke_keitai</th>\n",
       "      <th>shinki_jidokeiyaku</th>\n",
       "      <th>toriatsukai_tenban</th>\n",
       "      <th>kanri_tenban</th>\n",
       "      <th>sex</th>\n",
       "      <th>...</th>\n",
       "      <th>shunyu_shoumei</th>\n",
       "      <th>dokushin</th>\n",
       "      <th>doukyo</th>\n",
       "      <th>fuyo</th>\n",
       "      <th>fuyo_child</th>\n",
       "      <th>shotoku_shoumei</th>\n",
       "      <th>meigi</th>\n",
       "      <th>jigyo_keitai</th>\n",
       "      <th>jigyosho</th>\n",
       "      <th>month12_jiko</th>\n",
       "    </tr>\n",
       "  </thead>\n",
       "  <tbody>\n",
       "    <tr>\n",
       "      <th>0</th>\n",
       "      <td>1.820570e+12</td>\n",
       "      <td>133504</td>\n",
       "      <td>3</td>\n",
       "      <td>2</td>\n",
       "      <td>3</td>\n",
       "      <td>502</td>\n",
       "      <td>0</td>\n",
       "      <td>182</td>\n",
       "      <td>182</td>\n",
       "      <td>1</td>\n",
       "      <td>...</td>\n",
       "      <td>0</td>\n",
       "      <td>1</td>\n",
       "      <td>2</td>\n",
       "      <td>0</td>\n",
       "      <td>0</td>\n",
       "      <td>0</td>\n",
       "      <td>0</td>\n",
       "      <td>6</td>\n",
       "      <td>0</td>\n",
       "      <td>0</td>\n",
       "    </tr>\n",
       "    <tr>\n",
       "      <th>1</th>\n",
       "      <td>5.050290e+12</td>\n",
       "      <td>145329</td>\n",
       "      <td>5</td>\n",
       "      <td>99</td>\n",
       "      <td>0</td>\n",
       "      <td>1</td>\n",
       "      <td>2814</td>\n",
       "      <td>2814</td>\n",
       "      <td>505</td>\n",
       "      <td>1</td>\n",
       "      <td>...</td>\n",
       "      <td>0</td>\n",
       "      <td>0</td>\n",
       "      <td>1</td>\n",
       "      <td>2</td>\n",
       "      <td>1</td>\n",
       "      <td>0</td>\n",
       "      <td>0</td>\n",
       "      <td>0</td>\n",
       "      <td>0</td>\n",
       "      <td>0</td>\n",
       "    </tr>\n",
       "    <tr>\n",
       "      <th>2</th>\n",
       "      <td>1.820590e+12</td>\n",
       "      <td>115136</td>\n",
       "      <td>5</td>\n",
       "      <td>99</td>\n",
       "      <td>0</td>\n",
       "      <td>1</td>\n",
       "      <td>2779</td>\n",
       "      <td>2779</td>\n",
       "      <td>182</td>\n",
       "      <td>1</td>\n",
       "      <td>...</td>\n",
       "      <td>1</td>\n",
       "      <td>0</td>\n",
       "      <td>1</td>\n",
       "      <td>1</td>\n",
       "      <td>0</td>\n",
       "      <td>8</td>\n",
       "      <td>1</td>\n",
       "      <td>0</td>\n",
       "      <td>0</td>\n",
       "      <td>0</td>\n",
       "    </tr>\n",
       "    <tr>\n",
       "      <th>3</th>\n",
       "      <td>1.270660e+12</td>\n",
       "      <td>95034</td>\n",
       "      <td>5</td>\n",
       "      <td>99</td>\n",
       "      <td>0</td>\n",
       "      <td>1</td>\n",
       "      <td>223</td>\n",
       "      <td>223</td>\n",
       "      <td>127</td>\n",
       "      <td>1</td>\n",
       "      <td>...</td>\n",
       "      <td>0</td>\n",
       "      <td>1</td>\n",
       "      <td>2</td>\n",
       "      <td>0</td>\n",
       "      <td>0</td>\n",
       "      <td>0</td>\n",
       "      <td>0</td>\n",
       "      <td>0</td>\n",
       "      <td>0</td>\n",
       "      <td>0</td>\n",
       "    </tr>\n",
       "    <tr>\n",
       "      <th>4</th>\n",
       "      <td>2.090350e+12</td>\n",
       "      <td>165240</td>\n",
       "      <td>5</td>\n",
       "      <td>99</td>\n",
       "      <td>0</td>\n",
       "      <td>1</td>\n",
       "      <td>1836</td>\n",
       "      <td>1836</td>\n",
       "      <td>209</td>\n",
       "      <td>1</td>\n",
       "      <td>...</td>\n",
       "      <td>0</td>\n",
       "      <td>0</td>\n",
       "      <td>2</td>\n",
       "      <td>0</td>\n",
       "      <td>0</td>\n",
       "      <td>0</td>\n",
       "      <td>0</td>\n",
       "      <td>0</td>\n",
       "      <td>0</td>\n",
       "      <td>0</td>\n",
       "    </tr>\n",
       "  </tbody>\n",
       "</table>\n",
       "<p>5 rows × 35 columns</p>\n",
       "</div>"
      ],
      "text/plain": [
       "             NO  offer_time  baitai_dai  baitai_shousai  uketsuke_jikantai  \\\n",
       "0  1.820570e+12      133504           3               2                  3   \n",
       "1  5.050290e+12      145329           5              99                  0   \n",
       "2  1.820590e+12      115136           5              99                  0   \n",
       "3  1.270660e+12       95034           5              99                  0   \n",
       "4  2.090350e+12      165240           5              99                  0   \n",
       "\n",
       "   uketsuke_keitai  shinki_jidokeiyaku  toriatsukai_tenban  kanri_tenban  sex  \\\n",
       "0              502                   0                 182           182    1   \n",
       "1                1                2814                2814           505    1   \n",
       "2                1                2779                2779           182    1   \n",
       "3                1                 223                 223           127    1   \n",
       "4                1                1836                1836           209    1   \n",
       "\n",
       "       ...       shunyu_shoumei  dokushin  doukyo  fuyo  fuyo_child  \\\n",
       "0      ...                    0         1       2     0           0   \n",
       "1      ...                    0         0       1     2           1   \n",
       "2      ...                    1         0       1     1           0   \n",
       "3      ...                    0         1       2     0           0   \n",
       "4      ...                    0         0       2     0           0   \n",
       "\n",
       "   shotoku_shoumei  meigi  jigyo_keitai  jigyosho  month12_jiko  \n",
       "0                0      0             6         0             0  \n",
       "1                0      0             0         0             0  \n",
       "2                8      1             0         0             0  \n",
       "3                0      0             0         0             0  \n",
       "4                0      0             0         0             0  \n",
       "\n",
       "[5 rows x 35 columns]"
      ]
     },
     "execution_count": 3,
     "metadata": {},
     "output_type": "execute_result"
    }
   ],
   "source": [
    "df = df.drop(['offer_date', 'birth'], axis=1)\n",
    "df.head()"
   ]
  },
  {
   "cell_type": "code",
   "execution_count": 4,
   "metadata": {
    "collapsed": false
   },
   "outputs": [],
   "source": [
    "train_df, test_df = train_test_split(df, test_size = 0.1, random_state=0)\n",
    "train_X = train_df.drop('month12_jiko',axis=1)\n",
    "test_X = test_df.drop('month12_jiko',axis=1)\n",
    "train_y = train_df['month12_jiko']\n",
    "test_y = test_df['month12_jiko']\n",
    "train_lgb = lgb.Dataset(train_X, train_y)\n",
    "test_lgb = lgb.Dataset(test_X, test_y, reference=train_lgb)"
   ]
  },
  {
   "cell_type": "code",
   "execution_count": 15,
   "metadata": {
    "collapsed": true
   },
   "outputs": [],
   "source": [
    "#営業利益の算出(一次関数_ver2)\n",
    "def operating_profit_linear_ver2(y_pred_reg, y_pred_cla, y_test, offset_n, offset_m):\n",
    "    gain_list = []\n",
    "    loss_list = []\n",
    "    for i in y_pred_reg:\n",
    "        if i > offset_n:\n",
    "            gain_list.append(0)\n",
    "        elif i <= offset_n and i >= offset_m:\n",
    "            gain_list.append(int((-45/(offset_n-offset_m))*i+(45*offset_n/(offset_n-offset_m))+5))\n",
    "        elif i < offset_m:\n",
    "            gain_list.append(50)\n",
    "    gain = np.sum(gain_list)\n",
    "    for i in range(len(y_pred_cla)):\n",
    "        if (y_pred_cla[i] == 0 and y_test[i] == 1):\n",
    "            loss_list.append(gain_list[i])\n",
    "        else:\n",
    "            loss_list.append(0)\n",
    "    loss = np.sum(loss_list)\n",
    "    return gain, loss, int(gain*0.18-loss)"
   ]
  },
  {
   "cell_type": "code",
   "execution_count": 5,
   "metadata": {
    "collapsed": false
   },
   "outputs": [
    {
     "name": "stdout",
     "output_type": "stream",
     "text": [
      "事故 150\n",
      "安全 913\n"
     ]
    }
   ],
   "source": [
    "#テストデータの分類\n",
    "print('事故', np.sum(test_df['month12_jiko'] == 1))\n",
    "print('安全', np.sum(test_df['month12_jiko'] == 0))"
   ]
  },
  {
   "cell_type": "code",
   "execution_count": 283,
   "metadata": {
    "collapsed": false,
    "scrolled": false
   },
   "outputs": [
    {
     "data": {
      "text/plain": [
       "LGBMRegressor(boosting_type='gbdt', class_weight=None, colsample_bytree=1.0,\n",
       "       importance_type='split', learning_rate=0.1, max_depth=-1,\n",
       "       min_child_samples=20, min_child_weight=0.001, min_split_gain=0.0,\n",
       "       n_estimators=100, n_jobs=-1, num_leaves=31, objective=None,\n",
       "       random_state=None, reg_alpha=0.0, reg_lambda=0.0, silent=True,\n",
       "       subsample=1.0, subsample_for_bin=200000, subsample_freq=0)"
      ]
     },
     "execution_count": 283,
     "metadata": {},
     "output_type": "execute_result"
    }
   ],
   "source": [
    "model_reg = lgb.LGBMRegressor()\n",
    "model_reg.fit(train_X, train_y)"
   ]
  },
  {
   "cell_type": "code",
   "execution_count": 284,
   "metadata": {
    "collapsed": true
   },
   "outputs": [],
   "source": [
    "pred_y_reg_array = model_reg.predict(test_X)\n",
    "pred_y_reg = []\n",
    "for i in pred_y_reg_array:\n",
    "    if i >= 0:\n",
    "        pred_y_reg.append(i)\n",
    "    elif i < 0:\n",
    "        pred_y_reg.append(0)\n",
    "pred_y_reg = np.array(pred_y_reg)"
   ]
  },
  {
   "cell_type": "code",
   "execution_count": 285,
   "metadata": {
    "collapsed": false
   },
   "outputs": [
    {
     "data": {
      "text/plain": [
       "array([0.11745439, 0.22237821, 0.12617095, ..., 0.07356041, 0.04720744,\n",
       "       0.        ])"
      ]
     },
     "execution_count": 285,
     "metadata": {},
     "output_type": "execute_result"
    }
   ],
   "source": [
    "pred_y_reg"
   ]
  },
  {
   "cell_type": "code",
   "execution_count": 286,
   "metadata": {
    "collapsed": false
   },
   "outputs": [
    {
     "data": {
      "text/plain": [
       "LGBMClassifier(boosting_type='gbdt', class_weight=None, colsample_bytree=1.0,\n",
       "        importance_type='split', learning_rate=0.1, max_dapth=20,\n",
       "        max_depth=-1, min_child_samples=20, min_child_weight=0.001,\n",
       "        min_split_gain=0.0, n_estimators=100, n_jobs=-1, num_leaves=31,\n",
       "        objective=None, random_state=None, reg_alpha=0.0, reg_lambda=0.0,\n",
       "        silent=True, subsample=1.0, subsample_for_bin=200000,\n",
       "        subsample_freq=0)"
      ]
     },
     "execution_count": 286,
     "metadata": {},
     "output_type": "execute_result"
    }
   ],
   "source": [
    "model_cla = lgb.LGBMClassifier(max_dapth=20,learning_rate=0.1)\n",
    "model_cla.fit(train_X, train_y)"
   ]
  },
  {
   "cell_type": "code",
   "execution_count": 287,
   "metadata": {
    "collapsed": true
   },
   "outputs": [],
   "source": [
    "pred_y_cla = model_cla.predict_proba(test_X)\n",
    "pred_y_cla = np.argmax(pred_y_cla, axis=1)"
   ]
  },
  {
   "cell_type": "code",
   "execution_count": 288,
   "metadata": {
    "collapsed": false
   },
   "outputs": [
    {
     "data": {
      "text/plain": [
       "0.8532455315145814"
      ]
     },
     "execution_count": 288,
     "metadata": {},
     "output_type": "execute_result"
    }
   ],
   "source": [
    "#分類正解率\n",
    "accuracy_score(test_y, pred_y_cla)"
   ]
  },
  {
   "cell_type": "code",
   "execution_count": 289,
   "metadata": {
    "collapsed": false
   },
   "outputs": [
    {
     "data": {
      "text/plain": [
       "array([[897,  16],\n",
       "       [140,  10]])"
      ]
     },
     "execution_count": 289,
     "metadata": {},
     "output_type": "execute_result"
    }
   ],
   "source": [
    "#RF分類の結果\n",
    "confusion_matrix(test_y, pred_y_cla, labels=[0,1])"
   ]
  },
  {
   "cell_type": "markdown",
   "metadata": {},
   "source": [
    "# =============================================================="
   ]
  },
  {
   "cell_type": "code",
   "execution_count": 290,
   "metadata": {
    "collapsed": true
   },
   "outputs": [],
   "source": [
    "#営業利益の算出(一次関数)\n",
    "def operating_profit_linear(y_pred_reg, y_pred_cla, y_test, offset):\n",
    "    gain_list = []\n",
    "    loss_list = []\n",
    "    for i in y_pred_reg:\n",
    "        if i > offset:\n",
    "            gain_list.append(0)\n",
    "        elif i <= offset:\n",
    "            gain_list.append(int(-(45*i)/offset+50))\n",
    "    gain = np.sum(gain_list)\n",
    "    for i in range(len(y_pred_cla)):\n",
    "        if (y_pred_cla[i] == 0 and y_test[i] == 1):\n",
    "            loss_list.append(gain_list[i])\n",
    "        else:\n",
    "            loss_list.append(0)\n",
    "    loss = np.sum(loss_list)\n",
    "    return gain, loss, int(gain*0.18-loss)"
   ]
  },
  {
   "cell_type": "code",
   "execution_count": 291,
   "metadata": {
    "collapsed": true
   },
   "outputs": [],
   "source": [
    "para_list = [i*0.01 for i in range(1,101)]\n",
    "profit_list = []\n",
    "for para in para_list:\n",
    "    binary_pred_y_reg = []\n",
    "    for j in pred_y_reg:\n",
    "        if j > para:\n",
    "            binary_pred_y_reg.append(1)\n",
    "        elif j <= para:\n",
    "            binary_pred_y_reg.append(0)\n",
    "    profit_list.append(operating_profit_linear(pred_y_reg, binary_pred_y_reg, list(test_y), para)[2])\n",
    "para_list.insert(0, 0)\n",
    "profit_list.insert(0, 0)"
   ]
  },
  {
   "cell_type": "code",
   "execution_count": 292,
   "metadata": {
    "collapsed": false
   },
   "outputs": [
    {
     "data": {
      "image/png": "[encoded data removed]",
      "text/plain": [
       "<matplotlib.figure.Figure at 0x1c23e82780>"
      ]
     },
     "metadata": {},
     "output_type": "display_data"
    }
   ],
   "source": [
    "plt.figure()\n",
    "plt.plot(para_list, profit_list, 'o')\n",
    "plt.xlabel('rate')\n",
    "plt.ylabel(\"profit\")\n",
    "plt.show()"
   ]
  },
  {
   "cell_type": "code",
   "execution_count": 293,
   "metadata": {
    "collapsed": false
   },
   "outputs": [
    {
     "name": "stdout",
     "output_type": "stream",
     "text": [
      "2544\n",
      "35\n"
     ]
    }
   ],
   "source": [
    "print(np.max(profit_list))\n",
    "print(np.argmax(profit_list))"
   ]
  },
  {
   "cell_type": "code",
   "execution_count": 294,
   "metadata": {
    "collapsed": true
   },
   "outputs": [],
   "source": [
    "#最大利益の場合をバイナリ化\n",
    "threshold = np.argmax(profit_list)/100\n",
    "binary_pred_y_reg = []\n",
    "for i in pred_y_reg:\n",
    "    if i > threshold:\n",
    "        binary_pred_y_reg.append(1)\n",
    "    elif i <= threshold:\n",
    "        binary_pred_y_reg.append(0)"
   ]
  },
  {
   "cell_type": "code",
   "execution_count": 275,
   "metadata": {
    "collapsed": false
   },
   "outputs": [
    {
     "data": {
      "text/plain": [
       "array([[1747,   62],\n",
       "       [ 269,   48]])"
      ]
     },
     "execution_count": 275,
     "metadata": {},
     "output_type": "execute_result"
    }
   ],
   "source": [
    "#最大利益の場合でRF回帰の結果を0,1に変換した結果\n",
    "confusion_matrix(test_y, binary_pred_y_reg, labels=[0,1])"
   ]
  },
  {
   "cell_type": "markdown",
   "metadata": {},
   "source": [
    "# =============================================================="
   ]
  },
  {
   "cell_type": "code",
   "execution_count": 277,
   "metadata": {
    "collapsed": true
   },
   "outputs": [],
   "source": [
    "para_list = [i*0.01 for i in range(1,101)]\n",
    "profit_list = []\n",
    "for para_n in para_list:\n",
    "    profit_list_m = []\n",
    "    binary_pred_y_reg = []\n",
    "    for j in pred_y_reg:\n",
    "        if j > para_n:\n",
    "            binary_pred_y_reg.append(1)\n",
    "        elif j <= para_n:\n",
    "            binary_pred_y_reg.append(0)\n",
    "    for para_m in para_list:\n",
    "        if para_m < para_n:\n",
    "            profit_list_m.append(operating_profit_linear_ver2(pred_y_reg, binary_pred_y_reg, list(test_y), para_n, para_m)[2])\n",
    "        else:\n",
    "            profit_list_m.append(0)\n",
    "            #profit_list_m.insert(0, 0)\n",
    "    profit_list.append(profit_list_m)\n",
    "#para_list.insert(0, 0)"
   ]
  },
  {
   "cell_type": "code",
   "execution_count": 278,
   "metadata": {
    "collapsed": false
   },
   "outputs": [
    {
     "data": {
      "text/plain": [
       "5776"
      ]
     },
     "execution_count": 278,
     "metadata": {},
     "output_type": "execute_result"
    }
   ],
   "source": [
    "np.max(profit_list)"
   ]
  },
  {
   "cell_type": "code",
   "execution_count": 187,
   "metadata": {
    "collapsed": true
   },
   "outputs": [],
   "source": [
    "profit_list_max_n = []\n",
    "for i in range(len(profit_list)):\n",
    "    profit_list_max_n.append(np.max(profit_list[i]))"
   ]
  },
  {
   "cell_type": "code",
   "execution_count": 188,
   "metadata": {
    "collapsed": false,
    "scrolled": true
   },
   "outputs": [
    {
     "data": {
      "image/png": "[encoded data removed]",
      "text/plain": [
       "<matplotlib.figure.Figure at 0x1c255c8550>"
      ]
     },
     "metadata": {},
     "output_type": "display_data"
    }
   ],
   "source": [
    "plt.figure()\n",
    "plt.plot(para_list, profit_list_max_n, 'o')\n",
    "plt.xlabel('rate')\n",
    "plt.ylabel(\"profit_per_n\")\n",
    "plt.show()"
   ]
  },
  {
   "cell_type": "markdown",
   "metadata": {},
   "source": [
    "# アンサンブル？"
   ]
  },
  {
   "cell_type": "code",
   "execution_count": 6,
   "metadata": {
    "collapsed": false
   },
   "outputs": [
    {
     "name": "stderr",
     "output_type": "stream",
     "text": [
      "[Parallel(n_jobs=1)]: Using backend SequentialBackend with 1 concurrent workers.\n",
      "[Parallel(n_jobs=1)]: Done 100 out of 100 | elapsed:    8.9s finished\n",
      "[Parallel(n_jobs=1)]: Using backend SequentialBackend with 1 concurrent workers.\n",
      "[Parallel(n_jobs=1)]: Done 100 out of 100 | elapsed:    0.0s finished\n"
     ]
    }
   ],
   "source": [
    "#RF回帰モデル作成\n",
    "rf_reg = RandomForestRegressor(verbose = 1, n_estimators=100, max_depth=20)\n",
    "rf_reg.fit(train_X,train_y)\n",
    "rf_pred_y_reg = rf_reg.predict(test_X)"
   ]
  },
  {
   "cell_type": "code",
   "execution_count": 7,
   "metadata": {
    "collapsed": true
   },
   "outputs": [],
   "source": [
    "#lightBGM回帰モデル作成\n",
    "model_reg = lgb.LGBMRegressor()\n",
    "model_reg.fit(train_X, train_y)\n",
    "bgm_pred_y_reg_array = model_reg.predict(test_X)\n",
    "bgm_pred_y_reg = []\n",
    "for i in bgm_pred_y_reg_array:\n",
    "    if i >= 0:\n",
    "        bgm_pred_y_reg.append(i)\n",
    "    elif i < 0:\n",
    "        bgm_pred_y_reg.append(0)\n",
    "bgm_pred_y_reg = np.array(bgm_pred_y_reg)"
   ]
  },
  {
   "cell_type": "code",
   "execution_count": 8,
   "metadata": {
    "collapsed": false
   },
   "outputs": [],
   "source": [
    "#XGboost回帰モデル作成\n",
    "xgb_reg = xgb.XGBRegressor()\n",
    "xgb_reg.fit(train_X, train_y)\n",
    "xgb_pred_y_reg_array = xgb_reg.predict(test_X)\n",
    "xgb_pred_y_reg = []\n",
    "for i in xgb_pred_y_reg_array:\n",
    "    if i >= 0:\n",
    "        xgb_pred_y_reg.append(i)\n",
    "    elif i < 0:\n",
    "        xgb_pred_y_reg.append(0)\n",
    "xgb_pred_y_reg = np.array(xgb_pred_y_reg)"
   ]
  },
  {
   "cell_type": "code",
   "execution_count": 9,
   "metadata": {
    "collapsed": false
   },
   "outputs": [
    {
     "data": {
      "text/plain": [
       "array([0.12305556, 0.21261336, 0.09737404, ..., 0.16      , 0.14027523,\n",
       "       0.02019227])"
      ]
     },
     "execution_count": 9,
     "metadata": {},
     "output_type": "execute_result"
    }
   ],
   "source": [
    "rf_pred_y_reg"
   ]
  },
  {
   "cell_type": "code",
   "execution_count": 10,
   "metadata": {
    "collapsed": false
   },
   "outputs": [
    {
     "data": {
      "text/plain": [
       "array([0.11745439, 0.22237821, 0.12617095, ..., 0.07356041, 0.04720744,\n",
       "       0.        ])"
      ]
     },
     "execution_count": 10,
     "metadata": {},
     "output_type": "execute_result"
    }
   ],
   "source": [
    "bgm_pred_y_reg"
   ]
  },
  {
   "cell_type": "code",
   "execution_count": 11,
   "metadata": {
    "collapsed": false
   },
   "outputs": [
    {
     "data": {
      "text/plain": [
       "array([0.13980782, 0.29546767, 0.15890288, ..., 0.12786466, 0.15324959,\n",
       "       0.        ])"
      ]
     },
     "execution_count": 11,
     "metadata": {},
     "output_type": "execute_result"
    }
   ],
   "source": [
    "xgb_pred_y_reg"
   ]
  },
  {
   "cell_type": "code",
   "execution_count": 12,
   "metadata": {
    "collapsed": true
   },
   "outputs": [],
   "source": [
    "acu_rf = 1/mean_squared_error(test_y, rf_pred_y_reg)\n",
    "acu_bgm =1/ mean_squared_error(test_y, bgm_pred_y_reg)\n",
    "acu_xgb = 1/mean_squared_error(test_y, xgb_pred_y_reg)"
   ]
  },
  {
   "cell_type": "code",
   "execution_count": 13,
   "metadata": {
    "collapsed": true
   },
   "outputs": [],
   "source": [
    "sum_acu = acu_rf + acu_bgm + acu_xgb\n",
    "pred_y_reg = (acu_rf*rf_pred_y_reg + acu_bgm*bgm_pred_y_reg + acu_xgb*xgb_pred_y_reg) / sum_acu"
   ]
  },
  {
   "cell_type": "code",
   "execution_count": 16,
   "metadata": {
    "collapsed": false
   },
   "outputs": [],
   "source": [
    "para_list = [i*0.01 for i in range(1,101)]\n",
    "profit_list = []\n",
    "for para_n in para_list:\n",
    "    profit_list_m = []\n",
    "    binary_pred_y_reg = []\n",
    "    for j in pred_y_reg:\n",
    "        if j > para_n:\n",
    "            binary_pred_y_reg.append(1)\n",
    "        elif j <= para_n:\n",
    "            binary_pred_y_reg.append(0)\n",
    "    for para_m in para_list:\n",
    "        if para_m < para_n:\n",
    "            profit_list_m.append(operating_profit_linear_ver2(pred_y_reg, binary_pred_y_reg, list(test_y), para_n, para_m)[2])\n",
    "        elif para_m == para_n:\n",
    "            profit_list_m.append(int(45*para_n))\n",
    "        else:\n",
    "            profit_list_m.append(0)\n",
    "            #profit_list_m.insert(0, 0)\n",
    "    profit_list.append(profit_list_m)\n",
    "#para_list.insert(0, 0)"
   ]
  },
  {
   "cell_type": "code",
   "execution_count": 17,
   "metadata": {
    "collapsed": false
   },
   "outputs": [
    {
     "data": {
      "text/plain": [
       "3300"
      ]
     },
     "execution_count": 17,
     "metadata": {},
     "output_type": "execute_result"
    }
   ],
   "source": [
    "np.max(profit_list)"
   ]
  },
  {
   "cell_type": "code",
   "execution_count": 18,
   "metadata": {
    "collapsed": true
   },
   "outputs": [],
   "source": [
    "profit_list_max_n = []\n",
    "for i in range(len(profit_list)):\n",
    "    profit_list_max_n.append(np.max(profit_list[i]))"
   ]
  },
  {
   "cell_type": "code",
   "execution_count": 19,
   "metadata": {
    "collapsed": false
   },
   "outputs": [
    {
     "data": {
      "image/png": "[encoded data removed]",
      "text/plain": [
       "<matplotlib.figure.Figure at 0x1c22569240>"
      ]
     },
     "metadata": {},
     "output_type": "display_data"
    }
   ],
   "source": [
    "plt.figure()\n",
    "plt.plot(para_list, profit_list_max_n, 'o')\n",
    "plt.xlabel('m', fontsize=16)\n",
    "plt.ylabel(\"profit\", fontsize=16)\n",
    "plt.ylim(0,4000)\n",
    "plt.show()"
   ]
  },
  {
   "cell_type": "code",
   "execution_count": 20,
   "metadata": {
    "collapsed": true
   },
   "outputs": [],
   "source": [
    "#最大利益の場合をバイナリ化\n",
    "threshold = (np.argmax(profit_list_max_n)+1)/100\n",
    "binary_pred_y_reg = []\n",
    "for i in pred_y_reg:\n",
    "    if i > threshold:\n",
    "        binary_pred_y_reg.append(1)\n",
    "    elif i <= threshold:\n",
    "        binary_pred_y_reg.append(0)"
   ]
  },
  {
   "cell_type": "code",
   "execution_count": 21,
   "metadata": {
    "collapsed": false
   },
   "outputs": [
    {
     "data": {
      "text/plain": [
       "3300"
      ]
     },
     "execution_count": 21,
     "metadata": {},
     "output_type": "execute_result"
    }
   ],
   "source": [
    "operating_profit_linear_ver2(pred_y_reg, binary_pred_y_reg, list(test_y), threshold, threshold-0.01)[2]"
   ]
  },
  {
   "cell_type": "code",
   "execution_count": 22,
   "metadata": {
    "collapsed": false
   },
   "outputs": [
    {
     "data": {
      "text/plain": [
       "array([[687, 226],\n",
       "       [ 70,  80]])"
      ]
     },
     "execution_count": 22,
     "metadata": {},
     "output_type": "execute_result"
    }
   ],
   "source": [
    "#最大利益の場合でRF回帰の結果を0,1に変換した結果\n",
    "confusion_matrix(test_y, binary_pred_y_reg, labels=[0,1])"
   ]
  },
  {
   "cell_type": "code",
   "execution_count": 23,
   "metadata": {
    "collapsed": false
   },
   "outputs": [
    {
     "data": {
      "text/plain": [
       "0.7131069733479372"
      ]
     },
     "execution_count": 23,
     "metadata": {},
     "output_type": "execute_result"
    }
   ],
   "source": [
    "precision, recall, thresholds = roc_curve(test_y, pred_y_reg)\n",
    "auc(precision, recall)"
   ]
  },
  {
   "cell_type": "code",
   "execution_count": 24,
   "metadata": {
    "collapsed": false
   },
   "outputs": [
    {
     "data": {
      "text/plain": [
       "0.6428988682000729"
      ]
     },
     "execution_count": 24,
     "metadata": {},
     "output_type": "execute_result"
    }
   ],
   "source": [
    "precision, recall, thresholds = roc_curve(test_y, binary_pred_y_reg)\n",
    "auc(precision, recall)"
   ]
  },
  {
   "cell_type": "code",
   "execution_count": null,
   "metadata": {
    "collapsed": true
   },
   "outputs": [],
   "source": []
  },
  {
   "cell_type": "code",
   "execution_count": null,
   "metadata": {
    "collapsed": true
   },
   "outputs": [],
   "source": []
  },
  {
   "cell_type": "code",
   "execution_count": null,
   "metadata": {
    "collapsed": true
   },
   "outputs": [],
   "source": []
  },
  {
   "cell_type": "code",
   "execution_count": 303,
   "metadata": {
    "collapsed": false
   },
   "outputs": [
    {
     "data": {
      "image/png": "[encoded data removed]",
      "text/plain": [
       "<matplotlib.figure.Figure at 0x1c22954eb8>"
      ]
     },
     "metadata": {},
     "output_type": "display_data"
    }
   ],
   "source": [
    "plt.figure()\n",
    "plt.plot(rf_pred_y_reg[0:50], label=\"RF\")\n",
    "plt.plot(bgm_pred_y_reg[0:50], label=\"GBM\")\n",
    "plt.plot(xgb_pred_y_reg[0:50], label=\"XG\")\n",
    "plt.legend()\n",
    "plt.show()"
   ]
  },
  {
   "cell_type": "code",
   "execution_count": 304,
   "metadata": {
    "collapsed": false
   },
   "outputs": [],
   "source": [
    "pred_y_reg=(rf_pred_y_reg+bgm_pred_y_reg+xgb_pred_y_reg)/3"
   ]
  },
  {
   "cell_type": "code",
   "execution_count": 305,
   "metadata": {
    "collapsed": true
   },
   "outputs": [],
   "source": [
    "para_list = [i*0.01 for i in range(1,101)]\n",
    "profit_list = []\n",
    "for para in para_list:\n",
    "    binary_pred_y_reg = []\n",
    "    for j in pred_y_reg:\n",
    "        if j > para:\n",
    "            binary_pred_y_reg.append(1)\n",
    "        elif j <= para:\n",
    "            binary_pred_y_reg.append(0)\n",
    "    profit_list.append(operating_profit_linear(pred_y_reg, binary_pred_y_reg, list(test_y), para)[2])\n",
    "para_list.insert(0, 0)\n",
    "profit_list.insert(0, 0)"
   ]
  },
  {
   "cell_type": "code",
   "execution_count": 306,
   "metadata": {
    "collapsed": false
   },
   "outputs": [
    {
     "data": {
      "image/png": "[encoded data removed]",
      "text/plain": [
       "<matplotlib.figure.Figure at 0x1c23fd4710>"
      ]
     },
     "metadata": {},
     "output_type": "display_data"
    }
   ],
   "source": [
    "plt.figure()\n",
    "plt.plot(para_list, profit_list, 'o')\n",
    "plt.xlabel('rate')\n",
    "plt.ylabel(\"profit\")\n",
    "plt.show()"
   ]
  },
  {
   "cell_type": "code",
   "execution_count": 307,
   "metadata": {
    "collapsed": false
   },
   "outputs": [
    {
     "name": "stdout",
     "output_type": "stream",
     "text": [
      "2448\n",
      "35\n"
     ]
    }
   ],
   "source": [
    "print(np.max(profit_list))\n",
    "print(np.argmax(profit_list))"
   ]
  },
  {
   "cell_type": "code",
   "execution_count": 308,
   "metadata": {
    "collapsed": true
   },
   "outputs": [],
   "source": [
    "#最大利益の場合をバイナリ化\n",
    "threshold = np.argmax(profit_list)/100\n",
    "binary_pred_y_reg = []\n",
    "for i in pred_y_reg:\n",
    "    if i > threshold:\n",
    "        binary_pred_y_reg.append(1)\n",
    "    elif i <= threshold:\n",
    "        binary_pred_y_reg.append(0)"
   ]
  },
  {
   "cell_type": "code",
   "execution_count": 309,
   "metadata": {
    "collapsed": false
   },
   "outputs": [
    {
     "data": {
      "text/plain": [
       "array([[871,  42],\n",
       "       [125,  25]])"
      ]
     },
     "execution_count": 309,
     "metadata": {},
     "output_type": "execute_result"
    }
   ],
   "source": [
    "#最大利益の場合でRF回帰の結果を0,1に変換した結果\n",
    "confusion_matrix(test_y, binary_pred_y_reg, labels=[0,1])"
   ]
  },
  {
   "cell_type": "code",
   "execution_count": 310,
   "metadata": {
    "collapsed": true
   },
   "outputs": [],
   "source": [
    "para_list = [i*0.01 for i in range(1,101)]\n",
    "profit_list = []\n",
    "for para_n in para_list:\n",
    "    profit_list_m = []\n",
    "    binary_pred_y_reg = []\n",
    "    for j in pred_y_reg:\n",
    "        if j > para_n:\n",
    "            binary_pred_y_reg.append(1)\n",
    "        elif j <= para_n:\n",
    "            binary_pred_y_reg.append(0)\n",
    "    for para_m in para_list:\n",
    "        if para_m < para_n:\n",
    "            profit_list_m.append(operating_profit_linear_ver2(pred_y_reg, binary_pred_y_reg, list(test_y), para_n, para_m)[2])\n",
    "        else:\n",
    "            profit_list_m.append(0)\n",
    "            #profit_list_m.insert(0, 0)\n",
    "    profit_list.append(profit_list_m)\n",
    "#para_list.insert(0, 0)"
   ]
  },
  {
   "cell_type": "code",
   "execution_count": 311,
   "metadata": {
    "collapsed": false,
    "scrolled": true
   },
   "outputs": [
    {
     "data": {
      "text/plain": [
       "3260"
      ]
     },
     "execution_count": 311,
     "metadata": {},
     "output_type": "execute_result"
    }
   ],
   "source": [
    "np.max(profit_list)"
   ]
  },
  {
   "cell_type": "code",
   "execution_count": 314,
   "metadata": {
    "collapsed": false
   },
   "outputs": [
    {
     "data": {
      "text/plain": [
       "0.7090909090909091"
      ]
     },
     "execution_count": 314,
     "metadata": {},
     "output_type": "execute_result"
    }
   ],
   "source": [
    "precision, recall, thresholds = roc_curve(test_y, pred_y_reg)\n",
    "auc(precision, recall)"
   ]
  },
  {
   "cell_type": "code",
   "execution_count": null,
   "metadata": {
    "collapsed": true
   },
   "outputs": [],
   "source": []
  }
 ],
 "metadata": {
  "anaconda-cloud": {},
  "kernelspec": {
   "display_name": "Python [conda env:anaconda3-4.2.0]",
   "language": "python",
   "name": "conda-env-anaconda3-4.2.0-py"
  },
  "language_info": {
   "codemirror_mode": {
    "name": "ipython",
    "version": 3
   },
   "file_extension": ".py",
   "mimetype": "text/x-python",
   "name": "python",
   "nbconvert_exporter": "python",
   "pygments_lexer": "ipython3",
   "version": "3.5.2"
  }
 },
 "nbformat": 4,
 "nbformat_minor": 1
}
