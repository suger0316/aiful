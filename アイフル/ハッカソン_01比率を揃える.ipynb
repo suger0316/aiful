{
 "cells": [
  {
   "cell_type": "code",
   "execution_count": 117,
   "metadata": {
    "collapsed": false
   },
   "outputs": [
    {
     "name": "stderr",
     "output_type": "stream",
     "text": [
      "/Users/keiichirosato/.pyenv/versions/anaconda3-4.2.0/lib/python3.5/site-packages/lightgbm/__init__.py:45: FutureWarning: Starting from version 2.2.1, the library file in distribution wheels for macOS will be built by the Apple Clang compiler.\n",
      "This means that in case of installing LightGBM from PyPI via the ``pip install lightgbm`` command, you won't need to install the gcc compiler anymore.\n",
      "Instead of that, you'll need to install the OpenMP library, which is required for running LightGBM on the system with the Apple Clang compiler.\n",
      "You can install the OpenMP library by the following command: ``brew install libomp``.\n",
      "  \"You can install the OpenMP library by the following command: ``brew install libomp``.\", FutureWarning)\n"
     ]
    }
   ],
   "source": [
    "import numpy as np\n",
    "import pandas as pd\n",
    "import datetime\n",
    "import math\n",
    "import matplotlib.pyplot as plt\n",
    "import seaborn as sns\n",
    "import statsmodels.api as sm\n",
    "from sklearn.ensemble import RandomForestRegressor\n",
    "from sklearn.ensemble import RandomForestClassifier\n",
    "from sklearn.externals import joblib\n",
    "from sklearn.metrics import mean_squared_error, r2_score, accuracy_score, precision_score, recall_score, confusion_matrix, auc, roc_curve\n",
    "from sklearn.model_selection import train_test_split\n",
    "import lightgbm as lgb\n",
    "import xgboost as xgb"
   ]
  },
  {
   "cell_type": "code",
   "execution_count": 88,
   "metadata": {
    "collapsed": false
   },
   "outputs": [
    {
     "data": {
      "text/html": [
       "<div>\n",
       "<style scoped>\n",
       "    .dataframe tbody tr th:only-of-type {\n",
       "        vertical-align: middle;\n",
       "    }\n",
       "\n",
       "    .dataframe tbody tr th {\n",
       "        vertical-align: top;\n",
       "    }\n",
       "\n",
       "    .dataframe thead th {\n",
       "        text-align: right;\n",
       "    }\n",
       "</style>\n",
       "<table border=\"1\" class=\"dataframe\">\n",
       "  <thead>\n",
       "    <tr style=\"text-align: right;\">\n",
       "      <th></th>\n",
       "      <th>offer_date</th>\n",
       "      <th>NO</th>\n",
       "      <th>offer_time</th>\n",
       "      <th>baitai_dai</th>\n",
       "      <th>baitai_shousai</th>\n",
       "      <th>uketsuke_jikantai</th>\n",
       "      <th>uketsuke_keitai</th>\n",
       "      <th>shinki_jidokeiyaku</th>\n",
       "      <th>toriatsukai_tenban</th>\n",
       "      <th>kanri_tenban</th>\n",
       "      <th>...</th>\n",
       "      <th>shunyu_shoumei</th>\n",
       "      <th>dokushin</th>\n",
       "      <th>doukyo</th>\n",
       "      <th>fuyo</th>\n",
       "      <th>fuyo_child</th>\n",
       "      <th>shotoku_shoumei</th>\n",
       "      <th>meigi</th>\n",
       "      <th>jigyo_keitai</th>\n",
       "      <th>jigyosho</th>\n",
       "      <th>month12_jiko</th>\n",
       "    </tr>\n",
       "  </thead>\n",
       "  <tbody>\n",
       "    <tr>\n",
       "      <th>0</th>\n",
       "      <td>2013/2/3</td>\n",
       "      <td>1.820570e+12</td>\n",
       "      <td>133504</td>\n",
       "      <td>3</td>\n",
       "      <td>2</td>\n",
       "      <td>3</td>\n",
       "      <td>502</td>\n",
       "      <td>0</td>\n",
       "      <td>182</td>\n",
       "      <td>182</td>\n",
       "      <td>...</td>\n",
       "      <td>0</td>\n",
       "      <td>1</td>\n",
       "      <td>2</td>\n",
       "      <td>0</td>\n",
       "      <td>0</td>\n",
       "      <td>0</td>\n",
       "      <td>0</td>\n",
       "      <td>6</td>\n",
       "      <td>0</td>\n",
       "      <td>0</td>\n",
       "    </tr>\n",
       "    <tr>\n",
       "      <th>1</th>\n",
       "      <td>2013/6/18</td>\n",
       "      <td>5.050290e+12</td>\n",
       "      <td>145329</td>\n",
       "      <td>5</td>\n",
       "      <td>99</td>\n",
       "      <td>0</td>\n",
       "      <td>1</td>\n",
       "      <td>2814</td>\n",
       "      <td>2814</td>\n",
       "      <td>505</td>\n",
       "      <td>...</td>\n",
       "      <td>0</td>\n",
       "      <td>0</td>\n",
       "      <td>1</td>\n",
       "      <td>2</td>\n",
       "      <td>1</td>\n",
       "      <td>0</td>\n",
       "      <td>0</td>\n",
       "      <td>0</td>\n",
       "      <td>0</td>\n",
       "      <td>0</td>\n",
       "    </tr>\n",
       "    <tr>\n",
       "      <th>2</th>\n",
       "      <td>2013/6/28</td>\n",
       "      <td>1.820590e+12</td>\n",
       "      <td>115136</td>\n",
       "      <td>5</td>\n",
       "      <td>99</td>\n",
       "      <td>0</td>\n",
       "      <td>1</td>\n",
       "      <td>2779</td>\n",
       "      <td>2779</td>\n",
       "      <td>182</td>\n",
       "      <td>...</td>\n",
       "      <td>1</td>\n",
       "      <td>0</td>\n",
       "      <td>1</td>\n",
       "      <td>1</td>\n",
       "      <td>0</td>\n",
       "      <td>8</td>\n",
       "      <td>1</td>\n",
       "      <td>0</td>\n",
       "      <td>0</td>\n",
       "      <td>0</td>\n",
       "    </tr>\n",
       "    <tr>\n",
       "      <th>3</th>\n",
       "      <td>2013/8/9</td>\n",
       "      <td>1.270660e+12</td>\n",
       "      <td>95034</td>\n",
       "      <td>5</td>\n",
       "      <td>99</td>\n",
       "      <td>0</td>\n",
       "      <td>1</td>\n",
       "      <td>223</td>\n",
       "      <td>223</td>\n",
       "      <td>127</td>\n",
       "      <td>...</td>\n",
       "      <td>0</td>\n",
       "      <td>1</td>\n",
       "      <td>2</td>\n",
       "      <td>0</td>\n",
       "      <td>0</td>\n",
       "      <td>0</td>\n",
       "      <td>0</td>\n",
       "      <td>0</td>\n",
       "      <td>0</td>\n",
       "      <td>0</td>\n",
       "    </tr>\n",
       "    <tr>\n",
       "      <th>4</th>\n",
       "      <td>2014/1/27</td>\n",
       "      <td>2.090350e+12</td>\n",
       "      <td>165240</td>\n",
       "      <td>5</td>\n",
       "      <td>99</td>\n",
       "      <td>0</td>\n",
       "      <td>1</td>\n",
       "      <td>1836</td>\n",
       "      <td>1836</td>\n",
       "      <td>209</td>\n",
       "      <td>...</td>\n",
       "      <td>0</td>\n",
       "      <td>0</td>\n",
       "      <td>2</td>\n",
       "      <td>0</td>\n",
       "      <td>0</td>\n",
       "      <td>0</td>\n",
       "      <td>0</td>\n",
       "      <td>0</td>\n",
       "      <td>0</td>\n",
       "      <td>0</td>\n",
       "    </tr>\n",
       "  </tbody>\n",
       "</table>\n",
       "<p>5 rows × 37 columns</p>\n",
       "</div>"
      ],
      "text/plain": [
       "  offer_date            NO  offer_time  baitai_dai  baitai_shousai  \\\n",
       "0   2013/2/3  1.820570e+12      133504           3               2   \n",
       "1  2013/6/18  5.050290e+12      145329           5              99   \n",
       "2  2013/6/28  1.820590e+12      115136           5              99   \n",
       "3   2013/8/9  1.270660e+12       95034           5              99   \n",
       "4  2014/1/27  2.090350e+12      165240           5              99   \n",
       "\n",
       "   uketsuke_jikantai  uketsuke_keitai  shinki_jidokeiyaku  toriatsukai_tenban  \\\n",
       "0                  3              502                   0                 182   \n",
       "1                  0                1                2814                2814   \n",
       "2                  0                1                2779                2779   \n",
       "3                  0                1                 223                 223   \n",
       "4                  0                1                1836                1836   \n",
       "\n",
       "   kanri_tenban      ...       shunyu_shoumei  dokushin doukyo  fuyo  \\\n",
       "0           182      ...                    0         1      2     0   \n",
       "1           505      ...                    0         0      1     2   \n",
       "2           182      ...                    1         0      1     1   \n",
       "3           127      ...                    0         1      2     0   \n",
       "4           209      ...                    0         0      2     0   \n",
       "\n",
       "   fuyo_child  shotoku_shoumei  meigi  jigyo_keitai  jigyosho  month12_jiko  \n",
       "0           0                0      0             6         0             0  \n",
       "1           1                0      0             0         0             0  \n",
       "2           0                8      1             0         0             0  \n",
       "3           0                0      0             0         0             0  \n",
       "4           0                0      0             0         0             0  \n",
       "\n",
       "[5 rows x 37 columns]"
      ]
     },
     "execution_count": 88,
     "metadata": {},
     "output_type": "execute_result"
    }
   ],
   "source": [
    "df = pd.read_csv(\"モデル構築用.csv\", encoding=\"sjis\")\n",
    "origin_columns = df.columns\n",
    "df.columns = [\"offer_date\",\"NO\",\"offer_time\",\"baitai_dai\",\"baitai_shousai\",\"uketsuke_jikantai\",\"uketsuke_keitai\",\"shinki_jidokeiyaku\",\"toriatsukai_tenban\",\"kanri_tenban\",\"sex\",\"age\",\"birth\",\"jis\",\"doku\",\"sinshoku_dai\",\"sinshoku_shousai\",\"koyo\",\"shugyo\",\"kaisha_kibo\",\"nenshu\",\"zaisha\",\"jukyo\",\"kyoju\",\"yachin\",\"kazoku_kousei\",\"hoken_shokushu\",\"shunyu_shoumei\",\"dokushin\",\"doukyo\",\"fuyo\",\"fuyo_child\",\"shotoku_shoumei\",\"meigi\",\"jigyo_keitai\",\"jigyosho\",\"month12_jiko\"]\n",
    "df.head()"
   ]
  },
  {
   "cell_type": "code",
   "execution_count": 89,
   "metadata": {
    "collapsed": false,
    "scrolled": true
   },
   "outputs": [
    {
     "data": {
      "text/html": [
       "<div>\n",
       "<style scoped>\n",
       "    .dataframe tbody tr th:only-of-type {\n",
       "        vertical-align: middle;\n",
       "    }\n",
       "\n",
       "    .dataframe tbody tr th {\n",
       "        vertical-align: top;\n",
       "    }\n",
       "\n",
       "    .dataframe thead th {\n",
       "        text-align: right;\n",
       "    }\n",
       "</style>\n",
       "<table border=\"1\" class=\"dataframe\">\n",
       "  <thead>\n",
       "    <tr style=\"text-align: right;\">\n",
       "      <th></th>\n",
       "      <th>NO</th>\n",
       "      <th>offer_time</th>\n",
       "      <th>baitai_dai</th>\n",
       "      <th>baitai_shousai</th>\n",
       "      <th>uketsuke_jikantai</th>\n",
       "      <th>uketsuke_keitai</th>\n",
       "      <th>shinki_jidokeiyaku</th>\n",
       "      <th>toriatsukai_tenban</th>\n",
       "      <th>kanri_tenban</th>\n",
       "      <th>sex</th>\n",
       "      <th>...</th>\n",
       "      <th>shunyu_shoumei</th>\n",
       "      <th>dokushin</th>\n",
       "      <th>doukyo</th>\n",
       "      <th>fuyo</th>\n",
       "      <th>fuyo_child</th>\n",
       "      <th>shotoku_shoumei</th>\n",
       "      <th>meigi</th>\n",
       "      <th>jigyo_keitai</th>\n",
       "      <th>jigyosho</th>\n",
       "      <th>month12_jiko</th>\n",
       "    </tr>\n",
       "  </thead>\n",
       "  <tbody>\n",
       "    <tr>\n",
       "      <th>0</th>\n",
       "      <td>1.820570e+12</td>\n",
       "      <td>133504</td>\n",
       "      <td>3</td>\n",
       "      <td>2</td>\n",
       "      <td>3</td>\n",
       "      <td>502</td>\n",
       "      <td>0</td>\n",
       "      <td>182</td>\n",
       "      <td>182</td>\n",
       "      <td>1</td>\n",
       "      <td>...</td>\n",
       "      <td>0</td>\n",
       "      <td>1</td>\n",
       "      <td>2</td>\n",
       "      <td>0</td>\n",
       "      <td>0</td>\n",
       "      <td>0</td>\n",
       "      <td>0</td>\n",
       "      <td>6</td>\n",
       "      <td>0</td>\n",
       "      <td>0</td>\n",
       "    </tr>\n",
       "    <tr>\n",
       "      <th>1</th>\n",
       "      <td>5.050290e+12</td>\n",
       "      <td>145329</td>\n",
       "      <td>5</td>\n",
       "      <td>99</td>\n",
       "      <td>0</td>\n",
       "      <td>1</td>\n",
       "      <td>2814</td>\n",
       "      <td>2814</td>\n",
       "      <td>505</td>\n",
       "      <td>1</td>\n",
       "      <td>...</td>\n",
       "      <td>0</td>\n",
       "      <td>0</td>\n",
       "      <td>1</td>\n",
       "      <td>2</td>\n",
       "      <td>1</td>\n",
       "      <td>0</td>\n",
       "      <td>0</td>\n",
       "      <td>0</td>\n",
       "      <td>0</td>\n",
       "      <td>0</td>\n",
       "    </tr>\n",
       "    <tr>\n",
       "      <th>2</th>\n",
       "      <td>1.820590e+12</td>\n",
       "      <td>115136</td>\n",
       "      <td>5</td>\n",
       "      <td>99</td>\n",
       "      <td>0</td>\n",
       "      <td>1</td>\n",
       "      <td>2779</td>\n",
       "      <td>2779</td>\n",
       "      <td>182</td>\n",
       "      <td>1</td>\n",
       "      <td>...</td>\n",
       "      <td>1</td>\n",
       "      <td>0</td>\n",
       "      <td>1</td>\n",
       "      <td>1</td>\n",
       "      <td>0</td>\n",
       "      <td>8</td>\n",
       "      <td>1</td>\n",
       "      <td>0</td>\n",
       "      <td>0</td>\n",
       "      <td>0</td>\n",
       "    </tr>\n",
       "    <tr>\n",
       "      <th>3</th>\n",
       "      <td>1.270660e+12</td>\n",
       "      <td>95034</td>\n",
       "      <td>5</td>\n",
       "      <td>99</td>\n",
       "      <td>0</td>\n",
       "      <td>1</td>\n",
       "      <td>223</td>\n",
       "      <td>223</td>\n",
       "      <td>127</td>\n",
       "      <td>1</td>\n",
       "      <td>...</td>\n",
       "      <td>0</td>\n",
       "      <td>1</td>\n",
       "      <td>2</td>\n",
       "      <td>0</td>\n",
       "      <td>0</td>\n",
       "      <td>0</td>\n",
       "      <td>0</td>\n",
       "      <td>0</td>\n",
       "      <td>0</td>\n",
       "      <td>0</td>\n",
       "    </tr>\n",
       "    <tr>\n",
       "      <th>4</th>\n",
       "      <td>2.090350e+12</td>\n",
       "      <td>165240</td>\n",
       "      <td>5</td>\n",
       "      <td>99</td>\n",
       "      <td>0</td>\n",
       "      <td>1</td>\n",
       "      <td>1836</td>\n",
       "      <td>1836</td>\n",
       "      <td>209</td>\n",
       "      <td>1</td>\n",
       "      <td>...</td>\n",
       "      <td>0</td>\n",
       "      <td>0</td>\n",
       "      <td>2</td>\n",
       "      <td>0</td>\n",
       "      <td>0</td>\n",
       "      <td>0</td>\n",
       "      <td>0</td>\n",
       "      <td>0</td>\n",
       "      <td>0</td>\n",
       "      <td>0</td>\n",
       "    </tr>\n",
       "  </tbody>\n",
       "</table>\n",
       "<p>5 rows × 35 columns</p>\n",
       "</div>"
      ],
      "text/plain": [
       "             NO  offer_time  baitai_dai  baitai_shousai  uketsuke_jikantai  \\\n",
       "0  1.820570e+12      133504           3               2                  3   \n",
       "1  5.050290e+12      145329           5              99                  0   \n",
       "2  1.820590e+12      115136           5              99                  0   \n",
       "3  1.270660e+12       95034           5              99                  0   \n",
       "4  2.090350e+12      165240           5              99                  0   \n",
       "\n",
       "   uketsuke_keitai  shinki_jidokeiyaku  toriatsukai_tenban  kanri_tenban  sex  \\\n",
       "0              502                   0                 182           182    1   \n",
       "1                1                2814                2814           505    1   \n",
       "2                1                2779                2779           182    1   \n",
       "3                1                 223                 223           127    1   \n",
       "4                1                1836                1836           209    1   \n",
       "\n",
       "       ...       shunyu_shoumei  dokushin  doukyo  fuyo  fuyo_child  \\\n",
       "0      ...                    0         1       2     0           0   \n",
       "1      ...                    0         0       1     2           1   \n",
       "2      ...                    1         0       1     1           0   \n",
       "3      ...                    0         1       2     0           0   \n",
       "4      ...                    0         0       2     0           0   \n",
       "\n",
       "   shotoku_shoumei  meigi  jigyo_keitai  jigyosho  month12_jiko  \n",
       "0                0      0             6         0             0  \n",
       "1                0      0             0         0             0  \n",
       "2                8      1             0         0             0  \n",
       "3                0      0             0         0             0  \n",
       "4                0      0             0         0             0  \n",
       "\n",
       "[5 rows x 35 columns]"
      ]
     },
     "execution_count": 89,
     "metadata": {},
     "output_type": "execute_result"
    }
   ],
   "source": [
    "df = df.drop(['offer_date', 'birth'], axis=1)\n",
    "df.head()"
   ]
  },
  {
   "cell_type": "code",
   "execution_count": 4,
   "metadata": {
    "collapsed": true
   },
   "outputs": [],
   "source": [
    "#trainとtestに分割\n",
    "train_df, test_df = train_test_split(df, test_size = 0.1, random_state=0)"
   ]
  },
  {
   "cell_type": "code",
   "execution_count": 61,
   "metadata": {
    "collapsed": false
   },
   "outputs": [
    {
     "data": {
      "text/plain": [
       "2908"
      ]
     },
     "execution_count": 61,
     "metadata": {},
     "output_type": "execute_result"
    }
   ],
   "source": [
    "np.sum(train_df['month12_jiko']==1)"
   ]
  },
  {
   "cell_type": "code",
   "execution_count": 26,
   "metadata": {
    "collapsed": false
   },
   "outputs": [
    {
     "data": {
      "text/plain": [
       "array([[5.72064e+12, 1.20956e+05, 4.00000e+00, ..., 0.00000e+00,\n",
       "        0.00000e+00, 1.00000e+00],\n",
       "       [3.20073e+12, 2.03034e+05, 1.00000e+00, ..., 0.00000e+00,\n",
       "        0.00000e+00, 0.00000e+00],\n",
       "       [3.17070e+12, 1.63012e+05, 1.00000e+00, ..., 0.00000e+00,\n",
       "        0.00000e+00, 0.00000e+00],\n",
       "       ...,\n",
       "       [3.20074e+12, 1.91818e+05, 5.00000e+00, ..., 0.00000e+00,\n",
       "        0.00000e+00, 0.00000e+00],\n",
       "       [2.63113e+12, 1.93449e+05, 5.00000e+00, ..., 0.00000e+00,\n",
       "        0.00000e+00, 1.00000e+00],\n",
       "       [1.30632e+11, 1.01822e+05, 1.00000e+00, ..., 0.00000e+00,\n",
       "        0.00000e+00, 1.00000e+00]])"
      ]
     },
     "execution_count": 26,
     "metadata": {},
     "output_type": "execute_result"
    }
   ],
   "source": [
    "np.array(train_df)"
   ]
  },
  {
   "cell_type": "code",
   "execution_count": 47,
   "metadata": {
    "collapsed": false
   },
   "outputs": [],
   "source": [
    "hoge_list = random.sample(list(np.array(train_df)), np.array(train_df).shape[0])"
   ]
  },
  {
   "cell_type": "code",
   "execution_count": 48,
   "metadata": {
    "collapsed": false
   },
   "outputs": [
    {
     "data": {
      "text/plain": [
       "9565"
      ]
     },
     "execution_count": 48,
     "metadata": {},
     "output_type": "execute_result"
    }
   ],
   "source": [
    "len(hoge_list)"
   ]
  },
  {
   "cell_type": "code",
   "execution_count": 49,
   "metadata": {
    "collapsed": false,
    "scrolled": true
   },
   "outputs": [
    {
     "data": {
      "text/plain": [
       "150"
      ]
     },
     "execution_count": 49,
     "metadata": {},
     "output_type": "execute_result"
    }
   ],
   "source": [
    "np.sum(test_df['month12_jiko']==1)"
   ]
  },
  {
   "cell_type": "code",
   "execution_count": 64,
   "metadata": {
    "collapsed": false
   },
   "outputs": [],
   "source": [
    "count = 0\n",
    "hoge_list = random.sample(list(np.array(train_df)), np.array(train_df).shape[0])\n",
    "equal_train_list = []\n",
    "for i in range(np.array(train_df).shape[0]):\n",
    "    if hoge_list[i][34] == 1:\n",
    "        equal_train_list.append(hoge_list[i])\n",
    "        count += 1\n",
    "    if count == np.sum(train_df['month12_jiko']==1):\n",
    "        break\n",
    "count = 0\n",
    "for i in range(np.array(train_df).shape[0]):\n",
    "    if hoge_list[i][34] == 0:\n",
    "        equal_train_list.append(hoge_list[i])\n",
    "        count += 1\n",
    "    if count == np.sum(train_df['month12_jiko']==1):\n",
    "        break\n",
    "equal_train_list = random.sample(equal_train_list, len(equal_train_list))"
   ]
  },
  {
   "cell_type": "code",
   "execution_count": 65,
   "metadata": {
    "collapsed": true
   },
   "outputs": [],
   "source": [
    "count = 0\n",
    "hoge_list = random.sample(list(np.array(test_df)), np.array(test_df).shape[0])\n",
    "equal_test_list = []\n",
    "for i in range(np.array(test_df).shape[0]):\n",
    "    if hoge_list[i][34] == 1:\n",
    "        equal_test_list.append(hoge_list[i])\n",
    "        count += 1\n",
    "    if count == np.sum(test_df['month12_jiko']==1):\n",
    "        break\n",
    "count = 0\n",
    "for i in range(np.array(train_df).shape[0]):\n",
    "    if hoge_list[i][34] == 0:\n",
    "        equal_test_list.append(hoge_list[i])\n",
    "        count += 1\n",
    "    if count == np.sum(test_df['month12_jiko']==1):\n",
    "        break\n",
    "equal_test_list = random.sample(equal_test_list, len(equal_test_list))"
   ]
  },
  {
   "cell_type": "code",
   "execution_count": 76,
   "metadata": {
    "collapsed": true
   },
   "outputs": [],
   "source": [
    "train_X = pd.DataFrame(equal_train_list).drop(34,axis=1)\n",
    "test_X = pd.DataFrame(equal_test_list).drop(34,axis=1)\n",
    "train_y = pd.DataFrame(equal_train_list).iloc[:,34]\n",
    "test_y = pd.DataFrame(equal_test_list).iloc[:,34]"
   ]
  },
  {
   "cell_type": "code",
   "execution_count": 78,
   "metadata": {
    "collapsed": false
   },
   "outputs": [
    {
     "name": "stderr",
     "output_type": "stream",
     "text": [
      "[Parallel(n_jobs=1)]: Using backend SequentialBackend with 1 concurrent workers.\n",
      "[Parallel(n_jobs=1)]: Done 100 out of 100 | elapsed:    2.3s finished\n",
      "[Parallel(n_jobs=1)]: Using backend SequentialBackend with 1 concurrent workers.\n",
      "[Parallel(n_jobs=1)]: Done 100 out of 100 | elapsed:    0.0s finished\n"
     ]
    }
   ],
   "source": [
    "#RF回帰モデル作成\n",
    "rf_reg = RandomForestRegressor(verbose = 1, n_estimators=100, max_depth=20)\n",
    "rf_reg.fit(train_X,train_y)\n",
    "pred_y_reg = rf_reg.predict(test_X)"
   ]
  },
  {
   "cell_type": "code",
   "execution_count": 79,
   "metadata": {
    "collapsed": false
   },
   "outputs": [
    {
     "name": "stderr",
     "output_type": "stream",
     "text": [
      "[Parallel(n_jobs=1)]: Using backend SequentialBackend with 1 concurrent workers.\n",
      "[Parallel(n_jobs=1)]: Done 100 out of 100 | elapsed:    0.5s finished\n",
      "[Parallel(n_jobs=1)]: Using backend SequentialBackend with 1 concurrent workers.\n",
      "[Parallel(n_jobs=1)]: Done 100 out of 100 | elapsed:    0.0s finished\n"
     ]
    }
   ],
   "source": [
    "#RF分類モデル作成\n",
    "rf_cla = RandomForestClassifier(verbose = 1, n_estimators=100, max_depth=20)\n",
    "rf_cla.fit(train_X,train_y)\n",
    "pred_y_cla = rf_cla.predict(test_X)"
   ]
  },
  {
   "cell_type": "code",
   "execution_count": 80,
   "metadata": {
    "collapsed": false
   },
   "outputs": [
    {
     "data": {
      "text/plain": [
       "0.66"
      ]
     },
     "execution_count": 80,
     "metadata": {},
     "output_type": "execute_result"
    }
   ],
   "source": [
    "#分類正解率\n",
    "accuracy_score(test_y, pred_y_cla)"
   ]
  },
  {
   "cell_type": "code",
   "execution_count": 82,
   "metadata": {
    "collapsed": false
   },
   "outputs": [
    {
     "data": {
      "text/plain": [
       "0.6599999999999999"
      ]
     },
     "execution_count": 82,
     "metadata": {},
     "output_type": "execute_result"
    }
   ],
   "source": [
    "precision, recall, thresholds = roc_curve(test_y, pred_y_cla)\n",
    "auc(precision, recall)"
   ]
  },
  {
   "cell_type": "code",
   "execution_count": 83,
   "metadata": {
    "collapsed": false
   },
   "outputs": [
    {
     "data": {
      "text/plain": [
       "array([[ 98,  52],\n",
       "       [ 50, 100]])"
      ]
     },
     "execution_count": 83,
     "metadata": {},
     "output_type": "execute_result"
    }
   ],
   "source": [
    "#RF分類の結果\n",
    "confusion_matrix(test_y, pred_y_cla, labels=[0,1])"
   ]
  },
  {
   "cell_type": "code",
   "execution_count": 84,
   "metadata": {
    "collapsed": true
   },
   "outputs": [],
   "source": [
    "#営業利益の算出(一次関数)\n",
    "def operating_profit_linear(y_pred_reg, y_pred_cla, y_test, offset):\n",
    "    gain_list = []\n",
    "    loss_list = []\n",
    "    for i in y_pred_reg:\n",
    "        if i > offset:\n",
    "            gain_list.append(0)\n",
    "        elif i <= offset:\n",
    "            gain_list.append(int(-(45*i)/offset+50))\n",
    "    gain = np.sum(gain_list)\n",
    "    for i in range(len(y_pred_cla)):\n",
    "        if (y_pred_cla[i] == 0 and y_test[i] == 1):\n",
    "            loss_list.append(gain_list[i])\n",
    "        else:\n",
    "            loss_list.append(0)\n",
    "    loss = np.sum(loss_list)\n",
    "    return gain, loss, int(gain*0.18-loss)"
   ]
  },
  {
   "cell_type": "code",
   "execution_count": 85,
   "metadata": {
    "collapsed": true
   },
   "outputs": [],
   "source": [
    "para_list = [i*0.01 for i in range(1,101)]\n",
    "profit_list = []\n",
    "for para in para_list:\n",
    "    binary_pred_y_reg = []\n",
    "    for j in pred_y_reg:\n",
    "        if j > para:\n",
    "            binary_pred_y_reg.append(1)\n",
    "        elif j <= para:\n",
    "            binary_pred_y_reg.append(0)\n",
    "    profit_list.append(operating_profit_linear(pred_y_reg, binary_pred_y_reg, list(test_y), para)[2])\n",
    "para_list.insert(0, 0)\n",
    "profit_list.insert(0, 0)"
   ]
  },
  {
   "cell_type": "code",
   "execution_count": 86,
   "metadata": {
    "collapsed": false
   },
   "outputs": [
    {
     "data": {
      "image/png": "[encoded data removed]",
      "text/plain": [
       "<matplotlib.figure.Figure at 0x1c247d0f28>"
      ]
     },
     "metadata": {},
     "output_type": "display_data"
    }
   ],
   "source": [
    "plt.figure()\n",
    "plt.plot(para_list, profit_list, 'o')\n",
    "plt.xlabel('rate')\n",
    "plt.ylabel(\"profit\")\n",
    "plt.show()"
   ]
  },
  {
   "cell_type": "code",
   "execution_count": 87,
   "metadata": {
    "collapsed": true
   },
   "outputs": [],
   "source": [
    "from imblearn.over_sampling import SMOTE"
   ]
  },
  {
   "cell_type": "code",
   "execution_count": 99,
   "metadata": {
    "collapsed": true
   },
   "outputs": [],
   "source": [
    "#trainとtestに分割\n",
    "train_df, test_df = train_test_split(df, test_size = 0.1, random_state=0)\n",
    "train_X_df = train_df.drop('month12_jiko',axis=1)\n",
    "test_X = test_df.drop('month12_jiko',axis=1)\n",
    "train_y_df = train_df['month12_jiko']\n",
    "test_y = test_df['month12_jiko']"
   ]
  },
  {
   "cell_type": "code",
   "execution_count": 100,
   "metadata": {
    "collapsed": false,
    "scrolled": true
   },
   "outputs": [],
   "source": [
    "sm = SMOTE(random_state=42)\n",
    "train_X, train_y = sm.fit_sample(train_X_df, train_y_df)"
   ]
  },
  {
   "cell_type": "code",
   "execution_count": 101,
   "metadata": {
    "collapsed": false
   },
   "outputs": [
    {
     "name": "stderr",
     "output_type": "stream",
     "text": [
      "[Parallel(n_jobs=1)]: Using backend SequentialBackend with 1 concurrent workers.\n",
      "[Parallel(n_jobs=1)]: Done 100 out of 100 | elapsed:   16.1s finished\n",
      "[Parallel(n_jobs=1)]: Using backend SequentialBackend with 1 concurrent workers.\n",
      "[Parallel(n_jobs=1)]: Done 100 out of 100 | elapsed:    0.0s finished\n"
     ]
    }
   ],
   "source": [
    "#RF回帰モデル作成\n",
    "rf_reg = RandomForestRegressor(verbose = 1, n_estimators=100, max_depth=20)\n",
    "rf_reg.fit(train_X,train_y)\n",
    "pred_y_reg = rf_reg.predict(test_X)"
   ]
  },
  {
   "cell_type": "code",
   "execution_count": 102,
   "metadata": {
    "collapsed": false
   },
   "outputs": [
    {
     "name": "stderr",
     "output_type": "stream",
     "text": [
      "[Parallel(n_jobs=1)]: Using backend SequentialBackend with 1 concurrent workers.\n",
      "[Parallel(n_jobs=1)]: Done 100 out of 100 | elapsed:    3.2s finished\n",
      "[Parallel(n_jobs=1)]: Using backend SequentialBackend with 1 concurrent workers.\n",
      "[Parallel(n_jobs=1)]: Done 100 out of 100 | elapsed:    0.0s finished\n"
     ]
    }
   ],
   "source": [
    "#RF分類モデル作成\n",
    "rf_cla = RandomForestClassifier(verbose = 1, n_estimators=100, max_depth=20)\n",
    "rf_cla.fit(train_X,train_y)\n",
    "pred_y_cla = rf_cla.predict(test_X)"
   ]
  },
  {
   "cell_type": "code",
   "execution_count": 103,
   "metadata": {
    "collapsed": false
   },
   "outputs": [
    {
     "data": {
      "text/plain": [
       "0.8617121354656632"
      ]
     },
     "execution_count": 103,
     "metadata": {},
     "output_type": "execute_result"
    }
   ],
   "source": [
    "#分類正解率\n",
    "accuracy_score(test_y, pred_y_cla)"
   ]
  },
  {
   "cell_type": "code",
   "execution_count": 104,
   "metadata": {
    "collapsed": false
   },
   "outputs": [
    {
     "data": {
      "text/plain": [
       "0.5406425702811244"
      ]
     },
     "execution_count": 104,
     "metadata": {},
     "output_type": "execute_result"
    }
   ],
   "source": [
    "precision, recall, thresholds = roc_curve(test_y, pred_y_cla)\n",
    "auc(precision, recall)"
   ]
  },
  {
   "cell_type": "code",
   "execution_count": 118,
   "metadata": {
    "collapsed": false
   },
   "outputs": [
    {
     "data": {
      "text/plain": [
       "0.6829426798101497"
      ]
     },
     "execution_count": 118,
     "metadata": {},
     "output_type": "execute_result"
    }
   ],
   "source": [
    "precision, recall, thresholds = roc_curve(test_y, pred_y_reg)\n",
    "auc(precision, recall)"
   ]
  },
  {
   "cell_type": "code",
   "execution_count": 105,
   "metadata": {
    "collapsed": false
   },
   "outputs": [
    {
     "data": {
      "text/plain": [
       "array([[902,  11],\n",
       "       [136,  14]])"
      ]
     },
     "execution_count": 105,
     "metadata": {},
     "output_type": "execute_result"
    }
   ],
   "source": [
    "#RF分類の結果\n",
    "confusion_matrix(test_y, pred_y_cla, labels=[0,1])"
   ]
  },
  {
   "cell_type": "code",
   "execution_count": 106,
   "metadata": {
    "collapsed": true
   },
   "outputs": [],
   "source": [
    "#営業利益の算出(一次関数)\n",
    "def operating_profit_linear(y_pred_reg, y_pred_cla, y_test, offset):\n",
    "    gain_list = []\n",
    "    loss_list = []\n",
    "    for i in y_pred_reg:\n",
    "        if i > offset:\n",
    "            gain_list.append(0)\n",
    "        elif i <= offset:\n",
    "            gain_list.append(int(-(45*i)/offset+50))\n",
    "    gain = np.sum(gain_list)\n",
    "    for i in range(len(y_pred_cla)):\n",
    "        if (y_pred_cla[i] == 0 and y_test[i] == 1):\n",
    "            loss_list.append(gain_list[i])\n",
    "        else:\n",
    "            loss_list.append(0)\n",
    "    loss = np.sum(loss_list)\n",
    "    return gain, loss, int(gain*0.18-loss)"
   ]
  },
  {
   "cell_type": "code",
   "execution_count": 107,
   "metadata": {
    "collapsed": true
   },
   "outputs": [],
   "source": [
    "para_list = [i*0.01 for i in range(1,101)]\n",
    "profit_list = []\n",
    "for para in para_list:\n",
    "    binary_pred_y_reg = []\n",
    "    for j in pred_y_reg:\n",
    "        if j > para:\n",
    "            binary_pred_y_reg.append(1)\n",
    "        elif j <= para:\n",
    "            binary_pred_y_reg.append(0)\n",
    "    profit_list.append(operating_profit_linear(pred_y_reg, binary_pred_y_reg, list(test_y), para)[2])\n",
    "para_list.insert(0, 0)\n",
    "profit_list.insert(0, 0)"
   ]
  },
  {
   "cell_type": "code",
   "execution_count": 108,
   "metadata": {
    "collapsed": false
   },
   "outputs": [
    {
     "data": {
      "image/png": "[encoded data removed]",
      "text/plain": [
       "<matplotlib.figure.Figure at 0x1c2c5d06d8>"
      ]
     },
     "metadata": {},
     "output_type": "display_data"
    }
   ],
   "source": [
    "plt.figure()\n",
    "plt.plot(para_list, profit_list, 'o')\n",
    "plt.xlabel('rate')\n",
    "plt.ylabel(\"profit\")\n",
    "plt.show()"
   ]
  },
  {
   "cell_type": "code",
   "execution_count": 109,
   "metadata": {
    "collapsed": false
   },
   "outputs": [
    {
     "name": "stdout",
     "output_type": "stream",
     "text": [
      "2525\n",
      "47\n"
     ]
    }
   ],
   "source": [
    "print(np.max(profit_list))\n",
    "print(np.argmax(profit_list))"
   ]
  },
  {
   "cell_type": "code",
   "execution_count": 110,
   "metadata": {
    "collapsed": true
   },
   "outputs": [],
   "source": [
    "#最大利益の場合をバイナリ化\n",
    "threshold = np.argmax(profit_list)/100\n",
    "binary_pred_y_reg = []\n",
    "for i in pred_y_reg:\n",
    "    if i > threshold:\n",
    "        binary_pred_y_reg.append(1)\n",
    "    elif i <= threshold:\n",
    "        binary_pred_y_reg.append(0)"
   ]
  },
  {
   "cell_type": "code",
   "execution_count": 111,
   "metadata": {
    "collapsed": false
   },
   "outputs": [
    {
     "data": {
      "text/plain": [
       "array([[889,  24],\n",
       "       [124,  26]])"
      ]
     },
     "execution_count": 111,
     "metadata": {},
     "output_type": "execute_result"
    }
   ],
   "source": [
    "#最大利益の場合でRF回帰の結果を0,1に変換した結果\n",
    "confusion_matrix(test_y, binary_pred_y_reg, labels=[0,1])"
   ]
  },
  {
   "cell_type": "code",
   "execution_count": 112,
   "metadata": {
    "collapsed": true
   },
   "outputs": [],
   "source": [
    "#営業利益の算出(一次関数_ver2)\n",
    "def operating_profit_linear_ver2(y_pred_reg, y_pred_cla, y_test, offset_n, offset_m):\n",
    "    gain_list = []\n",
    "    loss_list = []\n",
    "    for i in y_pred_reg:\n",
    "        if i > offset_n:\n",
    "            gain_list.append(0)\n",
    "        elif i <= offset_n and i >= offset_m:\n",
    "            gain_list.append(int((-45/(offset_n-offset_m))*i+(45*offset_n/(offset_n-offset_m))+5))\n",
    "        elif i < offset_m:\n",
    "            gain_list.append(50)\n",
    "    gain = np.sum(gain_list)\n",
    "    for i in range(len(y_pred_cla)):\n",
    "        if (y_pred_cla[i] == 0 and y_test[i] == 1):\n",
    "            loss_list.append(gain_list[i])\n",
    "        else:\n",
    "            loss_list.append(0)\n",
    "    loss = np.sum(loss_list)\n",
    "    return gain, loss, int(gain*0.18-loss)"
   ]
  },
  {
   "cell_type": "code",
   "execution_count": 113,
   "metadata": {
    "collapsed": true
   },
   "outputs": [],
   "source": [
    "para_list = [i*0.01 for i in range(1,101)]\n",
    "profit_list = []\n",
    "for para_n in para_list:\n",
    "    profit_list_m = []\n",
    "    binary_pred_y_reg = []\n",
    "    for j in pred_y_reg:\n",
    "        if j > para_n:\n",
    "            binary_pred_y_reg.append(1)\n",
    "        elif j <= para_n:\n",
    "            binary_pred_y_reg.append(0)\n",
    "    for para_m in para_list:\n",
    "        if para_m < para_n:\n",
    "            profit_list_m.append(operating_profit_linear_ver2(pred_y_reg, binary_pred_y_reg, list(test_y), para_n, para_m)[2])\n",
    "        else:\n",
    "            profit_list_m.append(0)\n",
    "            #profit_list_m.insert(0, 0)\n",
    "    profit_list.append(profit_list_m)\n",
    "#para_list.insert(0, 0)"
   ]
  },
  {
   "cell_type": "code",
   "execution_count": 114,
   "metadata": {
    "collapsed": false
   },
   "outputs": [
    {
     "data": {
      "text/plain": [
       "3477"
      ]
     },
     "execution_count": 114,
     "metadata": {},
     "output_type": "execute_result"
    }
   ],
   "source": [
    "np.max(profit_list)"
   ]
  },
  {
   "cell_type": "markdown",
   "metadata": {},
   "source": [
    "# アンサンブル"
   ]
  },
  {
   "cell_type": "code",
   "execution_count": 115,
   "metadata": {
    "collapsed": false
   },
   "outputs": [
    {
     "name": "stderr",
     "output_type": "stream",
     "text": [
      "[Parallel(n_jobs=1)]: Using backend SequentialBackend with 1 concurrent workers.\n",
      "[Parallel(n_jobs=1)]: Done 100 out of 100 | elapsed:   15.7s finished\n",
      "[Parallel(n_jobs=1)]: Using backend SequentialBackend with 1 concurrent workers.\n",
      "[Parallel(n_jobs=1)]: Done 100 out of 100 | elapsed:    0.0s finished\n"
     ]
    }
   ],
   "source": [
    "#RF回帰モデル作成\n",
    "rf_reg = RandomForestRegressor(verbose = 1, n_estimators=100, max_depth=20)\n",
    "rf_reg.fit(train_X,train_y)\n",
    "rf_pred_y_reg = rf_reg.predict(test_X)"
   ]
  },
  {
   "cell_type": "code",
   "execution_count": 119,
   "metadata": {
    "collapsed": false
   },
   "outputs": [],
   "source": [
    "#lightBGM回帰モデル作成\n",
    "model_reg = lgb.LGBMRegressor()\n",
    "model_reg.fit(train_X, train_y)\n",
    "bgm_pred_y_reg_array = model_reg.predict(test_X)\n",
    "bgm_pred_y_reg = []\n",
    "for i in bgm_pred_y_reg_array:\n",
    "    if i >= 0:\n",
    "        bgm_pred_y_reg.append(i)\n",
    "    elif i < 0:\n",
    "        bgm_pred_y_reg.append(0)\n",
    "bgm_pred_y_reg = np.array(bgm_pred_y_reg)"
   ]
  },
  {
   "cell_type": "code",
   "execution_count": 121,
   "metadata": {
    "collapsed": false
   },
   "outputs": [],
   "source": [
    "#XGboost回帰モデル作成\n",
    "xgb_reg = xgb.XGBRegressor()\n",
    "xgb_reg.fit(train_X, train_y)\n",
    "xgb_pred_y_reg_array = xgb_reg.predict(np.array(test_X))\n",
    "xgb_pred_y_reg = []\n",
    "for i in xgb_pred_y_reg_array:\n",
    "    if i >= 0:\n",
    "        xgb_pred_y_reg.append(i)\n",
    "    elif i < 0:\n",
    "        xgb_pred_y_reg.append(0)\n",
    "xgb_pred_y_reg = np.array(xgb_pred_y_reg)"
   ]
  },
  {
   "cell_type": "code",
   "execution_count": 122,
   "metadata": {
    "collapsed": true
   },
   "outputs": [],
   "source": [
    "pred_y_reg=(rf_pred_y_reg+bgm_pred_y_reg+xgb_pred_y_reg)/3"
   ]
  },
  {
   "cell_type": "code",
   "execution_count": 123,
   "metadata": {
    "collapsed": true
   },
   "outputs": [],
   "source": [
    "para_list = [i*0.01 for i in range(1,101)]\n",
    "profit_list = []\n",
    "for para in para_list:\n",
    "    binary_pred_y_reg = []\n",
    "    for j in pred_y_reg:\n",
    "        if j > para:\n",
    "            binary_pred_y_reg.append(1)\n",
    "        elif j <= para:\n",
    "            binary_pred_y_reg.append(0)\n",
    "    profit_list.append(operating_profit_linear(pred_y_reg, binary_pred_y_reg, list(test_y), para)[2])\n",
    "para_list.insert(0, 0)\n",
    "profit_list.insert(0, 0)"
   ]
  },
  {
   "cell_type": "code",
   "execution_count": 124,
   "metadata": {
    "collapsed": false
   },
   "outputs": [
    {
     "data": {
      "image/png": "[encoded data removed]",
      "text/plain": [
       "<matplotlib.figure.Figure at 0x1c2c5c5940>"
      ]
     },
     "metadata": {},
     "output_type": "display_data"
    }
   ],
   "source": [
    "plt.figure()\n",
    "plt.plot(para_list, profit_list, 'o')\n",
    "plt.xlabel('rate')\n",
    "plt.ylabel(\"profit\")\n",
    "plt.show()"
   ]
  },
  {
   "cell_type": "code",
   "execution_count": 125,
   "metadata": {
    "collapsed": false
   },
   "outputs": [
    {
     "name": "stdout",
     "output_type": "stream",
     "text": [
      "2474\n",
      "45\n"
     ]
    }
   ],
   "source": [
    "print(np.max(profit_list))\n",
    "print(np.argmax(profit_list))"
   ]
  },
  {
   "cell_type": "code",
   "execution_count": 126,
   "metadata": {
    "collapsed": true
   },
   "outputs": [],
   "source": [
    "#最大利益の場合をバイナリ化\n",
    "threshold = np.argmax(profit_list)/100\n",
    "binary_pred_y_reg = []\n",
    "for i in pred_y_reg:\n",
    "    if i > threshold:\n",
    "        binary_pred_y_reg.append(1)\n",
    "    elif i <= threshold:\n",
    "        binary_pred_y_reg.append(0)"
   ]
  },
  {
   "cell_type": "code",
   "execution_count": 127,
   "metadata": {
    "collapsed": false
   },
   "outputs": [
    {
     "data": {
      "text/plain": [
       "array([[894,  19],\n",
       "       [129,  21]])"
      ]
     },
     "execution_count": 127,
     "metadata": {},
     "output_type": "execute_result"
    }
   ],
   "source": [
    "#最大利益の場合でRF回帰の結果を0,1に変換した結果\n",
    "confusion_matrix(test_y, binary_pred_y_reg, labels=[0,1])"
   ]
  },
  {
   "cell_type": "code",
   "execution_count": 128,
   "metadata": {
    "collapsed": true
   },
   "outputs": [],
   "source": [
    "para_list = [i*0.01 for i in range(1,101)]\n",
    "profit_list = []\n",
    "for para_n in para_list:\n",
    "    profit_list_m = []\n",
    "    binary_pred_y_reg = []\n",
    "    for j in pred_y_reg:\n",
    "        if j > para_n:\n",
    "            binary_pred_y_reg.append(1)\n",
    "        elif j <= para_n:\n",
    "            binary_pred_y_reg.append(0)\n",
    "    for para_m in para_list:\n",
    "        if para_m < para_n:\n",
    "            profit_list_m.append(operating_profit_linear_ver2(pred_y_reg, binary_pred_y_reg, list(test_y), para_n, para_m)[2])\n",
    "        else:\n",
    "            profit_list_m.append(0)\n",
    "            #profit_list_m.insert(0, 0)\n",
    "    profit_list.append(profit_list_m)\n",
    "#para_list.insert(0, 0)"
   ]
  },
  {
   "cell_type": "code",
   "execution_count": 129,
   "metadata": {
    "collapsed": false
   },
   "outputs": [
    {
     "data": {
      "text/plain": [
       "3379"
      ]
     },
     "execution_count": 129,
     "metadata": {},
     "output_type": "execute_result"
    }
   ],
   "source": [
    "np.max(profit_list)"
   ]
  },
  {
   "cell_type": "code",
   "execution_count": 130,
   "metadata": {
    "collapsed": false
   },
   "outputs": [
    {
     "data": {
      "text/plain": [
       "0.7030887185104053"
      ]
     },
     "execution_count": 130,
     "metadata": {},
     "output_type": "execute_result"
    }
   ],
   "source": [
    "precision, recall, thresholds = roc_curve(test_y, pred_y_reg)\n",
    "auc(precision, recall)"
   ]
  },
  {
   "cell_type": "markdown",
   "metadata": {},
   "source": [
    "# アンサンブル(重みを考慮)"
   ]
  },
  {
   "cell_type": "code",
   "execution_count": 131,
   "metadata": {
    "collapsed": true
   },
   "outputs": [],
   "source": [
    "acu_rf = mean_squared_error(test_y, rf_pred_y_reg)\n",
    "acu_bgm = mean_squared_error(test_y, bgm_pred_y_reg)\n",
    "acu_xgb = mean_squared_error(test_y, xgb_pred_y_reg)"
   ]
  },
  {
   "cell_type": "code",
   "execution_count": 132,
   "metadata": {
    "collapsed": true
   },
   "outputs": [],
   "source": [
    "sum_acu = acu_rf + acu_bgm + acu_xgb\n",
    "pred_y_reg = (acu_rf*rf_pred_y_reg + acu_bgm*bgm_pred_y_reg + acu_xgb*xgb_pred_y_reg) / sum_acu"
   ]
  },
  {
   "cell_type": "code",
   "execution_count": 133,
   "metadata": {
    "collapsed": true
   },
   "outputs": [],
   "source": [
    "para_list = [i*0.01 for i in range(1,101)]\n",
    "profit_list = []\n",
    "for para in para_list:\n",
    "    binary_pred_y_reg = []\n",
    "    for j in pred_y_reg:\n",
    "        if j > para:\n",
    "            binary_pred_y_reg.append(1)\n",
    "        elif j <= para:\n",
    "            binary_pred_y_reg.append(0)\n",
    "    profit_list.append(operating_profit_linear(pred_y_reg, binary_pred_y_reg, list(test_y), para)[2])\n",
    "para_list.insert(0, 0)\n",
    "profit_list.insert(0, 0)"
   ]
  },
  {
   "cell_type": "code",
   "execution_count": 134,
   "metadata": {
    "collapsed": false
   },
   "outputs": [
    {
     "data": {
      "image/png": "[encoded data removed]",
      "text/plain": [
       "<matplotlib.figure.Figure at 0x1140788d0>"
      ]
     },
     "metadata": {},
     "output_type": "display_data"
    }
   ],
   "source": [
    "plt.figure()\n",
    "plt.plot(para_list, profit_list, 'o')\n",
    "plt.xlabel('rate')\n",
    "plt.ylabel(\"profit\")\n",
    "plt.show()"
   ]
  },
  {
   "cell_type": "code",
   "execution_count": 135,
   "metadata": {
    "collapsed": false
   },
   "outputs": [
    {
     "name": "stdout",
     "output_type": "stream",
     "text": [
      "2473\n",
      "45\n"
     ]
    }
   ],
   "source": [
    "print(np.max(profit_list))\n",
    "print(np.argmax(profit_list))"
   ]
  },
  {
   "cell_type": "code",
   "execution_count": 136,
   "metadata": {
    "collapsed": true
   },
   "outputs": [],
   "source": [
    "#最大利益の場合をバイナリ化\n",
    "threshold = np.argmax(profit_list)/100\n",
    "binary_pred_y_reg = []\n",
    "for i in pred_y_reg:\n",
    "    if i > threshold:\n",
    "        binary_pred_y_reg.append(1)\n",
    "    elif i <= threshold:\n",
    "        binary_pred_y_reg.append(0)"
   ]
  },
  {
   "cell_type": "code",
   "execution_count": 137,
   "metadata": {
    "collapsed": false
   },
   "outputs": [
    {
     "data": {
      "text/plain": [
       "array([[895,  18],\n",
       "       [129,  21]])"
      ]
     },
     "execution_count": 137,
     "metadata": {},
     "output_type": "execute_result"
    }
   ],
   "source": [
    "#最大利益の場合でRF回帰の結果を0,1に変換した結果\n",
    "confusion_matrix(test_y, binary_pred_y_reg, labels=[0,1])"
   ]
  },
  {
   "cell_type": "code",
   "execution_count": 138,
   "metadata": {
    "collapsed": true
   },
   "outputs": [],
   "source": [
    "para_list = [i*0.01 for i in range(1,101)]\n",
    "profit_list = []\n",
    "for para_n in para_list:\n",
    "    profit_list_m = []\n",
    "    binary_pred_y_reg = []\n",
    "    for j in pred_y_reg:\n",
    "        if j > para_n:\n",
    "            binary_pred_y_reg.append(1)\n",
    "        elif j <= para_n:\n",
    "            binary_pred_y_reg.append(0)\n",
    "    for para_m in para_list:\n",
    "        if para_m < para_n:\n",
    "            profit_list_m.append(operating_profit_linear_ver2(pred_y_reg, binary_pred_y_reg, list(test_y), para_n, para_m)[2])\n",
    "        else:\n",
    "            profit_list_m.append(0)\n",
    "            #profit_list_m.insert(0, 0)\n",
    "    profit_list.append(profit_list_m)\n",
    "#para_list.insert(0, 0)"
   ]
  },
  {
   "cell_type": "code",
   "execution_count": 139,
   "metadata": {
    "collapsed": false
   },
   "outputs": [
    {
     "data": {
      "text/plain": [
       "3366"
      ]
     },
     "execution_count": 139,
     "metadata": {},
     "output_type": "execute_result"
    }
   ],
   "source": [
    "np.max(profit_list)"
   ]
  },
  {
   "cell_type": "code",
   "execution_count": 140,
   "metadata": {
    "collapsed": false
   },
   "outputs": [
    {
     "data": {
      "text/plain": [
       "0.7027090178897407"
      ]
     },
     "execution_count": 140,
     "metadata": {},
     "output_type": "execute_result"
    }
   ],
   "source": [
    "precision, recall, thresholds = roc_curve(test_y, pred_y_reg)\n",
    "auc(precision, recall)"
   ]
  },
  {
   "cell_type": "code",
   "execution_count": null,
   "metadata": {
    "collapsed": true
   },
   "outputs": [],
   "source": []
  }
 ],
 "metadata": {
  "kernelspec": {
   "display_name": "Python [conda env:anaconda3-4.2.0]",
   "language": "python",
   "name": "conda-env-anaconda3-4.2.0-py"
  },
  "language_info": {
   "codemirror_mode": {
    "name": "ipython",
    "version": 3
   },
   "file_extension": ".py",
   "mimetype": "text/x-python",
   "name": "python",
   "nbconvert_exporter": "python",
   "pygments_lexer": "ipython3",
   "version": "3.5.2"
  }
 },
 "nbformat": 4,
 "nbformat_minor": 1
}
